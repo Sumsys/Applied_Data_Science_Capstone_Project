{
 "cells": [
  {
   "cell_type": "markdown",
   "metadata": {},
   "source": [
    "# Neighbourhoods in Mumbai"
   ]
  },
  {
   "cell_type": "code",
   "execution_count": 1,
   "metadata": {},
   "outputs": [
    {
     "name": "stderr",
     "output_type": "stream",
     "text": [
      "C:\\ProgramData\\Anaconda3\\lib\\site-packages\\sklearn\\utils\\deprecation.py:144: FutureWarning: The sklearn.datasets.samples_generator module is  deprecated in version 0.22 and will be removed in version 0.24. The corresponding classes / functions should instead be imported from sklearn.datasets. Anything that cannot be imported from sklearn.datasets is now part of the private API.\n",
      "  warnings.warn(message, FutureWarning)\n"
     ]
    }
   ],
   "source": [
    "import requests # library to handle requests\n",
    "import pandas as pd # library for data analsysis\n",
    "import numpy as np # library to handle data in a vectorized manner\n",
    "import random # library for random number generation\n",
    "pd.set_option('display.max_columns', None)\n",
    "pd.set_option('display.max_rows', None)\n",
    "\n",
    "import json # library to handle JSON files\n",
    "from geopy.geocoders import Nominatim # module to convert an address into latitude and longitude values\n",
    "\n",
    "# libraries for displaying images\n",
    "from IPython.display import Image \n",
    "from IPython.core.display import HTML \n",
    "\n",
    "# tranforming json file into a pandas dataframe library\n",
    "from pandas.io.json import json_normalize\n",
    "import folium # plotting library\n",
    "\n",
    "# import k-means from clustering stage\n",
    "from sklearn.cluster import KMeans\n",
    "from sklearn.datasets.samples_generator import make_blobs\n",
    "\n",
    "# Matplotlib and associated plotting modules\n",
    "import matplotlib.cm as cm\n",
    "import matplotlib.colors as colors"
   ]
  },
  {
   "cell_type": "code",
   "execution_count": 2,
   "metadata": {},
   "outputs": [
    {
     "data": {
      "text/html": [
       "<div>\n",
       "<style scoped>\n",
       "    .dataframe tbody tr th:only-of-type {\n",
       "        vertical-align: middle;\n",
       "    }\n",
       "\n",
       "    .dataframe tbody tr th {\n",
       "        vertical-align: top;\n",
       "    }\n",
       "\n",
       "    .dataframe thead th {\n",
       "        text-align: right;\n",
       "    }\n",
       "</style>\n",
       "<table border=\"1\" class=\"dataframe\">\n",
       "  <thead>\n",
       "    <tr style=\"text-align: right;\">\n",
       "      <th></th>\n",
       "      <th>Suburbs</th>\n",
       "      <th>Neighborhood</th>\n",
       "      <th>Suburbs_Zone</th>\n",
       "      <th>Latitude</th>\n",
       "      <th>Longitude</th>\n",
       "    </tr>\n",
       "  </thead>\n",
       "  <tbody>\n",
       "    <tr>\n",
       "      <th>0</th>\n",
       "      <td>Andheri</td>\n",
       "      <td>Andheri</td>\n",
       "      <td>Western Suburbs</td>\n",
       "      <td>19.119000</td>\n",
       "      <td>72.847000</td>\n",
       "    </tr>\n",
       "    <tr>\n",
       "      <th>1</th>\n",
       "      <td>Andheri</td>\n",
       "      <td>Marol</td>\n",
       "      <td>Western Suburbs</td>\n",
       "      <td>19.117300</td>\n",
       "      <td>72.884000</td>\n",
       "    </tr>\n",
       "    <tr>\n",
       "      <th>2</th>\n",
       "      <td>Bhayandar</td>\n",
       "      <td>Bhayandar</td>\n",
       "      <td>Western Suburbs</td>\n",
       "      <td>19.290000</td>\n",
       "      <td>72.850000</td>\n",
       "    </tr>\n",
       "    <tr>\n",
       "      <th>3</th>\n",
       "      <td>Bandra</td>\n",
       "      <td>Bandra</td>\n",
       "      <td>Western Suburbs</td>\n",
       "      <td>19.054444</td>\n",
       "      <td>72.840556</td>\n",
       "    </tr>\n",
       "    <tr>\n",
       "      <th>4</th>\n",
       "      <td>Borivali (West)</td>\n",
       "      <td>Borivali (West)</td>\n",
       "      <td>Western Suburbs</td>\n",
       "      <td>19.238100</td>\n",
       "      <td>72.852300</td>\n",
       "    </tr>\n",
       "    <tr>\n",
       "      <th>5</th>\n",
       "      <td>Borivali (East)</td>\n",
       "      <td>Borivali (East)</td>\n",
       "      <td>Western Suburbs</td>\n",
       "      <td>19.229800</td>\n",
       "      <td>72.860900</td>\n",
       "    </tr>\n",
       "    <tr>\n",
       "      <th>6</th>\n",
       "      <td>Dahisar</td>\n",
       "      <td>Dahisar</td>\n",
       "      <td>Western Suburbs</td>\n",
       "      <td>19.250069</td>\n",
       "      <td>72.859347</td>\n",
       "    </tr>\n",
       "    <tr>\n",
       "      <th>7</th>\n",
       "      <td>Goregaon</td>\n",
       "      <td>Goregaon</td>\n",
       "      <td>Western Suburbs</td>\n",
       "      <td>19.155000</td>\n",
       "      <td>72.850000</td>\n",
       "    </tr>\n",
       "    <tr>\n",
       "      <th>8</th>\n",
       "      <td>Jogeshwari</td>\n",
       "      <td>Jogeshwari</td>\n",
       "      <td>Western Suburbs</td>\n",
       "      <td>19.143900</td>\n",
       "      <td>72.842800</td>\n",
       "    </tr>\n",
       "    <tr>\n",
       "      <th>9</th>\n",
       "      <td>Juhu</td>\n",
       "      <td>Juhu</td>\n",
       "      <td>Western Suburbs</td>\n",
       "      <td>19.100000</td>\n",
       "      <td>72.830000</td>\n",
       "    </tr>\n",
       "    <tr>\n",
       "      <th>10</th>\n",
       "      <td>Kandivali west</td>\n",
       "      <td>Kandivali west</td>\n",
       "      <td>Western Suburbs</td>\n",
       "      <td>19.199800</td>\n",
       "      <td>72.842600</td>\n",
       "    </tr>\n",
       "    <tr>\n",
       "      <th>11</th>\n",
       "      <td>Kandivali east</td>\n",
       "      <td>Kandivali east</td>\n",
       "      <td>Western Suburbs</td>\n",
       "      <td>19.200500</td>\n",
       "      <td>72.873700</td>\n",
       "    </tr>\n",
       "    <tr>\n",
       "      <th>12</th>\n",
       "      <td>Khar</td>\n",
       "      <td>Khar</td>\n",
       "      <td>Western Suburbs</td>\n",
       "      <td>19.068598</td>\n",
       "      <td>72.840042</td>\n",
       "    </tr>\n",
       "    <tr>\n",
       "      <th>13</th>\n",
       "      <td>Malad</td>\n",
       "      <td>Malad</td>\n",
       "      <td>Western Suburbs</td>\n",
       "      <td>19.186111</td>\n",
       "      <td>72.848611</td>\n",
       "    </tr>\n",
       "    <tr>\n",
       "      <th>14</th>\n",
       "      <td>Santacruz</td>\n",
       "      <td>Santacruz</td>\n",
       "      <td>Western Suburbs</td>\n",
       "      <td>19.081667</td>\n",
       "      <td>72.841389</td>\n",
       "    </tr>\n",
       "    <tr>\n",
       "      <th>15</th>\n",
       "      <td>Vasai</td>\n",
       "      <td>Vasai</td>\n",
       "      <td>Western Suburbs</td>\n",
       "      <td>19.391900</td>\n",
       "      <td>72.839700</td>\n",
       "    </tr>\n",
       "    <tr>\n",
       "      <th>16</th>\n",
       "      <td>Vasai</td>\n",
       "      <td>Naigaon</td>\n",
       "      <td>Western Suburbs</td>\n",
       "      <td>19.351467</td>\n",
       "      <td>72.846343</td>\n",
       "    </tr>\n",
       "    <tr>\n",
       "      <th>17</th>\n",
       "      <td>Vasai</td>\n",
       "      <td>Nalasopara</td>\n",
       "      <td>Western Suburbs</td>\n",
       "      <td>19.419900</td>\n",
       "      <td>72.811700</td>\n",
       "    </tr>\n",
       "    <tr>\n",
       "      <th>18</th>\n",
       "      <td>Virar</td>\n",
       "      <td>Virar</td>\n",
       "      <td>Western Suburbs</td>\n",
       "      <td>19.456400</td>\n",
       "      <td>72.792500</td>\n",
       "    </tr>\n",
       "    <tr>\n",
       "      <th>19</th>\n",
       "      <td>Vile Parle</td>\n",
       "      <td>Vile Parle</td>\n",
       "      <td>Western Suburbs</td>\n",
       "      <td>19.096800</td>\n",
       "      <td>72.851700</td>\n",
       "    </tr>\n",
       "    <tr>\n",
       "      <th>20</th>\n",
       "      <td>Bhandup</td>\n",
       "      <td>Bhandup</td>\n",
       "      <td>Eastern Suburbs</td>\n",
       "      <td>19.151100</td>\n",
       "      <td>72.937200</td>\n",
       "    </tr>\n",
       "    <tr>\n",
       "      <th>21</th>\n",
       "      <td>Ghatkopar</td>\n",
       "      <td>Ghatkopar</td>\n",
       "      <td>Eastern Suburbs</td>\n",
       "      <td>19.080000</td>\n",
       "      <td>72.910000</td>\n",
       "    </tr>\n",
       "    <tr>\n",
       "      <th>22</th>\n",
       "      <td>Kanjurmarg</td>\n",
       "      <td>Kanjurmarg</td>\n",
       "      <td>Eastern Suburbs</td>\n",
       "      <td>19.129400</td>\n",
       "      <td>72.933000</td>\n",
       "    </tr>\n",
       "    <tr>\n",
       "      <th>23</th>\n",
       "      <td>Kurla</td>\n",
       "      <td>Kurla</td>\n",
       "      <td>Eastern Suburbs</td>\n",
       "      <td>19.072600</td>\n",
       "      <td>72.884500</td>\n",
       "    </tr>\n",
       "    <tr>\n",
       "      <th>24</th>\n",
       "      <td>Mulund</td>\n",
       "      <td>Mulund</td>\n",
       "      <td>Eastern Suburbs</td>\n",
       "      <td>19.171680</td>\n",
       "      <td>72.956000</td>\n",
       "    </tr>\n",
       "    <tr>\n",
       "      <th>25</th>\n",
       "      <td>Powai</td>\n",
       "      <td>Powai</td>\n",
       "      <td>Eastern Suburbs</td>\n",
       "      <td>19.120000</td>\n",
       "      <td>72.910000</td>\n",
       "    </tr>\n",
       "    <tr>\n",
       "      <th>26</th>\n",
       "      <td>Vidyavihar</td>\n",
       "      <td>Vidyavihar</td>\n",
       "      <td>Eastern Suburbs</td>\n",
       "      <td>19.079800</td>\n",
       "      <td>72.897300</td>\n",
       "    </tr>\n",
       "    <tr>\n",
       "      <th>27</th>\n",
       "      <td>Vikhroli</td>\n",
       "      <td>Vikhroli</td>\n",
       "      <td>Eastern Suburbs</td>\n",
       "      <td>19.114200</td>\n",
       "      <td>72.935800</td>\n",
       "    </tr>\n",
       "    <tr>\n",
       "      <th>28</th>\n",
       "      <td>Chembur</td>\n",
       "      <td>Chembur</td>\n",
       "      <td>Harbour Suburbs</td>\n",
       "      <td>19.052200</td>\n",
       "      <td>72.900500</td>\n",
       "    </tr>\n",
       "    <tr>\n",
       "      <th>29</th>\n",
       "      <td>Govandi</td>\n",
       "      <td>Govandi</td>\n",
       "      <td>Harbour Suburbs</td>\n",
       "      <td>19.053500</td>\n",
       "      <td>72.923900</td>\n",
       "    </tr>\n",
       "    <tr>\n",
       "      <th>30</th>\n",
       "      <td>Mankhurd</td>\n",
       "      <td>Mankhurd</td>\n",
       "      <td>Harbour Suburbs</td>\n",
       "      <td>19.051300</td>\n",
       "      <td>72.936800</td>\n",
       "    </tr>\n",
       "    <tr>\n",
       "      <th>31</th>\n",
       "      <td>Trombay</td>\n",
       "      <td>Trombay</td>\n",
       "      <td>Harbour Suburbs</td>\n",
       "      <td>19.009300</td>\n",
       "      <td>72.898400</td>\n",
       "    </tr>\n",
       "    <tr>\n",
       "      <th>32</th>\n",
       "      <td>Agripada</td>\n",
       "      <td>Agripada</td>\n",
       "      <td>South Mumbai</td>\n",
       "      <td>18.977700</td>\n",
       "      <td>72.827300</td>\n",
       "    </tr>\n",
       "    <tr>\n",
       "      <th>33</th>\n",
       "      <td>Churchgate</td>\n",
       "      <td>Churchgate</td>\n",
       "      <td>South Mumbai</td>\n",
       "      <td>18.932200</td>\n",
       "      <td>72.826400</td>\n",
       "    </tr>\n",
       "    <tr>\n",
       "      <th>34</th>\n",
       "      <td>Cotton Green</td>\n",
       "      <td>Cotton Green</td>\n",
       "      <td>South Mumbai</td>\n",
       "      <td>18.986209</td>\n",
       "      <td>72.844076</td>\n",
       "    </tr>\n",
       "    <tr>\n",
       "      <th>35</th>\n",
       "      <td>Cuffe Parade</td>\n",
       "      <td>Cuffe Parade</td>\n",
       "      <td>South Mumbai</td>\n",
       "      <td>18.910000</td>\n",
       "      <td>72.810000</td>\n",
       "    </tr>\n",
       "    <tr>\n",
       "      <th>36</th>\n",
       "      <td>Cumbala Hill</td>\n",
       "      <td>Cumbala Hill</td>\n",
       "      <td>South Mumbai</td>\n",
       "      <td>18.971900</td>\n",
       "      <td>72.805000</td>\n",
       "    </tr>\n",
       "    <tr>\n",
       "      <th>37</th>\n",
       "      <td>Dhobitalao</td>\n",
       "      <td>Dhobitalao</td>\n",
       "      <td>South Mumbai</td>\n",
       "      <td>18.943300</td>\n",
       "      <td>72.828600</td>\n",
       "    </tr>\n",
       "    <tr>\n",
       "      <th>38</th>\n",
       "      <td>Dongri</td>\n",
       "      <td>Dongri</td>\n",
       "      <td>South Mumbai</td>\n",
       "      <td>18.959800</td>\n",
       "      <td>72.837800</td>\n",
       "    </tr>\n",
       "    <tr>\n",
       "      <th>39</th>\n",
       "      <td>Kala Ghoda</td>\n",
       "      <td>Kala Ghoda</td>\n",
       "      <td>South Mumbai</td>\n",
       "      <td>18.930700</td>\n",
       "      <td>72.833100</td>\n",
       "    </tr>\n",
       "    <tr>\n",
       "      <th>40</th>\n",
       "      <td>Lower Parel</td>\n",
       "      <td>Lower Parel</td>\n",
       "      <td>South Mumbai</td>\n",
       "      <td>18.997700</td>\n",
       "      <td>72.837600</td>\n",
       "    </tr>\n",
       "    <tr>\n",
       "      <th>41</th>\n",
       "      <td>Mahalaxmi</td>\n",
       "      <td>Mahalaxmi</td>\n",
       "      <td>South Mumbai</td>\n",
       "      <td>18.986500</td>\n",
       "      <td>72.818300</td>\n",
       "    </tr>\n",
       "    <tr>\n",
       "      <th>42</th>\n",
       "      <td>Mahim</td>\n",
       "      <td>Mahim</td>\n",
       "      <td>South Mumbai</td>\n",
       "      <td>19.035000</td>\n",
       "      <td>72.840000</td>\n",
       "    </tr>\n",
       "    <tr>\n",
       "      <th>43</th>\n",
       "      <td>Malabar Hill</td>\n",
       "      <td>Malabar Hill</td>\n",
       "      <td>South Mumbai</td>\n",
       "      <td>18.950000</td>\n",
       "      <td>72.795000</td>\n",
       "    </tr>\n",
       "    <tr>\n",
       "      <th>44</th>\n",
       "      <td>Marine Lines</td>\n",
       "      <td>Marine Lines</td>\n",
       "      <td>South Mumbai</td>\n",
       "      <td>18.944700</td>\n",
       "      <td>72.824400</td>\n",
       "    </tr>\n",
       "    <tr>\n",
       "      <th>45</th>\n",
       "      <td>Mumbai Central</td>\n",
       "      <td>Mumbai Central</td>\n",
       "      <td>South Mumbai</td>\n",
       "      <td>18.969700</td>\n",
       "      <td>72.819400</td>\n",
       "    </tr>\n",
       "    <tr>\n",
       "      <th>46</th>\n",
       "      <td>Nariman Point</td>\n",
       "      <td>Nariman Point</td>\n",
       "      <td>South Mumbai</td>\n",
       "      <td>18.926000</td>\n",
       "      <td>72.823000</td>\n",
       "    </tr>\n",
       "    <tr>\n",
       "      <th>47</th>\n",
       "      <td>Prabhadevi</td>\n",
       "      <td>Prabhadevi</td>\n",
       "      <td>South Mumbai</td>\n",
       "      <td>19.016600</td>\n",
       "      <td>72.829500</td>\n",
       "    </tr>\n",
       "    <tr>\n",
       "      <th>48</th>\n",
       "      <td>Sion</td>\n",
       "      <td>Sion</td>\n",
       "      <td>South Mumbai</td>\n",
       "      <td>19.040000</td>\n",
       "      <td>72.860000</td>\n",
       "    </tr>\n",
       "    <tr>\n",
       "      <th>49</th>\n",
       "      <td>Worli</td>\n",
       "      <td>Worli</td>\n",
       "      <td>South Mumbai</td>\n",
       "      <td>19.000000</td>\n",
       "      <td>72.815000</td>\n",
       "    </tr>\n",
       "    <tr>\n",
       "      <th>50</th>\n",
       "      <td>Dharavi</td>\n",
       "      <td>Dharavi</td>\n",
       "      <td>South Mumbai</td>\n",
       "      <td>19.040208</td>\n",
       "      <td>72.850850</td>\n",
       "    </tr>\n",
       "    <tr>\n",
       "      <th>51</th>\n",
       "      <td>Koliwada</td>\n",
       "      <td>Koliwada</td>\n",
       "      <td>South Mumbai</td>\n",
       "      <td>19.039900</td>\n",
       "      <td>72.870700</td>\n",
       "    </tr>\n",
       "    <tr>\n",
       "      <th>52</th>\n",
       "      <td>Kumbarwara</td>\n",
       "      <td>Kumbarwara</td>\n",
       "      <td>South Mumbai</td>\n",
       "      <td>18.959900</td>\n",
       "      <td>72.829400</td>\n",
       "    </tr>\n",
       "    <tr>\n",
       "      <th>53</th>\n",
       "      <td>Antop Hill</td>\n",
       "      <td>Antop Hill</td>\n",
       "      <td>South Mumbai</td>\n",
       "      <td>19.022220</td>\n",
       "      <td>72.866564</td>\n",
       "    </tr>\n",
       "    <tr>\n",
       "      <th>54</th>\n",
       "      <td>Byculla</td>\n",
       "      <td>Byculla</td>\n",
       "      <td>South Mumbai</td>\n",
       "      <td>18.980000</td>\n",
       "      <td>72.835000</td>\n",
       "    </tr>\n",
       "    <tr>\n",
       "      <th>55</th>\n",
       "      <td>Colaba</td>\n",
       "      <td>Colaba</td>\n",
       "      <td>South Mumbai</td>\n",
       "      <td>18.910000</td>\n",
       "      <td>72.810000</td>\n",
       "    </tr>\n",
       "    <tr>\n",
       "      <th>56</th>\n",
       "      <td>Dadar</td>\n",
       "      <td>Dadar</td>\n",
       "      <td>South Mumbai</td>\n",
       "      <td>19.021000</td>\n",
       "      <td>72.841000</td>\n",
       "    </tr>\n",
       "    <tr>\n",
       "      <th>57</th>\n",
       "      <td>Fort</td>\n",
       "      <td>Fort</td>\n",
       "      <td>South Mumbai</td>\n",
       "      <td>18.935000</td>\n",
       "      <td>72.835900</td>\n",
       "    </tr>\n",
       "    <tr>\n",
       "      <th>58</th>\n",
       "      <td>Girgaon</td>\n",
       "      <td>Girgaon</td>\n",
       "      <td>South Mumbai</td>\n",
       "      <td>18.953000</td>\n",
       "      <td>72.813000</td>\n",
       "    </tr>\n",
       "    <tr>\n",
       "      <th>59</th>\n",
       "      <td>Kalbadevi</td>\n",
       "      <td>Kalbadevi</td>\n",
       "      <td>South Mumbai</td>\n",
       "      <td>18.955000</td>\n",
       "      <td>72.835000</td>\n",
       "    </tr>\n",
       "    <tr>\n",
       "      <th>60</th>\n",
       "      <td>Kamathipura</td>\n",
       "      <td>Kamathipura</td>\n",
       "      <td>South Mumbai</td>\n",
       "      <td>18.960000</td>\n",
       "      <td>72.820000</td>\n",
       "    </tr>\n",
       "    <tr>\n",
       "      <th>61</th>\n",
       "      <td>Parel</td>\n",
       "      <td>Parel</td>\n",
       "      <td>South Mumbai</td>\n",
       "      <td>18.990000</td>\n",
       "      <td>72.840000</td>\n",
       "    </tr>\n",
       "    <tr>\n",
       "      <th>62</th>\n",
       "      <td>Tardeo</td>\n",
       "      <td>Tardeo</td>\n",
       "      <td>South Mumbai</td>\n",
       "      <td>18.969000</td>\n",
       "      <td>72.813000</td>\n",
       "    </tr>\n",
       "  </tbody>\n",
       "</table>\n",
       "</div>"
      ],
      "text/plain": [
       "            Suburbs     Neighborhood     Suburbs_Zone   Latitude  Longitude\n",
       "0           Andheri          Andheri  Western Suburbs  19.119000  72.847000\n",
       "1           Andheri            Marol  Western Suburbs  19.117300  72.884000\n",
       "2         Bhayandar        Bhayandar  Western Suburbs  19.290000  72.850000\n",
       "3            Bandra           Bandra  Western Suburbs  19.054444  72.840556\n",
       "4   Borivali (West)  Borivali (West)  Western Suburbs  19.238100  72.852300\n",
       "5   Borivali (East)  Borivali (East)  Western Suburbs  19.229800  72.860900\n",
       "6           Dahisar          Dahisar  Western Suburbs  19.250069  72.859347\n",
       "7          Goregaon         Goregaon  Western Suburbs  19.155000  72.850000\n",
       "8        Jogeshwari       Jogeshwari  Western Suburbs  19.143900  72.842800\n",
       "9              Juhu             Juhu  Western Suburbs  19.100000  72.830000\n",
       "10   Kandivali west   Kandivali west  Western Suburbs  19.199800  72.842600\n",
       "11   Kandivali east   Kandivali east  Western Suburbs  19.200500  72.873700\n",
       "12             Khar             Khar  Western Suburbs  19.068598  72.840042\n",
       "13            Malad            Malad  Western Suburbs  19.186111  72.848611\n",
       "14        Santacruz        Santacruz  Western Suburbs  19.081667  72.841389\n",
       "15            Vasai            Vasai  Western Suburbs  19.391900  72.839700\n",
       "16            Vasai          Naigaon  Western Suburbs  19.351467  72.846343\n",
       "17            Vasai       Nalasopara  Western Suburbs  19.419900  72.811700\n",
       "18            Virar            Virar  Western Suburbs  19.456400  72.792500\n",
       "19       Vile Parle       Vile Parle  Western Suburbs  19.096800  72.851700\n",
       "20          Bhandup          Bhandup  Eastern Suburbs  19.151100  72.937200\n",
       "21        Ghatkopar        Ghatkopar  Eastern Suburbs  19.080000  72.910000\n",
       "22       Kanjurmarg       Kanjurmarg  Eastern Suburbs  19.129400  72.933000\n",
       "23            Kurla            Kurla  Eastern Suburbs  19.072600  72.884500\n",
       "24           Mulund           Mulund  Eastern Suburbs  19.171680  72.956000\n",
       "25            Powai            Powai  Eastern Suburbs  19.120000  72.910000\n",
       "26       Vidyavihar       Vidyavihar  Eastern Suburbs  19.079800  72.897300\n",
       "27         Vikhroli         Vikhroli  Eastern Suburbs  19.114200  72.935800\n",
       "28          Chembur          Chembur  Harbour Suburbs  19.052200  72.900500\n",
       "29          Govandi          Govandi  Harbour Suburbs  19.053500  72.923900\n",
       "30         Mankhurd         Mankhurd  Harbour Suburbs  19.051300  72.936800\n",
       "31          Trombay          Trombay  Harbour Suburbs  19.009300  72.898400\n",
       "32         Agripada         Agripada     South Mumbai  18.977700  72.827300\n",
       "33       Churchgate       Churchgate     South Mumbai  18.932200  72.826400\n",
       "34     Cotton Green     Cotton Green     South Mumbai  18.986209  72.844076\n",
       "35     Cuffe Parade     Cuffe Parade     South Mumbai  18.910000  72.810000\n",
       "36     Cumbala Hill     Cumbala Hill     South Mumbai  18.971900  72.805000\n",
       "37       Dhobitalao       Dhobitalao     South Mumbai  18.943300  72.828600\n",
       "38           Dongri           Dongri     South Mumbai  18.959800  72.837800\n",
       "39       Kala Ghoda       Kala Ghoda     South Mumbai  18.930700  72.833100\n",
       "40      Lower Parel      Lower Parel     South Mumbai  18.997700  72.837600\n",
       "41        Mahalaxmi        Mahalaxmi     South Mumbai  18.986500  72.818300\n",
       "42            Mahim            Mahim     South Mumbai  19.035000  72.840000\n",
       "43     Malabar Hill     Malabar Hill     South Mumbai  18.950000  72.795000\n",
       "44     Marine Lines     Marine Lines     South Mumbai  18.944700  72.824400\n",
       "45   Mumbai Central   Mumbai Central     South Mumbai  18.969700  72.819400\n",
       "46    Nariman Point    Nariman Point     South Mumbai  18.926000  72.823000\n",
       "47       Prabhadevi       Prabhadevi     South Mumbai  19.016600  72.829500\n",
       "48             Sion             Sion     South Mumbai  19.040000  72.860000\n",
       "49            Worli            Worli     South Mumbai  19.000000  72.815000\n",
       "50          Dharavi          Dharavi     South Mumbai  19.040208  72.850850\n",
       "51         Koliwada         Koliwada     South Mumbai  19.039900  72.870700\n",
       "52       Kumbarwara       Kumbarwara     South Mumbai  18.959900  72.829400\n",
       "53       Antop Hill       Antop Hill     South Mumbai  19.022220  72.866564\n",
       "54          Byculla          Byculla     South Mumbai  18.980000  72.835000\n",
       "55           Colaba           Colaba     South Mumbai  18.910000  72.810000\n",
       "56            Dadar            Dadar     South Mumbai  19.021000  72.841000\n",
       "57             Fort             Fort     South Mumbai  18.935000  72.835900\n",
       "58          Girgaon          Girgaon     South Mumbai  18.953000  72.813000\n",
       "59        Kalbadevi        Kalbadevi     South Mumbai  18.955000  72.835000\n",
       "60      Kamathipura      Kamathipura     South Mumbai  18.960000  72.820000\n",
       "61            Parel            Parel     South Mumbai  18.990000  72.840000\n",
       "62           Tardeo           Tardeo     South Mumbai  18.969000  72.813000"
      ]
     },
     "execution_count": 2,
     "metadata": {},
     "output_type": "execute_result"
    }
   ],
   "source": [
    "colors_old = { 'Western Suburbs':'red','Eastern Suburbs':'blue','Harbour Suburbs':'purple','South Mumbai':'green',}\n",
    "df=pd.read_excel('Neighbourhoods_in_Mumbai.xlsx')\n",
    "df"
   ]
  },
  {
   "cell_type": "code",
   "execution_count": 3,
   "metadata": {},
   "outputs": [
    {
     "name": "stdout",
     "output_type": "stream",
     "text": [
      "19.13095765 72.88593095460952\n"
     ]
    }
   ],
   "source": [
    "address = 'Mumbai Suburban'\n",
    "\n",
    "geolocator = Nominatim(user_agent=\"foursquare_agent\")\n",
    "location = geolocator.geocode(address)\n",
    "latitude = location.latitude\n",
    "longitude = location.longitude\n",
    "print(latitude, longitude)"
   ]
  },
  {
   "cell_type": "code",
   "execution_count": 4,
   "metadata": {},
   "outputs": [
    {
     "data": {
      "text/html": [
       "<div style=\"width:100%;\"><div style=\"position:relative;width:100%;height:0;padding-bottom:60%;\"><iframe src=\"about:blank\" style=\"position:absolute;width:100%;height:100%;left:0;top:0;border:none !important;\" data-html=PCFET0NUWVBFIGh0bWw+CjxoZWFkPiAgICAKICAgIDxtZXRhIGh0dHAtZXF1aXY9ImNvbnRlbnQtdHlwZSIgY29udGVudD0idGV4dC9odG1sOyBjaGFyc2V0PVVURi04IiAvPgogICAgPHNjcmlwdD5MX1BSRUZFUl9DQU5WQVMgPSBmYWxzZTsgTF9OT19UT1VDSCA9IGZhbHNlOyBMX0RJU0FCTEVfM0QgPSBmYWxzZTs8L3NjcmlwdD4KICAgIDxzY3JpcHQgc3JjPSJodHRwczovL2Nkbi5qc2RlbGl2ci5uZXQvbnBtL2xlYWZsZXRAMS4yLjAvZGlzdC9sZWFmbGV0LmpzIj48L3NjcmlwdD4KICAgIDxzY3JpcHQgc3JjPSJodHRwczovL2FqYXguZ29vZ2xlYXBpcy5jb20vYWpheC9saWJzL2pxdWVyeS8xLjExLjEvanF1ZXJ5Lm1pbi5qcyI+PC9zY3JpcHQ+CiAgICA8c2NyaXB0IHNyYz0iaHR0cHM6Ly9tYXhjZG4uYm9vdHN0cmFwY2RuLmNvbS9ib290c3RyYXAvMy4yLjAvanMvYm9vdHN0cmFwLm1pbi5qcyI+PC9zY3JpcHQ+CiAgICA8c2NyaXB0IHNyYz0iaHR0cHM6Ly9jZG5qcy5jbG91ZGZsYXJlLmNvbS9hamF4L2xpYnMvTGVhZmxldC5hd2Vzb21lLW1hcmtlcnMvMi4wLjIvbGVhZmxldC5hd2Vzb21lLW1hcmtlcnMuanMiPjwvc2NyaXB0PgogICAgPGxpbmsgcmVsPSJzdHlsZXNoZWV0IiBocmVmPSJodHRwczovL2Nkbi5qc2RlbGl2ci5uZXQvbnBtL2xlYWZsZXRAMS4yLjAvZGlzdC9sZWFmbGV0LmNzcyIvPgogICAgPGxpbmsgcmVsPSJzdHlsZXNoZWV0IiBocmVmPSJodHRwczovL21heGNkbi5ib290c3RyYXBjZG4uY29tL2Jvb3RzdHJhcC8zLjIuMC9jc3MvYm9vdHN0cmFwLm1pbi5jc3MiLz4KICAgIDxsaW5rIHJlbD0ic3R5bGVzaGVldCIgaHJlZj0iaHR0cHM6Ly9tYXhjZG4uYm9vdHN0cmFwY2RuLmNvbS9ib290c3RyYXAvMy4yLjAvY3NzL2Jvb3RzdHJhcC10aGVtZS5taW4uY3NzIi8+CiAgICA8bGluayByZWw9InN0eWxlc2hlZXQiIGhyZWY9Imh0dHBzOi8vbWF4Y2RuLmJvb3RzdHJhcGNkbi5jb20vZm9udC1hd2Vzb21lLzQuNi4zL2Nzcy9mb250LWF3ZXNvbWUubWluLmNzcyIvPgogICAgPGxpbmsgcmVsPSJzdHlsZXNoZWV0IiBocmVmPSJodHRwczovL2NkbmpzLmNsb3VkZmxhcmUuY29tL2FqYXgvbGlicy9MZWFmbGV0LmF3ZXNvbWUtbWFya2Vycy8yLjAuMi9sZWFmbGV0LmF3ZXNvbWUtbWFya2Vycy5jc3MiLz4KICAgIDxsaW5rIHJlbD0ic3R5bGVzaGVldCIgaHJlZj0iaHR0cHM6Ly9yYXdnaXQuY29tL3B5dGhvbi12aXN1YWxpemF0aW9uL2ZvbGl1bS9tYXN0ZXIvZm9saXVtL3RlbXBsYXRlcy9sZWFmbGV0LmF3ZXNvbWUucm90YXRlLmNzcyIvPgogICAgPHN0eWxlPmh0bWwsIGJvZHkge3dpZHRoOiAxMDAlO2hlaWdodDogMTAwJTttYXJnaW46IDA7cGFkZGluZzogMDt9PC9zdHlsZT4KICAgIDxzdHlsZT4jbWFwIHtwb3NpdGlvbjphYnNvbHV0ZTt0b3A6MDtib3R0b206MDtyaWdodDowO2xlZnQ6MDt9PC9zdHlsZT4KICAgIAogICAgICAgICAgICA8c3R5bGU+ICNtYXBfZTllMjM5ZjRhODVhNGFmM2IzZjc4YWI1NTEzZmNlODggewogICAgICAgICAgICAgICAgcG9zaXRpb24gOiByZWxhdGl2ZTsKICAgICAgICAgICAgICAgIHdpZHRoIDogMTAwLjAlOwogICAgICAgICAgICAgICAgaGVpZ2h0OiAxMDAuMCU7CiAgICAgICAgICAgICAgICBsZWZ0OiAwLjAlOwogICAgICAgICAgICAgICAgdG9wOiAwLjAlOwogICAgICAgICAgICAgICAgfQogICAgICAgICAgICA8L3N0eWxlPgogICAgICAgIAo8L2hlYWQ+Cjxib2R5PiAgICAKICAgIAogICAgICAgICAgICA8ZGl2IGNsYXNzPSJmb2xpdW0tbWFwIiBpZD0ibWFwX2U5ZTIzOWY0YTg1YTRhZjNiM2Y3OGFiNTUxM2ZjZTg4IiA+PC9kaXY+CiAgICAgICAgCjwvYm9keT4KPHNjcmlwdD4gICAgCiAgICAKCiAgICAgICAgICAgIAogICAgICAgICAgICAgICAgdmFyIGJvdW5kcyA9IG51bGw7CiAgICAgICAgICAgIAoKICAgICAgICAgICAgdmFyIG1hcF9lOWUyMzlmNGE4NWE0YWYzYjNmNzhhYjU1MTNmY2U4OCA9IEwubWFwKAogICAgICAgICAgICAgICAgICAgICAgICAgICAgICAgICAgJ21hcF9lOWUyMzlmNGE4NWE0YWYzYjNmNzhhYjU1MTNmY2U4OCcsCiAgICAgICAgICAgICAgICAgICAgICAgICAgICAgICAgICB7Y2VudGVyOiBbMTkuMTMwOTU3NjUsNzIuODg1OTMwOTU0NjA5NTJdLAogICAgICAgICAgICAgICAgICAgICAgICAgICAgICAgICAgem9vbTogMTAsCiAgICAgICAgICAgICAgICAgICAgICAgICAgICAgICAgICBtYXhCb3VuZHM6IGJvdW5kcywKICAgICAgICAgICAgICAgICAgICAgICAgICAgICAgICAgIGxheWVyczogW10sCiAgICAgICAgICAgICAgICAgICAgICAgICAgICAgICAgICB3b3JsZENvcHlKdW1wOiBmYWxzZSwKICAgICAgICAgICAgICAgICAgICAgICAgICAgICAgICAgIGNyczogTC5DUlMuRVBTRzM4NTcKICAgICAgICAgICAgICAgICAgICAgICAgICAgICAgICAgfSk7CiAgICAgICAgICAgIAogICAgICAgIAogICAgCiAgICAgICAgICAgIHZhciB0aWxlX2xheWVyX2RhZDkzZTdmOTNjNjRkMzNiMGY0M2RiNDdjYWY5ZDBhID0gTC50aWxlTGF5ZXIoCiAgICAgICAgICAgICAgICAnaHR0cHM6Ly97c30udGlsZS5vcGVuc3RyZWV0bWFwLm9yZy97en0ve3h9L3t5fS5wbmcnLAogICAgICAgICAgICAgICAgewogICJhdHRyaWJ1dGlvbiI6IG51bGwsCiAgImRldGVjdFJldGluYSI6IGZhbHNlLAogICJtYXhab29tIjogMTgsCiAgIm1pblpvb20iOiAxLAogICJub1dyYXAiOiBmYWxzZSwKICAic3ViZG9tYWlucyI6ICJhYmMiCn0KICAgICAgICAgICAgICAgICkuYWRkVG8obWFwX2U5ZTIzOWY0YTg1YTRhZjNiM2Y3OGFiNTUxM2ZjZTg4KTsKICAgICAgICAKICAgIAogICAgICAgICAgICB2YXIgY2lyY2xlX21hcmtlcl81NmNjYmE2NmMwY2Y0Y2VmOWMwNGI3YzMwMzk1YmUyMiA9IEwuY2lyY2xlTWFya2VyKAogICAgICAgICAgICAgICAgWzE5LjExOSw3Mi44NDddLAogICAgICAgICAgICAgICAgewogICJidWJibGluZ01vdXNlRXZlbnRzIjogdHJ1ZSwKICAiY29sb3IiOiAicmVkIiwKICAiZGFzaEFycmF5IjogbnVsbCwKICAiZGFzaE9mZnNldCI6IG51bGwsCiAgImZpbGwiOiB0cnVlLAogICJmaWxsQ29sb3IiOiAicmVkIiwKICAiZmlsbE9wYWNpdHkiOiAwLjYsCiAgImZpbGxSdWxlIjogImV2ZW5vZGQiLAogICJsaW5lQ2FwIjogInJvdW5kIiwKICAibGluZUpvaW4iOiAicm91bmQiLAogICJvcGFjaXR5IjogMS4wLAogICJyYWRpdXMiOiA1LAogICJzdHJva2UiOiB0cnVlLAogICJ3ZWlnaHQiOiAzCn0KICAgICAgICAgICAgICAgICkuYWRkVG8obWFwX2U5ZTIzOWY0YTg1YTRhZjNiM2Y3OGFiNTUxM2ZjZTg4KTsKICAgICAgICAgICAgCiAgICAKICAgICAgICAgICAgdmFyIHBvcHVwXzcyNWFhMzExNjY5YjQzZDE4N2E5ODIxMmQ2MTY0NWY0ID0gTC5wb3B1cCh7bWF4V2lkdGg6ICczMDAnfSk7CgogICAgICAgICAgICAKICAgICAgICAgICAgICAgIHZhciBodG1sX2JhNjQyZGY3NjA5NDQwMzRiOTlhZDU4MDA4YTAwODI2ID0gJCgnPGRpdiBpZD0iaHRtbF9iYTY0MmRmNzYwOTQ0MDM0Yjk5YWQ1ODAwOGEwMDgyNiIgc3R5bGU9IndpZHRoOiAxMDAuMCU7IGhlaWdodDogMTAwLjAlOyI+QW5kaGVyaTwvZGl2PicpWzBdOwogICAgICAgICAgICAgICAgcG9wdXBfNzI1YWEzMTE2NjliNDNkMTg3YTk4MjEyZDYxNjQ1ZjQuc2V0Q29udGVudChodG1sX2JhNjQyZGY3NjA5NDQwMzRiOTlhZDU4MDA4YTAwODI2KTsKICAgICAgICAgICAgCgogICAgICAgICAgICBjaXJjbGVfbWFya2VyXzU2Y2NiYTY2YzBjZjRjZWY5YzA0YjdjMzAzOTViZTIyLmJpbmRQb3B1cChwb3B1cF83MjVhYTMxMTY2OWI0M2QxODdhOTgyMTJkNjE2NDVmNCk7CgogICAgICAgICAgICAKICAgICAgICAKICAgIAogICAgICAgICAgICB2YXIgY2lyY2xlX21hcmtlcl81ZDhiMzRjOWQ1Yzk0NDRhOWNkNGJjYmY4ZjkzZjQ1ZiA9IEwuY2lyY2xlTWFya2VyKAogICAgICAgICAgICAgICAgWzE5LjExNzMsNzIuODg0XSwKICAgICAgICAgICAgICAgIHsKICAiYnViYmxpbmdNb3VzZUV2ZW50cyI6IHRydWUsCiAgImNvbG9yIjogInJlZCIsCiAgImRhc2hBcnJheSI6IG51bGwsCiAgImRhc2hPZmZzZXQiOiBudWxsLAogICJmaWxsIjogdHJ1ZSwKICAiZmlsbENvbG9yIjogInJlZCIsCiAgImZpbGxPcGFjaXR5IjogMC42LAogICJmaWxsUnVsZSI6ICJldmVub2RkIiwKICAibGluZUNhcCI6ICJyb3VuZCIsCiAgImxpbmVKb2luIjogInJvdW5kIiwKICAib3BhY2l0eSI6IDEuMCwKICAicmFkaXVzIjogNSwKICAic3Ryb2tlIjogdHJ1ZSwKICAid2VpZ2h0IjogMwp9CiAgICAgICAgICAgICAgICApLmFkZFRvKG1hcF9lOWUyMzlmNGE4NWE0YWYzYjNmNzhhYjU1MTNmY2U4OCk7CiAgICAgICAgICAgIAogICAgCiAgICAgICAgICAgIHZhciBwb3B1cF84YjU5NTlhZDA3NzE0YmZlODZhYmFiODA2ZTMzYjY3NiA9IEwucG9wdXAoe21heFdpZHRoOiAnMzAwJ30pOwoKICAgICAgICAgICAgCiAgICAgICAgICAgICAgICB2YXIgaHRtbF8wZGYzMjhmNGU1OGE0ZDQxYjY5ZTBlYWJjOTljNzYyMSA9ICQoJzxkaXYgaWQ9Imh0bWxfMGRmMzI4ZjRlNThhNGQ0MWI2OWUwZWFiYzk5Yzc2MjEiIHN0eWxlPSJ3aWR0aDogMTAwLjAlOyBoZWlnaHQ6IDEwMC4wJTsiPk1hcm9sPC9kaXY+JylbMF07CiAgICAgICAgICAgICAgICBwb3B1cF84YjU5NTlhZDA3NzE0YmZlODZhYmFiODA2ZTMzYjY3Ni5zZXRDb250ZW50KGh0bWxfMGRmMzI4ZjRlNThhNGQ0MWI2OWUwZWFiYzk5Yzc2MjEpOwogICAgICAgICAgICAKCiAgICAgICAgICAgIGNpcmNsZV9tYXJrZXJfNWQ4YjM0YzlkNWM5NDQ0YTljZDRiY2JmOGY5M2Y0NWYuYmluZFBvcHVwKHBvcHVwXzhiNTk1OWFkMDc3MTRiZmU4NmFiYWI4MDZlMzNiNjc2KTsKCiAgICAgICAgICAgIAogICAgICAgIAogICAgCiAgICAgICAgICAgIHZhciBjaXJjbGVfbWFya2VyXzRkYTE3MTJiMTJmNzRhMTc4YmFmMzM0MWFjZmY0MTFlID0gTC5jaXJjbGVNYXJrZXIoCiAgICAgICAgICAgICAgICBbMTkuMjksNzIuODVdLAogICAgICAgICAgICAgICAgewogICJidWJibGluZ01vdXNlRXZlbnRzIjogdHJ1ZSwKICAiY29sb3IiOiAicmVkIiwKICAiZGFzaEFycmF5IjogbnVsbCwKICAiZGFzaE9mZnNldCI6IG51bGwsCiAgImZpbGwiOiB0cnVlLAogICJmaWxsQ29sb3IiOiAicmVkIiwKICAiZmlsbE9wYWNpdHkiOiAwLjYsCiAgImZpbGxSdWxlIjogImV2ZW5vZGQiLAogICJsaW5lQ2FwIjogInJvdW5kIiwKICAibGluZUpvaW4iOiAicm91bmQiLAogICJvcGFjaXR5IjogMS4wLAogICJyYWRpdXMiOiA1LAogICJzdHJva2UiOiB0cnVlLAogICJ3ZWlnaHQiOiAzCn0KICAgICAgICAgICAgICAgICkuYWRkVG8obWFwX2U5ZTIzOWY0YTg1YTRhZjNiM2Y3OGFiNTUxM2ZjZTg4KTsKICAgICAgICAgICAgCiAgICAKICAgICAgICAgICAgdmFyIHBvcHVwX2NlOGRkMWIzOTRjNzRlYjI4NmE5MDllOWE2ZTMyOWIwID0gTC5wb3B1cCh7bWF4V2lkdGg6ICczMDAnfSk7CgogICAgICAgICAgICAKICAgICAgICAgICAgICAgIHZhciBodG1sXzA2YWRiZTE2MmRhZTQyMDc5M2FjYTRiODZhODRjMmI3ID0gJCgnPGRpdiBpZD0iaHRtbF8wNmFkYmUxNjJkYWU0MjA3OTNhY2E0Yjg2YTg0YzJiNyIgc3R5bGU9IndpZHRoOiAxMDAuMCU7IGhlaWdodDogMTAwLjAlOyI+QmhheWFuZGFyPC9kaXY+JylbMF07CiAgICAgICAgICAgICAgICBwb3B1cF9jZThkZDFiMzk0Yzc0ZWIyODZhOTA5ZTlhNmUzMjliMC5zZXRDb250ZW50KGh0bWxfMDZhZGJlMTYyZGFlNDIwNzkzYWNhNGI4NmE4NGMyYjcpOwogICAgICAgICAgICAKCiAgICAgICAgICAgIGNpcmNsZV9tYXJrZXJfNGRhMTcxMmIxMmY3NGExNzhiYWYzMzQxYWNmZjQxMWUuYmluZFBvcHVwKHBvcHVwX2NlOGRkMWIzOTRjNzRlYjI4NmE5MDllOWE2ZTMyOWIwKTsKCiAgICAgICAgICAgIAogICAgICAgIAogICAgCiAgICAgICAgICAgIHZhciBjaXJjbGVfbWFya2VyXzlhMjUwZGRiMTBjMjQzYmFhZTA3YjBiOGIxNTFjYzUzID0gTC5jaXJjbGVNYXJrZXIoCiAgICAgICAgICAgICAgICBbMTkuMDU0NDQ0LDcyLjg0MDU1Nl0sCiAgICAgICAgICAgICAgICB7CiAgImJ1YmJsaW5nTW91c2VFdmVudHMiOiB0cnVlLAogICJjb2xvciI6ICJyZWQiLAogICJkYXNoQXJyYXkiOiBudWxsLAogICJkYXNoT2Zmc2V0IjogbnVsbCwKICAiZmlsbCI6IHRydWUsCiAgImZpbGxDb2xvciI6ICJyZWQiLAogICJmaWxsT3BhY2l0eSI6IDAuNiwKICAiZmlsbFJ1bGUiOiAiZXZlbm9kZCIsCiAgImxpbmVDYXAiOiAicm91bmQiLAogICJsaW5lSm9pbiI6ICJyb3VuZCIsCiAgIm9wYWNpdHkiOiAxLjAsCiAgInJhZGl1cyI6IDUsCiAgInN0cm9rZSI6IHRydWUsCiAgIndlaWdodCI6IDMKfQogICAgICAgICAgICAgICAgKS5hZGRUbyhtYXBfZTllMjM5ZjRhODVhNGFmM2IzZjc4YWI1NTEzZmNlODgpOwogICAgICAgICAgICAKICAgIAogICAgICAgICAgICB2YXIgcG9wdXBfNGJiMWZhZjMyZjBmNDI3N2EwZGJhYjBmNDYxYThkZjUgPSBMLnBvcHVwKHttYXhXaWR0aDogJzMwMCd9KTsKCiAgICAgICAgICAgIAogICAgICAgICAgICAgICAgdmFyIGh0bWxfMTQwYjQ4NDVhMGU0NDNkNmI1YWVjOGQ5NWRlNWIyZDMgPSAkKCc8ZGl2IGlkPSJodG1sXzE0MGI0ODQ1YTBlNDQzZDZiNWFlYzhkOTVkZTViMmQzIiBzdHlsZT0id2lkdGg6IDEwMC4wJTsgaGVpZ2h0OiAxMDAuMCU7Ij5CYW5kcmE8L2Rpdj4nKVswXTsKICAgICAgICAgICAgICAgIHBvcHVwXzRiYjFmYWYzMmYwZjQyNzdhMGRiYWIwZjQ2MWE4ZGY1LnNldENvbnRlbnQoaHRtbF8xNDBiNDg0NWEwZTQ0M2Q2YjVhZWM4ZDk1ZGU1YjJkMyk7CiAgICAgICAgICAgIAoKICAgICAgICAgICAgY2lyY2xlX21hcmtlcl85YTI1MGRkYjEwYzI0M2JhYWUwN2IwYjhiMTUxY2M1My5iaW5kUG9wdXAocG9wdXBfNGJiMWZhZjMyZjBmNDI3N2EwZGJhYjBmNDYxYThkZjUpOwoKICAgICAgICAgICAgCiAgICAgICAgCiAgICAKICAgICAgICAgICAgdmFyIGNpcmNsZV9tYXJrZXJfOTQ3MjI0Zjg4NTEwNDZjNGExNmJlMGY5YmE3NjRhZjMgPSBMLmNpcmNsZU1hcmtlcigKICAgICAgICAgICAgICAgIFsxOS4yMzgxLDcyLjg1MjNdLAogICAgICAgICAgICAgICAgewogICJidWJibGluZ01vdXNlRXZlbnRzIjogdHJ1ZSwKICAiY29sb3IiOiAicmVkIiwKICAiZGFzaEFycmF5IjogbnVsbCwKICAiZGFzaE9mZnNldCI6IG51bGwsCiAgImZpbGwiOiB0cnVlLAogICJmaWxsQ29sb3IiOiAicmVkIiwKICAiZmlsbE9wYWNpdHkiOiAwLjYsCiAgImZpbGxSdWxlIjogImV2ZW5vZGQiLAogICJsaW5lQ2FwIjogInJvdW5kIiwKICAibGluZUpvaW4iOiAicm91bmQiLAogICJvcGFjaXR5IjogMS4wLAogICJyYWRpdXMiOiA1LAogICJzdHJva2UiOiB0cnVlLAogICJ3ZWlnaHQiOiAzCn0KICAgICAgICAgICAgICAgICkuYWRkVG8obWFwX2U5ZTIzOWY0YTg1YTRhZjNiM2Y3OGFiNTUxM2ZjZTg4KTsKICAgICAgICAgICAgCiAgICAKICAgICAgICAgICAgdmFyIHBvcHVwXzJkY2U0MDljNmQ4ZTQ1Y2Y5MzA2NjA1MmU0YmM1NjFkID0gTC5wb3B1cCh7bWF4V2lkdGg6ICczMDAnfSk7CgogICAgICAgICAgICAKICAgICAgICAgICAgICAgIHZhciBodG1sXzAyMDBmM2QxY2NiYTQ1ZWViYjU3OWMxNWRhYzE1YzU5ID0gJCgnPGRpdiBpZD0iaHRtbF8wMjAwZjNkMWNjYmE0NWVlYmI1NzljMTVkYWMxNWM1OSIgc3R5bGU9IndpZHRoOiAxMDAuMCU7IGhlaWdodDogMTAwLjAlOyI+Qm9yaXZhbGkgKFdlc3QpPC9kaXY+JylbMF07CiAgICAgICAgICAgICAgICBwb3B1cF8yZGNlNDA5YzZkOGU0NWNmOTMwNjYwNTJlNGJjNTYxZC5zZXRDb250ZW50KGh0bWxfMDIwMGYzZDFjY2JhNDVlZWJiNTc5YzE1ZGFjMTVjNTkpOwogICAgICAgICAgICAKCiAgICAgICAgICAgIGNpcmNsZV9tYXJrZXJfOTQ3MjI0Zjg4NTEwNDZjNGExNmJlMGY5YmE3NjRhZjMuYmluZFBvcHVwKHBvcHVwXzJkY2U0MDljNmQ4ZTQ1Y2Y5MzA2NjA1MmU0YmM1NjFkKTsKCiAgICAgICAgICAgIAogICAgICAgIAogICAgCiAgICAgICAgICAgIHZhciBjaXJjbGVfbWFya2VyXzFjNzdiN2UzZGNhZTQ2MmZhMmUxODc2YWYyOTFlMWIzID0gTC5jaXJjbGVNYXJrZXIoCiAgICAgICAgICAgICAgICBbMTkuMjI5OCw3Mi44NjA5XSwKICAgICAgICAgICAgICAgIHsKICAiYnViYmxpbmdNb3VzZUV2ZW50cyI6IHRydWUsCiAgImNvbG9yIjogInJlZCIsCiAgImRhc2hBcnJheSI6IG51bGwsCiAgImRhc2hPZmZzZXQiOiBudWxsLAogICJmaWxsIjogdHJ1ZSwKICAiZmlsbENvbG9yIjogInJlZCIsCiAgImZpbGxPcGFjaXR5IjogMC42LAogICJmaWxsUnVsZSI6ICJldmVub2RkIiwKICAibGluZUNhcCI6ICJyb3VuZCIsCiAgImxpbmVKb2luIjogInJvdW5kIiwKICAib3BhY2l0eSI6IDEuMCwKICAicmFkaXVzIjogNSwKICAic3Ryb2tlIjogdHJ1ZSwKICAid2VpZ2h0IjogMwp9CiAgICAgICAgICAgICAgICApLmFkZFRvKG1hcF9lOWUyMzlmNGE4NWE0YWYzYjNmNzhhYjU1MTNmY2U4OCk7CiAgICAgICAgICAgIAogICAgCiAgICAgICAgICAgIHZhciBwb3B1cF81N2QyNDRkMzYxNjQ0M2VkYmI3OGZmZjVmODNkZjMxNyA9IEwucG9wdXAoe21heFdpZHRoOiAnMzAwJ30pOwoKICAgICAgICAgICAgCiAgICAgICAgICAgICAgICB2YXIgaHRtbF8yOTdhZDExMjg2ZjE0ZTQ4OGI1MzFlYjJmMDMzODhlNCA9ICQoJzxkaXYgaWQ9Imh0bWxfMjk3YWQxMTI4NmYxNGU0ODhiNTMxZWIyZjAzMzg4ZTQiIHN0eWxlPSJ3aWR0aDogMTAwLjAlOyBoZWlnaHQ6IDEwMC4wJTsiPkJvcml2YWxpIChFYXN0KTwvZGl2PicpWzBdOwogICAgICAgICAgICAgICAgcG9wdXBfNTdkMjQ0ZDM2MTY0NDNlZGJiNzhmZmY1ZjgzZGYzMTcuc2V0Q29udGVudChodG1sXzI5N2FkMTEyODZmMTRlNDg4YjUzMWViMmYwMzM4OGU0KTsKICAgICAgICAgICAgCgogICAgICAgICAgICBjaXJjbGVfbWFya2VyXzFjNzdiN2UzZGNhZTQ2MmZhMmUxODc2YWYyOTFlMWIzLmJpbmRQb3B1cChwb3B1cF81N2QyNDRkMzYxNjQ0M2VkYmI3OGZmZjVmODNkZjMxNyk7CgogICAgICAgICAgICAKICAgICAgICAKICAgIAogICAgICAgICAgICB2YXIgY2lyY2xlX21hcmtlcl9kOWY2YTllNGExMjg0NDFiODFkZDFmOTJkOTJlYjcxYyA9IEwuY2lyY2xlTWFya2VyKAogICAgICAgICAgICAgICAgWzE5LjI1MDA2OSw3Mi44NTkzNDddLAogICAgICAgICAgICAgICAgewogICJidWJibGluZ01vdXNlRXZlbnRzIjogdHJ1ZSwKICAiY29sb3IiOiAicmVkIiwKICAiZGFzaEFycmF5IjogbnVsbCwKICAiZGFzaE9mZnNldCI6IG51bGwsCiAgImZpbGwiOiB0cnVlLAogICJmaWxsQ29sb3IiOiAicmVkIiwKICAiZmlsbE9wYWNpdHkiOiAwLjYsCiAgImZpbGxSdWxlIjogImV2ZW5vZGQiLAogICJsaW5lQ2FwIjogInJvdW5kIiwKICAibGluZUpvaW4iOiAicm91bmQiLAogICJvcGFjaXR5IjogMS4wLAogICJyYWRpdXMiOiA1LAogICJzdHJva2UiOiB0cnVlLAogICJ3ZWlnaHQiOiAzCn0KICAgICAgICAgICAgICAgICkuYWRkVG8obWFwX2U5ZTIzOWY0YTg1YTRhZjNiM2Y3OGFiNTUxM2ZjZTg4KTsKICAgICAgICAgICAgCiAgICAKICAgICAgICAgICAgdmFyIHBvcHVwXzkyYWNhZGU2ZDEwMDRlZDZhMTUwMzY3MTY3ZmU1NDcyID0gTC5wb3B1cCh7bWF4V2lkdGg6ICczMDAnfSk7CgogICAgICAgICAgICAKICAgICAgICAgICAgICAgIHZhciBodG1sXzJmYTEzNzEzODAxYTRkMmQ4NDgyMDEzM2IyN2Q2M2E2ID0gJCgnPGRpdiBpZD0iaHRtbF8yZmExMzcxMzgwMWE0ZDJkODQ4MjAxMzNiMjdkNjNhNiIgc3R5bGU9IndpZHRoOiAxMDAuMCU7IGhlaWdodDogMTAwLjAlOyI+RGFoaXNhcjwvZGl2PicpWzBdOwogICAgICAgICAgICAgICAgcG9wdXBfOTJhY2FkZTZkMTAwNGVkNmExNTAzNjcxNjdmZTU0NzIuc2V0Q29udGVudChodG1sXzJmYTEzNzEzODAxYTRkMmQ4NDgyMDEzM2IyN2Q2M2E2KTsKICAgICAgICAgICAgCgogICAgICAgICAgICBjaXJjbGVfbWFya2VyX2Q5ZjZhOWU0YTEyODQ0MWI4MWRkMWY5MmQ5MmViNzFjLmJpbmRQb3B1cChwb3B1cF85MmFjYWRlNmQxMDA0ZWQ2YTE1MDM2NzE2N2ZlNTQ3Mik7CgogICAgICAgICAgICAKICAgICAgICAKICAgIAogICAgICAgICAgICB2YXIgY2lyY2xlX21hcmtlcl9iYzc3NDRjMzY0NTM0MTRhOGU2YmE4MWUyYzAxZmUxYyA9IEwuY2lyY2xlTWFya2VyKAogICAgICAgICAgICAgICAgWzE5LjE1NSw3Mi44NV0sCiAgICAgICAgICAgICAgICB7CiAgImJ1YmJsaW5nTW91c2VFdmVudHMiOiB0cnVlLAogICJjb2xvciI6ICJyZWQiLAogICJkYXNoQXJyYXkiOiBudWxsLAogICJkYXNoT2Zmc2V0IjogbnVsbCwKICAiZmlsbCI6IHRydWUsCiAgImZpbGxDb2xvciI6ICJyZWQiLAogICJmaWxsT3BhY2l0eSI6IDAuNiwKICAiZmlsbFJ1bGUiOiAiZXZlbm9kZCIsCiAgImxpbmVDYXAiOiAicm91bmQiLAogICJsaW5lSm9pbiI6ICJyb3VuZCIsCiAgIm9wYWNpdHkiOiAxLjAsCiAgInJhZGl1cyI6IDUsCiAgInN0cm9rZSI6IHRydWUsCiAgIndlaWdodCI6IDMKfQogICAgICAgICAgICAgICAgKS5hZGRUbyhtYXBfZTllMjM5ZjRhODVhNGFmM2IzZjc4YWI1NTEzZmNlODgpOwogICAgICAgICAgICAKICAgIAogICAgICAgICAgICB2YXIgcG9wdXBfNTk4ZTk3YmUxOGM5NDQ2MjkyZGNkZGJhNTY0YjAzYmQgPSBMLnBvcHVwKHttYXhXaWR0aDogJzMwMCd9KTsKCiAgICAgICAgICAgIAogICAgICAgICAgICAgICAgdmFyIGh0bWxfNzJjYTUwODZkZGU2NGNkY2E4NTRlY2I3ZmYwZmE2NzUgPSAkKCc8ZGl2IGlkPSJodG1sXzcyY2E1MDg2ZGRlNjRjZGNhODU0ZWNiN2ZmMGZhNjc1IiBzdHlsZT0id2lkdGg6IDEwMC4wJTsgaGVpZ2h0OiAxMDAuMCU7Ij5Hb3JlZ2FvbjwvZGl2PicpWzBdOwogICAgICAgICAgICAgICAgcG9wdXBfNTk4ZTk3YmUxOGM5NDQ2MjkyZGNkZGJhNTY0YjAzYmQuc2V0Q29udGVudChodG1sXzcyY2E1MDg2ZGRlNjRjZGNhODU0ZWNiN2ZmMGZhNjc1KTsKICAgICAgICAgICAgCgogICAgICAgICAgICBjaXJjbGVfbWFya2VyX2JjNzc0NGMzNjQ1MzQxNGE4ZTZiYTgxZTJjMDFmZTFjLmJpbmRQb3B1cChwb3B1cF81OThlOTdiZTE4Yzk0NDYyOTJkY2RkYmE1NjRiMDNiZCk7CgogICAgICAgICAgICAKICAgICAgICAKICAgIAogICAgICAgICAgICB2YXIgY2lyY2xlX21hcmtlcl8xOWJhMzc0YzZhMTk0Yjk5OTIyYTEzZDZlYjBiNWY2NiA9IEwuY2lyY2xlTWFya2VyKAogICAgICAgICAgICAgICAgWzE5LjE0MzksNzIuODQyOF0sCiAgICAgICAgICAgICAgICB7CiAgImJ1YmJsaW5nTW91c2VFdmVudHMiOiB0cnVlLAogICJjb2xvciI6ICJyZWQiLAogICJkYXNoQXJyYXkiOiBudWxsLAogICJkYXNoT2Zmc2V0IjogbnVsbCwKICAiZmlsbCI6IHRydWUsCiAgImZpbGxDb2xvciI6ICJyZWQiLAogICJmaWxsT3BhY2l0eSI6IDAuNiwKICAiZmlsbFJ1bGUiOiAiZXZlbm9kZCIsCiAgImxpbmVDYXAiOiAicm91bmQiLAogICJsaW5lSm9pbiI6ICJyb3VuZCIsCiAgIm9wYWNpdHkiOiAxLjAsCiAgInJhZGl1cyI6IDUsCiAgInN0cm9rZSI6IHRydWUsCiAgIndlaWdodCI6IDMKfQogICAgICAgICAgICAgICAgKS5hZGRUbyhtYXBfZTllMjM5ZjRhODVhNGFmM2IzZjc4YWI1NTEzZmNlODgpOwogICAgICAgICAgICAKICAgIAogICAgICAgICAgICB2YXIgcG9wdXBfMTBmZWUxNjJhNjYxNDUxZGFkM2M0OWE3YTdlYjE4MGEgPSBMLnBvcHVwKHttYXhXaWR0aDogJzMwMCd9KTsKCiAgICAgICAgICAgIAogICAgICAgICAgICAgICAgdmFyIGh0bWxfNGY4ZGMxMzFlZjU5NDdhZWI1OWE2NTRlZjY5NjcyZWMgPSAkKCc8ZGl2IGlkPSJodG1sXzRmOGRjMTMxZWY1OTQ3YWViNTlhNjU0ZWY2OTY3MmVjIiBzdHlsZT0id2lkdGg6IDEwMC4wJTsgaGVpZ2h0OiAxMDAuMCU7Ij5Kb2dlc2h3YXJpPC9kaXY+JylbMF07CiAgICAgICAgICAgICAgICBwb3B1cF8xMGZlZTE2MmE2NjE0NTFkYWQzYzQ5YTdhN2ViMTgwYS5zZXRDb250ZW50KGh0bWxfNGY4ZGMxMzFlZjU5NDdhZWI1OWE2NTRlZjY5NjcyZWMpOwogICAgICAgICAgICAKCiAgICAgICAgICAgIGNpcmNsZV9tYXJrZXJfMTliYTM3NGM2YTE5NGI5OTkyMmExM2Q2ZWIwYjVmNjYuYmluZFBvcHVwKHBvcHVwXzEwZmVlMTYyYTY2MTQ1MWRhZDNjNDlhN2E3ZWIxODBhKTsKCiAgICAgICAgICAgIAogICAgICAgIAogICAgCiAgICAgICAgICAgIHZhciBjaXJjbGVfbWFya2VyXzM2M2I2M2JiMjVlMDRlOThhYmI4ZWNiY2QyMThmMTEyID0gTC5jaXJjbGVNYXJrZXIoCiAgICAgICAgICAgICAgICBbMTkuMSw3Mi44M10sCiAgICAgICAgICAgICAgICB7CiAgImJ1YmJsaW5nTW91c2VFdmVudHMiOiB0cnVlLAogICJjb2xvciI6ICJyZWQiLAogICJkYXNoQXJyYXkiOiBudWxsLAogICJkYXNoT2Zmc2V0IjogbnVsbCwKICAiZmlsbCI6IHRydWUsCiAgImZpbGxDb2xvciI6ICJyZWQiLAogICJmaWxsT3BhY2l0eSI6IDAuNiwKICAiZmlsbFJ1bGUiOiAiZXZlbm9kZCIsCiAgImxpbmVDYXAiOiAicm91bmQiLAogICJsaW5lSm9pbiI6ICJyb3VuZCIsCiAgIm9wYWNpdHkiOiAxLjAsCiAgInJhZGl1cyI6IDUsCiAgInN0cm9rZSI6IHRydWUsCiAgIndlaWdodCI6IDMKfQogICAgICAgICAgICAgICAgKS5hZGRUbyhtYXBfZTllMjM5ZjRhODVhNGFmM2IzZjc4YWI1NTEzZmNlODgpOwogICAgICAgICAgICAKICAgIAogICAgICAgICAgICB2YXIgcG9wdXBfNzZhYmI2MDJhNzU4NDY4Njg3ZDQyZTg1OTMwZGFkN2UgPSBMLnBvcHVwKHttYXhXaWR0aDogJzMwMCd9KTsKCiAgICAgICAgICAgIAogICAgICAgICAgICAgICAgdmFyIGh0bWxfOTIyZTYwZDFmYTU3NDgxZmI3N2Y2MTFlZmY1NDhkY2YgPSAkKCc8ZGl2IGlkPSJodG1sXzkyMmU2MGQxZmE1NzQ4MWZiNzdmNjExZWZmNTQ4ZGNmIiBzdHlsZT0id2lkdGg6IDEwMC4wJTsgaGVpZ2h0OiAxMDAuMCU7Ij5KdWh1PC9kaXY+JylbMF07CiAgICAgICAgICAgICAgICBwb3B1cF83NmFiYjYwMmE3NTg0Njg2ODdkNDJlODU5MzBkYWQ3ZS5zZXRDb250ZW50KGh0bWxfOTIyZTYwZDFmYTU3NDgxZmI3N2Y2MTFlZmY1NDhkY2YpOwogICAgICAgICAgICAKCiAgICAgICAgICAgIGNpcmNsZV9tYXJrZXJfMzYzYjYzYmIyNWUwNGU5OGFiYjhlY2JjZDIxOGYxMTIuYmluZFBvcHVwKHBvcHVwXzc2YWJiNjAyYTc1ODQ2ODY4N2Q0MmU4NTkzMGRhZDdlKTsKCiAgICAgICAgICAgIAogICAgICAgIAogICAgCiAgICAgICAgICAgIHZhciBjaXJjbGVfbWFya2VyXzVhOTcxM2E5MzA4MDQwNGQ5ZmVmMjJiN2QxYzdkY2FlID0gTC5jaXJjbGVNYXJrZXIoCiAgICAgICAgICAgICAgICBbMTkuMTk5OCw3Mi44NDI2XSwKICAgICAgICAgICAgICAgIHsKICAiYnViYmxpbmdNb3VzZUV2ZW50cyI6IHRydWUsCiAgImNvbG9yIjogInJlZCIsCiAgImRhc2hBcnJheSI6IG51bGwsCiAgImRhc2hPZmZzZXQiOiBudWxsLAogICJmaWxsIjogdHJ1ZSwKICAiZmlsbENvbG9yIjogInJlZCIsCiAgImZpbGxPcGFjaXR5IjogMC42LAogICJmaWxsUnVsZSI6ICJldmVub2RkIiwKICAibGluZUNhcCI6ICJyb3VuZCIsCiAgImxpbmVKb2luIjogInJvdW5kIiwKICAib3BhY2l0eSI6IDEuMCwKICAicmFkaXVzIjogNSwKICAic3Ryb2tlIjogdHJ1ZSwKICAid2VpZ2h0IjogMwp9CiAgICAgICAgICAgICAgICApLmFkZFRvKG1hcF9lOWUyMzlmNGE4NWE0YWYzYjNmNzhhYjU1MTNmY2U4OCk7CiAgICAgICAgICAgIAogICAgCiAgICAgICAgICAgIHZhciBwb3B1cF8xNTQ1MjJmMDU5ZjU0MDJjYmEzNjJmZDNjOTExNWQ0MCA9IEwucG9wdXAoe21heFdpZHRoOiAnMzAwJ30pOwoKICAgICAgICAgICAgCiAgICAgICAgICAgICAgICB2YXIgaHRtbF8zN2FhNWVmNjZmYmI0OGJhYWFhMzNhYTViYWQ0ZmQyNyA9ICQoJzxkaXYgaWQ9Imh0bWxfMzdhYTVlZjY2ZmJiNDhiYWFhYTMzYWE1YmFkNGZkMjciIHN0eWxlPSJ3aWR0aDogMTAwLjAlOyBoZWlnaHQ6IDEwMC4wJTsiPkthbmRpdmFsaSB3ZXN0PC9kaXY+JylbMF07CiAgICAgICAgICAgICAgICBwb3B1cF8xNTQ1MjJmMDU5ZjU0MDJjYmEzNjJmZDNjOTExNWQ0MC5zZXRDb250ZW50KGh0bWxfMzdhYTVlZjY2ZmJiNDhiYWFhYTMzYWE1YmFkNGZkMjcpOwogICAgICAgICAgICAKCiAgICAgICAgICAgIGNpcmNsZV9tYXJrZXJfNWE5NzEzYTkzMDgwNDA0ZDlmZWYyMmI3ZDFjN2RjYWUuYmluZFBvcHVwKHBvcHVwXzE1NDUyMmYwNTlmNTQwMmNiYTM2MmZkM2M5MTE1ZDQwKTsKCiAgICAgICAgICAgIAogICAgICAgIAogICAgCiAgICAgICAgICAgIHZhciBjaXJjbGVfbWFya2VyX2M5ODIyYzVjOTg5ZDQwM2E5NDk3MGMyZDQxZTMyNWVmID0gTC5jaXJjbGVNYXJrZXIoCiAgICAgICAgICAgICAgICBbMTkuMjAwNSw3Mi44NzM3XSwKICAgICAgICAgICAgICAgIHsKICAiYnViYmxpbmdNb3VzZUV2ZW50cyI6IHRydWUsCiAgImNvbG9yIjogInJlZCIsCiAgImRhc2hBcnJheSI6IG51bGwsCiAgImRhc2hPZmZzZXQiOiBudWxsLAogICJmaWxsIjogdHJ1ZSwKICAiZmlsbENvbG9yIjogInJlZCIsCiAgImZpbGxPcGFjaXR5IjogMC42LAogICJmaWxsUnVsZSI6ICJldmVub2RkIiwKICAibGluZUNhcCI6ICJyb3VuZCIsCiAgImxpbmVKb2luIjogInJvdW5kIiwKICAib3BhY2l0eSI6IDEuMCwKICAicmFkaXVzIjogNSwKICAic3Ryb2tlIjogdHJ1ZSwKICAid2VpZ2h0IjogMwp9CiAgICAgICAgICAgICAgICApLmFkZFRvKG1hcF9lOWUyMzlmNGE4NWE0YWYzYjNmNzhhYjU1MTNmY2U4OCk7CiAgICAgICAgICAgIAogICAgCiAgICAgICAgICAgIHZhciBwb3B1cF85ZjNjODJjZTc3MDA0NmRkODRkOGJhN2QwZTJmMzFlMiA9IEwucG9wdXAoe21heFdpZHRoOiAnMzAwJ30pOwoKICAgICAgICAgICAgCiAgICAgICAgICAgICAgICB2YXIgaHRtbF8xNmQ4YmM1MWE2YWI0OThhYWU2NGUwN2U1NGM4ZjExYiA9ICQoJzxkaXYgaWQ9Imh0bWxfMTZkOGJjNTFhNmFiNDk4YWFlNjRlMDdlNTRjOGYxMWIiIHN0eWxlPSJ3aWR0aDogMTAwLjAlOyBoZWlnaHQ6IDEwMC4wJTsiPkthbmRpdmFsaSBlYXN0PC9kaXY+JylbMF07CiAgICAgICAgICAgICAgICBwb3B1cF85ZjNjODJjZTc3MDA0NmRkODRkOGJhN2QwZTJmMzFlMi5zZXRDb250ZW50KGh0bWxfMTZkOGJjNTFhNmFiNDk4YWFlNjRlMDdlNTRjOGYxMWIpOwogICAgICAgICAgICAKCiAgICAgICAgICAgIGNpcmNsZV9tYXJrZXJfYzk4MjJjNWM5ODlkNDAzYTk0OTcwYzJkNDFlMzI1ZWYuYmluZFBvcHVwKHBvcHVwXzlmM2M4MmNlNzcwMDQ2ZGQ4NGQ4YmE3ZDBlMmYzMWUyKTsKCiAgICAgICAgICAgIAogICAgICAgIAogICAgCiAgICAgICAgICAgIHZhciBjaXJjbGVfbWFya2VyXzM5Yjk1YzdlNzgyNjRjYjk4ZGFmNjE4ZjNkYjMyMWYxID0gTC5jaXJjbGVNYXJrZXIoCiAgICAgICAgICAgICAgICBbMTkuMDY4NTk4LDcyLjg0MDA0MjAwMDAwMDAxXSwKICAgICAgICAgICAgICAgIHsKICAiYnViYmxpbmdNb3VzZUV2ZW50cyI6IHRydWUsCiAgImNvbG9yIjogInJlZCIsCiAgImRhc2hBcnJheSI6IG51bGwsCiAgImRhc2hPZmZzZXQiOiBudWxsLAogICJmaWxsIjogdHJ1ZSwKICAiZmlsbENvbG9yIjogInJlZCIsCiAgImZpbGxPcGFjaXR5IjogMC42LAogICJmaWxsUnVsZSI6ICJldmVub2RkIiwKICAibGluZUNhcCI6ICJyb3VuZCIsCiAgImxpbmVKb2luIjogInJvdW5kIiwKICAib3BhY2l0eSI6IDEuMCwKICAicmFkaXVzIjogNSwKICAic3Ryb2tlIjogdHJ1ZSwKICAid2VpZ2h0IjogMwp9CiAgICAgICAgICAgICAgICApLmFkZFRvKG1hcF9lOWUyMzlmNGE4NWE0YWYzYjNmNzhhYjU1MTNmY2U4OCk7CiAgICAgICAgICAgIAogICAgCiAgICAgICAgICAgIHZhciBwb3B1cF84MGRkZDA3NWZjOTg0ZTYyOWM3ZTE2ZjU1NjBiMzUwNyA9IEwucG9wdXAoe21heFdpZHRoOiAnMzAwJ30pOwoKICAgICAgICAgICAgCiAgICAgICAgICAgICAgICB2YXIgaHRtbF8xN2EwZTZhMDUwM2Q0ZTM1YWVlNjUwN2E5MzZkYWI3MyA9ICQoJzxkaXYgaWQ9Imh0bWxfMTdhMGU2YTA1MDNkNGUzNWFlZTY1MDdhOTM2ZGFiNzMiIHN0eWxlPSJ3aWR0aDogMTAwLjAlOyBoZWlnaHQ6IDEwMC4wJTsiPktoYXI8L2Rpdj4nKVswXTsKICAgICAgICAgICAgICAgIHBvcHVwXzgwZGRkMDc1ZmM5ODRlNjI5YzdlMTZmNTU2MGIzNTA3LnNldENvbnRlbnQoaHRtbF8xN2EwZTZhMDUwM2Q0ZTM1YWVlNjUwN2E5MzZkYWI3Myk7CiAgICAgICAgICAgIAoKICAgICAgICAgICAgY2lyY2xlX21hcmtlcl8zOWI5NWM3ZTc4MjY0Y2I5OGRhZjYxOGYzZGIzMjFmMS5iaW5kUG9wdXAocG9wdXBfODBkZGQwNzVmYzk4NGU2MjljN2UxNmY1NTYwYjM1MDcpOwoKICAgICAgICAgICAgCiAgICAgICAgCiAgICAKICAgICAgICAgICAgdmFyIGNpcmNsZV9tYXJrZXJfNmVlYjA3ZmRmNjVlNDlhNWFiOTYxZmY2NWMxMWNlZjYgPSBMLmNpcmNsZU1hcmtlcigKICAgICAgICAgICAgICAgIFsxOS4xODYxMTEsNzIuODQ4NjExXSwKICAgICAgICAgICAgICAgIHsKICAiYnViYmxpbmdNb3VzZUV2ZW50cyI6IHRydWUsCiAgImNvbG9yIjogInJlZCIsCiAgImRhc2hBcnJheSI6IG51bGwsCiAgImRhc2hPZmZzZXQiOiBudWxsLAogICJmaWxsIjogdHJ1ZSwKICAiZmlsbENvbG9yIjogInJlZCIsCiAgImZpbGxPcGFjaXR5IjogMC42LAogICJmaWxsUnVsZSI6ICJldmVub2RkIiwKICAibGluZUNhcCI6ICJyb3VuZCIsCiAgImxpbmVKb2luIjogInJvdW5kIiwKICAib3BhY2l0eSI6IDEuMCwKICAicmFkaXVzIjogNSwKICAic3Ryb2tlIjogdHJ1ZSwKICAid2VpZ2h0IjogMwp9CiAgICAgICAgICAgICAgICApLmFkZFRvKG1hcF9lOWUyMzlmNGE4NWE0YWYzYjNmNzhhYjU1MTNmY2U4OCk7CiAgICAgICAgICAgIAogICAgCiAgICAgICAgICAgIHZhciBwb3B1cF8xODM5MjMwYjQxODc0YWZhOTE5OTRmY2UxNTVmNGE1NiA9IEwucG9wdXAoe21heFdpZHRoOiAnMzAwJ30pOwoKICAgICAgICAgICAgCiAgICAgICAgICAgICAgICB2YXIgaHRtbF9jOGEyNGY2NTUxNTM0YzAxYjZkOWMyYmY0YWY4OTI3NSA9ICQoJzxkaXYgaWQ9Imh0bWxfYzhhMjRmNjU1MTUzNGMwMWI2ZDljMmJmNGFmODkyNzUiIHN0eWxlPSJ3aWR0aDogMTAwLjAlOyBoZWlnaHQ6IDEwMC4wJTsiPk1hbGFkPC9kaXY+JylbMF07CiAgICAgICAgICAgICAgICBwb3B1cF8xODM5MjMwYjQxODc0YWZhOTE5OTRmY2UxNTVmNGE1Ni5zZXRDb250ZW50KGh0bWxfYzhhMjRmNjU1MTUzNGMwMWI2ZDljMmJmNGFmODkyNzUpOwogICAgICAgICAgICAKCiAgICAgICAgICAgIGNpcmNsZV9tYXJrZXJfNmVlYjA3ZmRmNjVlNDlhNWFiOTYxZmY2NWMxMWNlZjYuYmluZFBvcHVwKHBvcHVwXzE4MzkyMzBiNDE4NzRhZmE5MTk5NGZjZTE1NWY0YTU2KTsKCiAgICAgICAgICAgIAogICAgICAgIAogICAgCiAgICAgICAgICAgIHZhciBjaXJjbGVfbWFya2VyXzUwN2E1ODdlZWM1NTQ3OWU4MGYyMzRiMzJiYzU3MDA4ID0gTC5jaXJjbGVNYXJrZXIoCiAgICAgICAgICAgICAgICBbMTkuMDgxNjY3MDAwMDAwMDAzLDcyLjg0MTM4OV0sCiAgICAgICAgICAgICAgICB7CiAgImJ1YmJsaW5nTW91c2VFdmVudHMiOiB0cnVlLAogICJjb2xvciI6ICJyZWQiLAogICJkYXNoQXJyYXkiOiBudWxsLAogICJkYXNoT2Zmc2V0IjogbnVsbCwKICAiZmlsbCI6IHRydWUsCiAgImZpbGxDb2xvciI6ICJyZWQiLAogICJmaWxsT3BhY2l0eSI6IDAuNiwKICAiZmlsbFJ1bGUiOiAiZXZlbm9kZCIsCiAgImxpbmVDYXAiOiAicm91bmQiLAogICJsaW5lSm9pbiI6ICJyb3VuZCIsCiAgIm9wYWNpdHkiOiAxLjAsCiAgInJhZGl1cyI6IDUsCiAgInN0cm9rZSI6IHRydWUsCiAgIndlaWdodCI6IDMKfQogICAgICAgICAgICAgICAgKS5hZGRUbyhtYXBfZTllMjM5ZjRhODVhNGFmM2IzZjc4YWI1NTEzZmNlODgpOwogICAgICAgICAgICAKICAgIAogICAgICAgICAgICB2YXIgcG9wdXBfYTAwNTk3MmUwYTU1NDg0NThlZWE0NTM1OTFiODAyOWEgPSBMLnBvcHVwKHttYXhXaWR0aDogJzMwMCd9KTsKCiAgICAgICAgICAgIAogICAgICAgICAgICAgICAgdmFyIGh0bWxfODc5MWZjZDZjM2FiNGU5MjhmOTBhMjEzN2FiYjIxODEgPSAkKCc8ZGl2IGlkPSJodG1sXzg3OTFmY2Q2YzNhYjRlOTI4ZjkwYTIxMzdhYmIyMTgxIiBzdHlsZT0id2lkdGg6IDEwMC4wJTsgaGVpZ2h0OiAxMDAuMCU7Ij5TYW50YWNydXo8L2Rpdj4nKVswXTsKICAgICAgICAgICAgICAgIHBvcHVwX2EwMDU5NzJlMGE1NTQ4NDU4ZWVhNDUzNTkxYjgwMjlhLnNldENvbnRlbnQoaHRtbF84NzkxZmNkNmMzYWI0ZTkyOGY5MGEyMTM3YWJiMjE4MSk7CiAgICAgICAgICAgIAoKICAgICAgICAgICAgY2lyY2xlX21hcmtlcl81MDdhNTg3ZWVjNTU0NzllODBmMjM0YjMyYmM1NzAwOC5iaW5kUG9wdXAocG9wdXBfYTAwNTk3MmUwYTU1NDg0NThlZWE0NTM1OTFiODAyOWEpOwoKICAgICAgICAgICAgCiAgICAgICAgCiAgICAKICAgICAgICAgICAgdmFyIGNpcmNsZV9tYXJrZXJfYjhhZGYwY2M1MDA4NDlkN2FlMDMzMjhkYTEzZTdiNjYgPSBMLmNpcmNsZU1hcmtlcigKICAgICAgICAgICAgICAgIFsxOS4zOTE5LDcyLjgzOTddLAogICAgICAgICAgICAgICAgewogICJidWJibGluZ01vdXNlRXZlbnRzIjogdHJ1ZSwKICAiY29sb3IiOiAicmVkIiwKICAiZGFzaEFycmF5IjogbnVsbCwKICAiZGFzaE9mZnNldCI6IG51bGwsCiAgImZpbGwiOiB0cnVlLAogICJmaWxsQ29sb3IiOiAicmVkIiwKICAiZmlsbE9wYWNpdHkiOiAwLjYsCiAgImZpbGxSdWxlIjogImV2ZW5vZGQiLAogICJsaW5lQ2FwIjogInJvdW5kIiwKICAibGluZUpvaW4iOiAicm91bmQiLAogICJvcGFjaXR5IjogMS4wLAogICJyYWRpdXMiOiA1LAogICJzdHJva2UiOiB0cnVlLAogICJ3ZWlnaHQiOiAzCn0KICAgICAgICAgICAgICAgICkuYWRkVG8obWFwX2U5ZTIzOWY0YTg1YTRhZjNiM2Y3OGFiNTUxM2ZjZTg4KTsKICAgICAgICAgICAgCiAgICAKICAgICAgICAgICAgdmFyIHBvcHVwX2Y5MTAxYjMxZGVjYjRhY2E5NTUxNTc5YWZmMDM2OTZhID0gTC5wb3B1cCh7bWF4V2lkdGg6ICczMDAnfSk7CgogICAgICAgICAgICAKICAgICAgICAgICAgICAgIHZhciBodG1sXzQ2YzliNmVlYmZkZjRlMzE4ZmNiNWQxYWYyYzNjN2JkID0gJCgnPGRpdiBpZD0iaHRtbF80NmM5YjZlZWJmZGY0ZTMxOGZjYjVkMWFmMmMzYzdiZCIgc3R5bGU9IndpZHRoOiAxMDAuMCU7IGhlaWdodDogMTAwLjAlOyI+VmFzYWk8L2Rpdj4nKVswXTsKICAgICAgICAgICAgICAgIHBvcHVwX2Y5MTAxYjMxZGVjYjRhY2E5NTUxNTc5YWZmMDM2OTZhLnNldENvbnRlbnQoaHRtbF80NmM5YjZlZWJmZGY0ZTMxOGZjYjVkMWFmMmMzYzdiZCk7CiAgICAgICAgICAgIAoKICAgICAgICAgICAgY2lyY2xlX21hcmtlcl9iOGFkZjBjYzUwMDg0OWQ3YWUwMzMyOGRhMTNlN2I2Ni5iaW5kUG9wdXAocG9wdXBfZjkxMDFiMzFkZWNiNGFjYTk1NTE1NzlhZmYwMzY5NmEpOwoKICAgICAgICAgICAgCiAgICAgICAgCiAgICAKICAgICAgICAgICAgdmFyIGNpcmNsZV9tYXJrZXJfZjg2MDIzNDZkOTU4NGQyOGFiYmE2MGI2OWRiYmJiNTYgPSBMLmNpcmNsZU1hcmtlcigKICAgICAgICAgICAgICAgIFsxOS4zNTE0NjcsNzIuODQ2MzQzXSwKICAgICAgICAgICAgICAgIHsKICAiYnViYmxpbmdNb3VzZUV2ZW50cyI6IHRydWUsCiAgImNvbG9yIjogInJlZCIsCiAgImRhc2hBcnJheSI6IG51bGwsCiAgImRhc2hPZmZzZXQiOiBudWxsLAogICJmaWxsIjogdHJ1ZSwKICAiZmlsbENvbG9yIjogInJlZCIsCiAgImZpbGxPcGFjaXR5IjogMC42LAogICJmaWxsUnVsZSI6ICJldmVub2RkIiwKICAibGluZUNhcCI6ICJyb3VuZCIsCiAgImxpbmVKb2luIjogInJvdW5kIiwKICAib3BhY2l0eSI6IDEuMCwKICAicmFkaXVzIjogNSwKICAic3Ryb2tlIjogdHJ1ZSwKICAid2VpZ2h0IjogMwp9CiAgICAgICAgICAgICAgICApLmFkZFRvKG1hcF9lOWUyMzlmNGE4NWE0YWYzYjNmNzhhYjU1MTNmY2U4OCk7CiAgICAgICAgICAgIAogICAgCiAgICAgICAgICAgIHZhciBwb3B1cF81ZjIxMzEwMWU2ZmI0MzVlOGQwZmIwYWJjYjgwMGY0MyA9IEwucG9wdXAoe21heFdpZHRoOiAnMzAwJ30pOwoKICAgICAgICAgICAgCiAgICAgICAgICAgICAgICB2YXIgaHRtbF84ZmEzOWJiOTk5MTM0MjQzOTMzZDE1MTJiYjAzMTIxYSA9ICQoJzxkaXYgaWQ9Imh0bWxfOGZhMzliYjk5OTEzNDI0MzkzM2QxNTEyYmIwMzEyMWEiIHN0eWxlPSJ3aWR0aDogMTAwLjAlOyBoZWlnaHQ6IDEwMC4wJTsiPk5haWdhb248L2Rpdj4nKVswXTsKICAgICAgICAgICAgICAgIHBvcHVwXzVmMjEzMTAxZTZmYjQzNWU4ZDBmYjBhYmNiODAwZjQzLnNldENvbnRlbnQoaHRtbF84ZmEzOWJiOTk5MTM0MjQzOTMzZDE1MTJiYjAzMTIxYSk7CiAgICAgICAgICAgIAoKICAgICAgICAgICAgY2lyY2xlX21hcmtlcl9mODYwMjM0NmQ5NTg0ZDI4YWJiYTYwYjY5ZGJiYmI1Ni5iaW5kUG9wdXAocG9wdXBfNWYyMTMxMDFlNmZiNDM1ZThkMGZiMGFiY2I4MDBmNDMpOwoKICAgICAgICAgICAgCiAgICAgICAgCiAgICAKICAgICAgICAgICAgdmFyIGNpcmNsZV9tYXJrZXJfZjE0NjRmZmQxZTY0NGI0YWI2MTQ5M2ZiY2VlZTJkN2IgPSBMLmNpcmNsZU1hcmtlcigKICAgICAgICAgICAgICAgIFsxOS40MTk5LDcyLjgxMTddLAogICAgICAgICAgICAgICAgewogICJidWJibGluZ01vdXNlRXZlbnRzIjogdHJ1ZSwKICAiY29sb3IiOiAicmVkIiwKICAiZGFzaEFycmF5IjogbnVsbCwKICAiZGFzaE9mZnNldCI6IG51bGwsCiAgImZpbGwiOiB0cnVlLAogICJmaWxsQ29sb3IiOiAicmVkIiwKICAiZmlsbE9wYWNpdHkiOiAwLjYsCiAgImZpbGxSdWxlIjogImV2ZW5vZGQiLAogICJsaW5lQ2FwIjogInJvdW5kIiwKICAibGluZUpvaW4iOiAicm91bmQiLAogICJvcGFjaXR5IjogMS4wLAogICJyYWRpdXMiOiA1LAogICJzdHJva2UiOiB0cnVlLAogICJ3ZWlnaHQiOiAzCn0KICAgICAgICAgICAgICAgICkuYWRkVG8obWFwX2U5ZTIzOWY0YTg1YTRhZjNiM2Y3OGFiNTUxM2ZjZTg4KTsKICAgICAgICAgICAgCiAgICAKICAgICAgICAgICAgdmFyIHBvcHVwXzExN2IyZmMxNGE1YTQ1ODU5YzA2OGVhZDg3ZWU4ZWQ1ID0gTC5wb3B1cCh7bWF4V2lkdGg6ICczMDAnfSk7CgogICAgICAgICAgICAKICAgICAgICAgICAgICAgIHZhciBodG1sXzI4NTcxZjYxZTRhYzQwZmQ4MzJiYmJmNzdmY2Y0NTE0ID0gJCgnPGRpdiBpZD0iaHRtbF8yODU3MWY2MWU0YWM0MGZkODMyYmJiZjc3ZmNmNDUxNCIgc3R5bGU9IndpZHRoOiAxMDAuMCU7IGhlaWdodDogMTAwLjAlOyI+TmFsYXNvcGFyYTwvZGl2PicpWzBdOwogICAgICAgICAgICAgICAgcG9wdXBfMTE3YjJmYzE0YTVhNDU4NTljMDY4ZWFkODdlZThlZDUuc2V0Q29udGVudChodG1sXzI4NTcxZjYxZTRhYzQwZmQ4MzJiYmJmNzdmY2Y0NTE0KTsKICAgICAgICAgICAgCgogICAgICAgICAgICBjaXJjbGVfbWFya2VyX2YxNDY0ZmZkMWU2NDRiNGFiNjE0OTNmYmNlZWUyZDdiLmJpbmRQb3B1cChwb3B1cF8xMTdiMmZjMTRhNWE0NTg1OWMwNjhlYWQ4N2VlOGVkNSk7CgogICAgICAgICAgICAKICAgICAgICAKICAgIAogICAgICAgICAgICB2YXIgY2lyY2xlX21hcmtlcl81NDk3YTNhMDFiMjc0NzhlYmZlNmQ2NWI2NWY2ZWMzNyA9IEwuY2lyY2xlTWFya2VyKAogICAgICAgICAgICAgICAgWzE5LjQ1NjQsNzIuNzkyNV0sCiAgICAgICAgICAgICAgICB7CiAgImJ1YmJsaW5nTW91c2VFdmVudHMiOiB0cnVlLAogICJjb2xvciI6ICJyZWQiLAogICJkYXNoQXJyYXkiOiBudWxsLAogICJkYXNoT2Zmc2V0IjogbnVsbCwKICAiZmlsbCI6IHRydWUsCiAgImZpbGxDb2xvciI6ICJyZWQiLAogICJmaWxsT3BhY2l0eSI6IDAuNiwKICAiZmlsbFJ1bGUiOiAiZXZlbm9kZCIsCiAgImxpbmVDYXAiOiAicm91bmQiLAogICJsaW5lSm9pbiI6ICJyb3VuZCIsCiAgIm9wYWNpdHkiOiAxLjAsCiAgInJhZGl1cyI6IDUsCiAgInN0cm9rZSI6IHRydWUsCiAgIndlaWdodCI6IDMKfQogICAgICAgICAgICAgICAgKS5hZGRUbyhtYXBfZTllMjM5ZjRhODVhNGFmM2IzZjc4YWI1NTEzZmNlODgpOwogICAgICAgICAgICAKICAgIAogICAgICAgICAgICB2YXIgcG9wdXBfNDJkZjFkODU4ZTE4NDI1OTgwZmE4NTY3NjdjZmFjNGYgPSBMLnBvcHVwKHttYXhXaWR0aDogJzMwMCd9KTsKCiAgICAgICAgICAgIAogICAgICAgICAgICAgICAgdmFyIGh0bWxfNDg3YjM3OGU1Y2M5NDI5OWExMjVhYzliOTc1NWM4YzUgPSAkKCc8ZGl2IGlkPSJodG1sXzQ4N2IzNzhlNWNjOTQyOTlhMTI1YWM5Yjk3NTVjOGM1IiBzdHlsZT0id2lkdGg6IDEwMC4wJTsgaGVpZ2h0OiAxMDAuMCU7Ij5WaXJhcjwvZGl2PicpWzBdOwogICAgICAgICAgICAgICAgcG9wdXBfNDJkZjFkODU4ZTE4NDI1OTgwZmE4NTY3NjdjZmFjNGYuc2V0Q29udGVudChodG1sXzQ4N2IzNzhlNWNjOTQyOTlhMTI1YWM5Yjk3NTVjOGM1KTsKICAgICAgICAgICAgCgogICAgICAgICAgICBjaXJjbGVfbWFya2VyXzU0OTdhM2EwMWIyNzQ3OGViZmU2ZDY1YjY1ZjZlYzM3LmJpbmRQb3B1cChwb3B1cF80MmRmMWQ4NThlMTg0MjU5ODBmYTg1Njc2N2NmYWM0Zik7CgogICAgICAgICAgICAKICAgICAgICAKICAgIAogICAgICAgICAgICB2YXIgY2lyY2xlX21hcmtlcl81YThiY2VkYjkwY2E0NTUyYjBhN2E1N2ZmYmZlZDE2OCA9IEwuY2lyY2xlTWFya2VyKAogICAgICAgICAgICAgICAgWzE5LjA5NjgsNzIuODUxN10sCiAgICAgICAgICAgICAgICB7CiAgImJ1YmJsaW5nTW91c2VFdmVudHMiOiB0cnVlLAogICJjb2xvciI6ICJyZWQiLAogICJkYXNoQXJyYXkiOiBudWxsLAogICJkYXNoT2Zmc2V0IjogbnVsbCwKICAiZmlsbCI6IHRydWUsCiAgImZpbGxDb2xvciI6ICJyZWQiLAogICJmaWxsT3BhY2l0eSI6IDAuNiwKICAiZmlsbFJ1bGUiOiAiZXZlbm9kZCIsCiAgImxpbmVDYXAiOiAicm91bmQiLAogICJsaW5lSm9pbiI6ICJyb3VuZCIsCiAgIm9wYWNpdHkiOiAxLjAsCiAgInJhZGl1cyI6IDUsCiAgInN0cm9rZSI6IHRydWUsCiAgIndlaWdodCI6IDMKfQogICAgICAgICAgICAgICAgKS5hZGRUbyhtYXBfZTllMjM5ZjRhODVhNGFmM2IzZjc4YWI1NTEzZmNlODgpOwogICAgICAgICAgICAKICAgIAogICAgICAgICAgICB2YXIgcG9wdXBfZjA3NDdiNjVmZDY2NGFlM2FhNzRjODA1MGEyMTY1ZTIgPSBMLnBvcHVwKHttYXhXaWR0aDogJzMwMCd9KTsKCiAgICAgICAgICAgIAogICAgICAgICAgICAgICAgdmFyIGh0bWxfMzdiNjU5YWRlNDQxNGZlYWI5OTYyOThjZGNmODI1MWIgPSAkKCc8ZGl2IGlkPSJodG1sXzM3YjY1OWFkZTQ0MTRmZWFiOTk2Mjk4Y2RjZjgyNTFiIiBzdHlsZT0id2lkdGg6IDEwMC4wJTsgaGVpZ2h0OiAxMDAuMCU7Ij5WaWxlIFBhcmxlPC9kaXY+JylbMF07CiAgICAgICAgICAgICAgICBwb3B1cF9mMDc0N2I2NWZkNjY0YWUzYWE3NGM4MDUwYTIxNjVlMi5zZXRDb250ZW50KGh0bWxfMzdiNjU5YWRlNDQxNGZlYWI5OTYyOThjZGNmODI1MWIpOwogICAgICAgICAgICAKCiAgICAgICAgICAgIGNpcmNsZV9tYXJrZXJfNWE4YmNlZGI5MGNhNDU1MmIwYTdhNTdmZmJmZWQxNjguYmluZFBvcHVwKHBvcHVwX2YwNzQ3YjY1ZmQ2NjRhZTNhYTc0YzgwNTBhMjE2NWUyKTsKCiAgICAgICAgICAgIAogICAgICAgIAogICAgCiAgICAgICAgICAgIHZhciBjaXJjbGVfbWFya2VyXzVlOThmZWRhMTEwNTQyY2U5Yzc5OTdhYjVmOWFkMjJmID0gTC5jaXJjbGVNYXJrZXIoCiAgICAgICAgICAgICAgICBbMTkuMTUxMSw3Mi45MzcyXSwKICAgICAgICAgICAgICAgIHsKICAiYnViYmxpbmdNb3VzZUV2ZW50cyI6IHRydWUsCiAgImNvbG9yIjogImJsdWUiLAogICJkYXNoQXJyYXkiOiBudWxsLAogICJkYXNoT2Zmc2V0IjogbnVsbCwKICAiZmlsbCI6IHRydWUsCiAgImZpbGxDb2xvciI6ICJibHVlIiwKICAiZmlsbE9wYWNpdHkiOiAwLjYsCiAgImZpbGxSdWxlIjogImV2ZW5vZGQiLAogICJsaW5lQ2FwIjogInJvdW5kIiwKICAibGluZUpvaW4iOiAicm91bmQiLAogICJvcGFjaXR5IjogMS4wLAogICJyYWRpdXMiOiA1LAogICJzdHJva2UiOiB0cnVlLAogICJ3ZWlnaHQiOiAzCn0KICAgICAgICAgICAgICAgICkuYWRkVG8obWFwX2U5ZTIzOWY0YTg1YTRhZjNiM2Y3OGFiNTUxM2ZjZTg4KTsKICAgICAgICAgICAgCiAgICAKICAgICAgICAgICAgdmFyIHBvcHVwX2Q3YTJkM2QxYjAxYTRhYjFhZGRlNzU4MjRlMjQ2ZDFiID0gTC5wb3B1cCh7bWF4V2lkdGg6ICczMDAnfSk7CgogICAgICAgICAgICAKICAgICAgICAgICAgICAgIHZhciBodG1sX2I5ZjI0YzUyYzM2YTQ1YmJiM2FlZjA0Yjk2ZDc0YjkzID0gJCgnPGRpdiBpZD0iaHRtbF9iOWYyNGM1MmMzNmE0NWJiYjNhZWYwNGI5NmQ3NGI5MyIgc3R5bGU9IndpZHRoOiAxMDAuMCU7IGhlaWdodDogMTAwLjAlOyI+QmhhbmR1cDwvZGl2PicpWzBdOwogICAgICAgICAgICAgICAgcG9wdXBfZDdhMmQzZDFiMDFhNGFiMWFkZGU3NTgyNGUyNDZkMWIuc2V0Q29udGVudChodG1sX2I5ZjI0YzUyYzM2YTQ1YmJiM2FlZjA0Yjk2ZDc0YjkzKTsKICAgICAgICAgICAgCgogICAgICAgICAgICBjaXJjbGVfbWFya2VyXzVlOThmZWRhMTEwNTQyY2U5Yzc5OTdhYjVmOWFkMjJmLmJpbmRQb3B1cChwb3B1cF9kN2EyZDNkMWIwMWE0YWIxYWRkZTc1ODI0ZTI0NmQxYik7CgogICAgICAgICAgICAKICAgICAgICAKICAgIAogICAgICAgICAgICB2YXIgY2lyY2xlX21hcmtlcl8zNDk2M2QwY2UwYmQ0MTk0ODRlMGRlM2M1NWZlMDExYyA9IEwuY2lyY2xlTWFya2VyKAogICAgICAgICAgICAgICAgWzE5LjA4LDcyLjkxXSwKICAgICAgICAgICAgICAgIHsKICAiYnViYmxpbmdNb3VzZUV2ZW50cyI6IHRydWUsCiAgImNvbG9yIjogImJsdWUiLAogICJkYXNoQXJyYXkiOiBudWxsLAogICJkYXNoT2Zmc2V0IjogbnVsbCwKICAiZmlsbCI6IHRydWUsCiAgImZpbGxDb2xvciI6ICJibHVlIiwKICAiZmlsbE9wYWNpdHkiOiAwLjYsCiAgImZpbGxSdWxlIjogImV2ZW5vZGQiLAogICJsaW5lQ2FwIjogInJvdW5kIiwKICAibGluZUpvaW4iOiAicm91bmQiLAogICJvcGFjaXR5IjogMS4wLAogICJyYWRpdXMiOiA1LAogICJzdHJva2UiOiB0cnVlLAogICJ3ZWlnaHQiOiAzCn0KICAgICAgICAgICAgICAgICkuYWRkVG8obWFwX2U5ZTIzOWY0YTg1YTRhZjNiM2Y3OGFiNTUxM2ZjZTg4KTsKICAgICAgICAgICAgCiAgICAKICAgICAgICAgICAgdmFyIHBvcHVwXzZiMjIzMmEzYWFiNjRkZWFiMDQ5MjMxMzUxOWIwMTQ4ID0gTC5wb3B1cCh7bWF4V2lkdGg6ICczMDAnfSk7CgogICAgICAgICAgICAKICAgICAgICAgICAgICAgIHZhciBodG1sXzU1MzczOGQ1ZmE1NDRkYWNiNjQ1NDY5N2Q1M2U4ZmM3ID0gJCgnPGRpdiBpZD0iaHRtbF81NTM3MzhkNWZhNTQ0ZGFjYjY0NTQ2OTdkNTNlOGZjNyIgc3R5bGU9IndpZHRoOiAxMDAuMCU7IGhlaWdodDogMTAwLjAlOyI+R2hhdGtvcGFyPC9kaXY+JylbMF07CiAgICAgICAgICAgICAgICBwb3B1cF82YjIyMzJhM2FhYjY0ZGVhYjA0OTIzMTM1MTliMDE0OC5zZXRDb250ZW50KGh0bWxfNTUzNzM4ZDVmYTU0NGRhY2I2NDU0Njk3ZDUzZThmYzcpOwogICAgICAgICAgICAKCiAgICAgICAgICAgIGNpcmNsZV9tYXJrZXJfMzQ5NjNkMGNlMGJkNDE5NDg0ZTBkZTNjNTVmZTAxMWMuYmluZFBvcHVwKHBvcHVwXzZiMjIzMmEzYWFiNjRkZWFiMDQ5MjMxMzUxOWIwMTQ4KTsKCiAgICAgICAgICAgIAogICAgICAgIAogICAgCiAgICAgICAgICAgIHZhciBjaXJjbGVfbWFya2VyX2E4OGViNmZlNTQ2NDQ4YTk5YzY0MzI0MWM5OGNmNjAxID0gTC5jaXJjbGVNYXJrZXIoCiAgICAgICAgICAgICAgICBbMTkuMTI5NCw3Mi45MzNdLAogICAgICAgICAgICAgICAgewogICJidWJibGluZ01vdXNlRXZlbnRzIjogdHJ1ZSwKICAiY29sb3IiOiAiYmx1ZSIsCiAgImRhc2hBcnJheSI6IG51bGwsCiAgImRhc2hPZmZzZXQiOiBudWxsLAogICJmaWxsIjogdHJ1ZSwKICAiZmlsbENvbG9yIjogImJsdWUiLAogICJmaWxsT3BhY2l0eSI6IDAuNiwKICAiZmlsbFJ1bGUiOiAiZXZlbm9kZCIsCiAgImxpbmVDYXAiOiAicm91bmQiLAogICJsaW5lSm9pbiI6ICJyb3VuZCIsCiAgIm9wYWNpdHkiOiAxLjAsCiAgInJhZGl1cyI6IDUsCiAgInN0cm9rZSI6IHRydWUsCiAgIndlaWdodCI6IDMKfQogICAgICAgICAgICAgICAgKS5hZGRUbyhtYXBfZTllMjM5ZjRhODVhNGFmM2IzZjc4YWI1NTEzZmNlODgpOwogICAgICAgICAgICAKICAgIAogICAgICAgICAgICB2YXIgcG9wdXBfNDYxOWEzOWEyNDVkNDYwZmIwNjI2YTQyMjAxNDIyZjQgPSBMLnBvcHVwKHttYXhXaWR0aDogJzMwMCd9KTsKCiAgICAgICAgICAgIAogICAgICAgICAgICAgICAgdmFyIGh0bWxfMjk5ODkxYTc2MWM2NGE5NmI5MjQ5OThmNmJhNWFhZTYgPSAkKCc8ZGl2IGlkPSJodG1sXzI5OTg5MWE3NjFjNjRhOTZiOTI0OTk4ZjZiYTVhYWU2IiBzdHlsZT0id2lkdGg6IDEwMC4wJTsgaGVpZ2h0OiAxMDAuMCU7Ij5LYW5qdXJtYXJnPC9kaXY+JylbMF07CiAgICAgICAgICAgICAgICBwb3B1cF80NjE5YTM5YTI0NWQ0NjBmYjA2MjZhNDIyMDE0MjJmNC5zZXRDb250ZW50KGh0bWxfMjk5ODkxYTc2MWM2NGE5NmI5MjQ5OThmNmJhNWFhZTYpOwogICAgICAgICAgICAKCiAgICAgICAgICAgIGNpcmNsZV9tYXJrZXJfYTg4ZWI2ZmU1NDY0NDhhOTljNjQzMjQxYzk4Y2Y2MDEuYmluZFBvcHVwKHBvcHVwXzQ2MTlhMzlhMjQ1ZDQ2MGZiMDYyNmE0MjIwMTQyMmY0KTsKCiAgICAgICAgICAgIAogICAgICAgIAogICAgCiAgICAgICAgICAgIHZhciBjaXJjbGVfbWFya2VyX2JjNDcyMmVjZmQ3NzQwZjFhYjFiZmQ5YTRmMWZlZGFkID0gTC5jaXJjbGVNYXJrZXIoCiAgICAgICAgICAgICAgICBbMTkuMDcyNiw3Mi44ODQ1XSwKICAgICAgICAgICAgICAgIHsKICAiYnViYmxpbmdNb3VzZUV2ZW50cyI6IHRydWUsCiAgImNvbG9yIjogImJsdWUiLAogICJkYXNoQXJyYXkiOiBudWxsLAogICJkYXNoT2Zmc2V0IjogbnVsbCwKICAiZmlsbCI6IHRydWUsCiAgImZpbGxDb2xvciI6ICJibHVlIiwKICAiZmlsbE9wYWNpdHkiOiAwLjYsCiAgImZpbGxSdWxlIjogImV2ZW5vZGQiLAogICJsaW5lQ2FwIjogInJvdW5kIiwKICAibGluZUpvaW4iOiAicm91bmQiLAogICJvcGFjaXR5IjogMS4wLAogICJyYWRpdXMiOiA1LAogICJzdHJva2UiOiB0cnVlLAogICJ3ZWlnaHQiOiAzCn0KICAgICAgICAgICAgICAgICkuYWRkVG8obWFwX2U5ZTIzOWY0YTg1YTRhZjNiM2Y3OGFiNTUxM2ZjZTg4KTsKICAgICAgICAgICAgCiAgICAKICAgICAgICAgICAgdmFyIHBvcHVwXzc5NTdmNzAzMzgxZjQ3MmY4NGY4Y2RmMDMzNzU1NDBjID0gTC5wb3B1cCh7bWF4V2lkdGg6ICczMDAnfSk7CgogICAgICAgICAgICAKICAgICAgICAgICAgICAgIHZhciBodG1sXzAwZTRjYjg1YjFiYzQ5ZWE4NTkwNzcxODAwMDE4MjRkID0gJCgnPGRpdiBpZD0iaHRtbF8wMGU0Y2I4NWIxYmM0OWVhODU5MDc3MTgwMDAxODI0ZCIgc3R5bGU9IndpZHRoOiAxMDAuMCU7IGhlaWdodDogMTAwLjAlOyI+S3VybGE8L2Rpdj4nKVswXTsKICAgICAgICAgICAgICAgIHBvcHVwXzc5NTdmNzAzMzgxZjQ3MmY4NGY4Y2RmMDMzNzU1NDBjLnNldENvbnRlbnQoaHRtbF8wMGU0Y2I4NWIxYmM0OWVhODU5MDc3MTgwMDAxODI0ZCk7CiAgICAgICAgICAgIAoKICAgICAgICAgICAgY2lyY2xlX21hcmtlcl9iYzQ3MjJlY2ZkNzc0MGYxYWIxYmZkOWE0ZjFmZWRhZC5iaW5kUG9wdXAocG9wdXBfNzk1N2Y3MDMzODFmNDcyZjg0ZjhjZGYwMzM3NTU0MGMpOwoKICAgICAgICAgICAgCiAgICAgICAgCiAgICAKICAgICAgICAgICAgdmFyIGNpcmNsZV9tYXJrZXJfNDE0NzYyMTA0MDA2NDFiZGE2MTUzNDllMmRhMzNjMDQgPSBMLmNpcmNsZU1hcmtlcigKICAgICAgICAgICAgICAgIFsxOS4xNzE2OCw3Mi45NTZdLAogICAgICAgICAgICAgICAgewogICJidWJibGluZ01vdXNlRXZlbnRzIjogdHJ1ZSwKICAiY29sb3IiOiAiYmx1ZSIsCiAgImRhc2hBcnJheSI6IG51bGwsCiAgImRhc2hPZmZzZXQiOiBudWxsLAogICJmaWxsIjogdHJ1ZSwKICAiZmlsbENvbG9yIjogImJsdWUiLAogICJmaWxsT3BhY2l0eSI6IDAuNiwKICAiZmlsbFJ1bGUiOiAiZXZlbm9kZCIsCiAgImxpbmVDYXAiOiAicm91bmQiLAogICJsaW5lSm9pbiI6ICJyb3VuZCIsCiAgIm9wYWNpdHkiOiAxLjAsCiAgInJhZGl1cyI6IDUsCiAgInN0cm9rZSI6IHRydWUsCiAgIndlaWdodCI6IDMKfQogICAgICAgICAgICAgICAgKS5hZGRUbyhtYXBfZTllMjM5ZjRhODVhNGFmM2IzZjc4YWI1NTEzZmNlODgpOwogICAgICAgICAgICAKICAgIAogICAgICAgICAgICB2YXIgcG9wdXBfNDg4NDBlZWU1MDA3NDY0OWExYTI0MDc5NDcwODlkMTQgPSBMLnBvcHVwKHttYXhXaWR0aDogJzMwMCd9KTsKCiAgICAgICAgICAgIAogICAgICAgICAgICAgICAgdmFyIGh0bWxfMTM3NmU1YWFlNzllNDg4NDhlZDEyMWM1MDAxNThlYWIgPSAkKCc8ZGl2IGlkPSJodG1sXzEzNzZlNWFhZTc5ZTQ4ODQ4ZWQxMjFjNTAwMTU4ZWFiIiBzdHlsZT0id2lkdGg6IDEwMC4wJTsgaGVpZ2h0OiAxMDAuMCU7Ij5NdWx1bmQ8L2Rpdj4nKVswXTsKICAgICAgICAgICAgICAgIHBvcHVwXzQ4ODQwZWVlNTAwNzQ2NDlhMWEyNDA3OTQ3MDg5ZDE0LnNldENvbnRlbnQoaHRtbF8xMzc2ZTVhYWU3OWU0ODg0OGVkMTIxYzUwMDE1OGVhYik7CiAgICAgICAgICAgIAoKICAgICAgICAgICAgY2lyY2xlX21hcmtlcl80MTQ3NjIxMDQwMDY0MWJkYTYxNTM0OWUyZGEzM2MwNC5iaW5kUG9wdXAocG9wdXBfNDg4NDBlZWU1MDA3NDY0OWExYTI0MDc5NDcwODlkMTQpOwoKICAgICAgICAgICAgCiAgICAgICAgCiAgICAKICAgICAgICAgICAgdmFyIGNpcmNsZV9tYXJrZXJfMjU2NzE1YTBkNmQzNGJkNDkyN2I1NGYyNjRiODM2ZjkgPSBMLmNpcmNsZU1hcmtlcigKICAgICAgICAgICAgICAgIFsxOS4xMiw3Mi45MV0sCiAgICAgICAgICAgICAgICB7CiAgImJ1YmJsaW5nTW91c2VFdmVudHMiOiB0cnVlLAogICJjb2xvciI6ICJibHVlIiwKICAiZGFzaEFycmF5IjogbnVsbCwKICAiZGFzaE9mZnNldCI6IG51bGwsCiAgImZpbGwiOiB0cnVlLAogICJmaWxsQ29sb3IiOiAiYmx1ZSIsCiAgImZpbGxPcGFjaXR5IjogMC42LAogICJmaWxsUnVsZSI6ICJldmVub2RkIiwKICAibGluZUNhcCI6ICJyb3VuZCIsCiAgImxpbmVKb2luIjogInJvdW5kIiwKICAib3BhY2l0eSI6IDEuMCwKICAicmFkaXVzIjogNSwKICAic3Ryb2tlIjogdHJ1ZSwKICAid2VpZ2h0IjogMwp9CiAgICAgICAgICAgICAgICApLmFkZFRvKG1hcF9lOWUyMzlmNGE4NWE0YWYzYjNmNzhhYjU1MTNmY2U4OCk7CiAgICAgICAgICAgIAogICAgCiAgICAgICAgICAgIHZhciBwb3B1cF80NjU2M2EyMGJhMDk0NzIyYmQ3MzZhNWIxYWM1Yzk5MyA9IEwucG9wdXAoe21heFdpZHRoOiAnMzAwJ30pOwoKICAgICAgICAgICAgCiAgICAgICAgICAgICAgICB2YXIgaHRtbF8yY2Q0ZTZiNjc4MGU0YTA0YjAwZjcwOWVhMDQ1NDQ1ZCA9ICQoJzxkaXYgaWQ9Imh0bWxfMmNkNGU2YjY3ODBlNGEwNGIwMGY3MDllYTA0NTQ0NWQiIHN0eWxlPSJ3aWR0aDogMTAwLjAlOyBoZWlnaHQ6IDEwMC4wJTsiPlBvd2FpPC9kaXY+JylbMF07CiAgICAgICAgICAgICAgICBwb3B1cF80NjU2M2EyMGJhMDk0NzIyYmQ3MzZhNWIxYWM1Yzk5My5zZXRDb250ZW50KGh0bWxfMmNkNGU2YjY3ODBlNGEwNGIwMGY3MDllYTA0NTQ0NWQpOwogICAgICAgICAgICAKCiAgICAgICAgICAgIGNpcmNsZV9tYXJrZXJfMjU2NzE1YTBkNmQzNGJkNDkyN2I1NGYyNjRiODM2ZjkuYmluZFBvcHVwKHBvcHVwXzQ2NTYzYTIwYmEwOTQ3MjJiZDczNmE1YjFhYzVjOTkzKTsKCiAgICAgICAgICAgIAogICAgICAgIAogICAgCiAgICAgICAgICAgIHZhciBjaXJjbGVfbWFya2VyXzU1ZDA5MjBhNGVmMzRhNTliYjk4MjBjNjA4ODUyYWVkID0gTC5jaXJjbGVNYXJrZXIoCiAgICAgICAgICAgICAgICBbMTkuMDc5OCw3Mi44OTczXSwKICAgICAgICAgICAgICAgIHsKICAiYnViYmxpbmdNb3VzZUV2ZW50cyI6IHRydWUsCiAgImNvbG9yIjogImJsdWUiLAogICJkYXNoQXJyYXkiOiBudWxsLAogICJkYXNoT2Zmc2V0IjogbnVsbCwKICAiZmlsbCI6IHRydWUsCiAgImZpbGxDb2xvciI6ICJibHVlIiwKICAiZmlsbE9wYWNpdHkiOiAwLjYsCiAgImZpbGxSdWxlIjogImV2ZW5vZGQiLAogICJsaW5lQ2FwIjogInJvdW5kIiwKICAibGluZUpvaW4iOiAicm91bmQiLAogICJvcGFjaXR5IjogMS4wLAogICJyYWRpdXMiOiA1LAogICJzdHJva2UiOiB0cnVlLAogICJ3ZWlnaHQiOiAzCn0KICAgICAgICAgICAgICAgICkuYWRkVG8obWFwX2U5ZTIzOWY0YTg1YTRhZjNiM2Y3OGFiNTUxM2ZjZTg4KTsKICAgICAgICAgICAgCiAgICAKICAgICAgICAgICAgdmFyIHBvcHVwX2JiMmExODdlNmI1ZjQ2OWVhNmQ4ZjI1YmE4NmQ5YjE1ID0gTC5wb3B1cCh7bWF4V2lkdGg6ICczMDAnfSk7CgogICAgICAgICAgICAKICAgICAgICAgICAgICAgIHZhciBodG1sXzBjMmQ0OGU5YjYwOTRjZGNhMzY5ODViNWIxNTkyNTdlID0gJCgnPGRpdiBpZD0iaHRtbF8wYzJkNDhlOWI2MDk0Y2RjYTM2OTg1YjViMTU5MjU3ZSIgc3R5bGU9IndpZHRoOiAxMDAuMCU7IGhlaWdodDogMTAwLjAlOyI+VmlkeWF2aWhhcjwvZGl2PicpWzBdOwogICAgICAgICAgICAgICAgcG9wdXBfYmIyYTE4N2U2YjVmNDY5ZWE2ZDhmMjViYTg2ZDliMTUuc2V0Q29udGVudChodG1sXzBjMmQ0OGU5YjYwOTRjZGNhMzY5ODViNWIxNTkyNTdlKTsKICAgICAgICAgICAgCgogICAgICAgICAgICBjaXJjbGVfbWFya2VyXzU1ZDA5MjBhNGVmMzRhNTliYjk4MjBjNjA4ODUyYWVkLmJpbmRQb3B1cChwb3B1cF9iYjJhMTg3ZTZiNWY0NjllYTZkOGYyNWJhODZkOWIxNSk7CgogICAgICAgICAgICAKICAgICAgICAKICAgIAogICAgICAgICAgICB2YXIgY2lyY2xlX21hcmtlcl9jNzMxNGQyNmQyNTg0ODhkODc3YzgzNjQ3MTRmOTUzYiA9IEwuY2lyY2xlTWFya2VyKAogICAgICAgICAgICAgICAgWzE5LjExNDIsNzIuOTM1OF0sCiAgICAgICAgICAgICAgICB7CiAgImJ1YmJsaW5nTW91c2VFdmVudHMiOiB0cnVlLAogICJjb2xvciI6ICJibHVlIiwKICAiZGFzaEFycmF5IjogbnVsbCwKICAiZGFzaE9mZnNldCI6IG51bGwsCiAgImZpbGwiOiB0cnVlLAogICJmaWxsQ29sb3IiOiAiYmx1ZSIsCiAgImZpbGxPcGFjaXR5IjogMC42LAogICJmaWxsUnVsZSI6ICJldmVub2RkIiwKICAibGluZUNhcCI6ICJyb3VuZCIsCiAgImxpbmVKb2luIjogInJvdW5kIiwKICAib3BhY2l0eSI6IDEuMCwKICAicmFkaXVzIjogNSwKICAic3Ryb2tlIjogdHJ1ZSwKICAid2VpZ2h0IjogMwp9CiAgICAgICAgICAgICAgICApLmFkZFRvKG1hcF9lOWUyMzlmNGE4NWE0YWYzYjNmNzhhYjU1MTNmY2U4OCk7CiAgICAgICAgICAgIAogICAgCiAgICAgICAgICAgIHZhciBwb3B1cF9hZjgyMWQ2NThmMGI0YjBlOGE0MTVkZWVmNmZjMWE3YSA9IEwucG9wdXAoe21heFdpZHRoOiAnMzAwJ30pOwoKICAgICAgICAgICAgCiAgICAgICAgICAgICAgICB2YXIgaHRtbF9lMzUyNDhmNTZiMWE0YTExOTU1OTk1ZDBlMTcyN2U4ZiA9ICQoJzxkaXYgaWQ9Imh0bWxfZTM1MjQ4ZjU2YjFhNGExMTk1NTk5NWQwZTE3MjdlOGYiIHN0eWxlPSJ3aWR0aDogMTAwLjAlOyBoZWlnaHQ6IDEwMC4wJTsiPlZpa2hyb2xpPC9kaXY+JylbMF07CiAgICAgICAgICAgICAgICBwb3B1cF9hZjgyMWQ2NThmMGI0YjBlOGE0MTVkZWVmNmZjMWE3YS5zZXRDb250ZW50KGh0bWxfZTM1MjQ4ZjU2YjFhNGExMTk1NTk5NWQwZTE3MjdlOGYpOwogICAgICAgICAgICAKCiAgICAgICAgICAgIGNpcmNsZV9tYXJrZXJfYzczMTRkMjZkMjU4NDg4ZDg3N2M4MzY0NzE0Zjk1M2IuYmluZFBvcHVwKHBvcHVwX2FmODIxZDY1OGYwYjRiMGU4YTQxNWRlZWY2ZmMxYTdhKTsKCiAgICAgICAgICAgIAogICAgICAgIAogICAgCiAgICAgICAgICAgIHZhciBjaXJjbGVfbWFya2VyX2RmNzM0NDU4NDE4ZTQ4Yzk4MmMxMGNlNTgwNjczNWQ5ID0gTC5jaXJjbGVNYXJrZXIoCiAgICAgICAgICAgICAgICBbMTkuMDUyMiw3Mi45MDA1XSwKICAgICAgICAgICAgICAgIHsKICAiYnViYmxpbmdNb3VzZUV2ZW50cyI6IHRydWUsCiAgImNvbG9yIjogInB1cnBsZSIsCiAgImRhc2hBcnJheSI6IG51bGwsCiAgImRhc2hPZmZzZXQiOiBudWxsLAogICJmaWxsIjogdHJ1ZSwKICAiZmlsbENvbG9yIjogInB1cnBsZSIsCiAgImZpbGxPcGFjaXR5IjogMC42LAogICJmaWxsUnVsZSI6ICJldmVub2RkIiwKICAibGluZUNhcCI6ICJyb3VuZCIsCiAgImxpbmVKb2luIjogInJvdW5kIiwKICAib3BhY2l0eSI6IDEuMCwKICAicmFkaXVzIjogNSwKICAic3Ryb2tlIjogdHJ1ZSwKICAid2VpZ2h0IjogMwp9CiAgICAgICAgICAgICAgICApLmFkZFRvKG1hcF9lOWUyMzlmNGE4NWE0YWYzYjNmNzhhYjU1MTNmY2U4OCk7CiAgICAgICAgICAgIAogICAgCiAgICAgICAgICAgIHZhciBwb3B1cF81MWFjYjU2ZTY3NWI0NjJiOTQzNDgxOTYzOWJjNDVmMiA9IEwucG9wdXAoe21heFdpZHRoOiAnMzAwJ30pOwoKICAgICAgICAgICAgCiAgICAgICAgICAgICAgICB2YXIgaHRtbF84YTA5YmU4OWZkZDE0OTAxYWE2ZTE2NWZkNmJlNTE5NyA9ICQoJzxkaXYgaWQ9Imh0bWxfOGEwOWJlODlmZGQxNDkwMWFhNmUxNjVmZDZiZTUxOTciIHN0eWxlPSJ3aWR0aDogMTAwLjAlOyBoZWlnaHQ6IDEwMC4wJTsiPkNoZW1idXI8L2Rpdj4nKVswXTsKICAgICAgICAgICAgICAgIHBvcHVwXzUxYWNiNTZlNjc1YjQ2MmI5NDM0ODE5NjM5YmM0NWYyLnNldENvbnRlbnQoaHRtbF84YTA5YmU4OWZkZDE0OTAxYWE2ZTE2NWZkNmJlNTE5Nyk7CiAgICAgICAgICAgIAoKICAgICAgICAgICAgY2lyY2xlX21hcmtlcl9kZjczNDQ1ODQxOGU0OGM5ODJjMTBjZTU4MDY3MzVkOS5iaW5kUG9wdXAocG9wdXBfNTFhY2I1NmU2NzViNDYyYjk0MzQ4MTk2MzliYzQ1ZjIpOwoKICAgICAgICAgICAgCiAgICAgICAgCiAgICAKICAgICAgICAgICAgdmFyIGNpcmNsZV9tYXJrZXJfN2JkMjI0M2U1Y2YwNDBlMjkxN2U0MDkwMDRlODFlNmIgPSBMLmNpcmNsZU1hcmtlcigKICAgICAgICAgICAgICAgIFsxOS4wNTM1LDcyLjkyMzldLAogICAgICAgICAgICAgICAgewogICJidWJibGluZ01vdXNlRXZlbnRzIjogdHJ1ZSwKICAiY29sb3IiOiAicHVycGxlIiwKICAiZGFzaEFycmF5IjogbnVsbCwKICAiZGFzaE9mZnNldCI6IG51bGwsCiAgImZpbGwiOiB0cnVlLAogICJmaWxsQ29sb3IiOiAicHVycGxlIiwKICAiZmlsbE9wYWNpdHkiOiAwLjYsCiAgImZpbGxSdWxlIjogImV2ZW5vZGQiLAogICJsaW5lQ2FwIjogInJvdW5kIiwKICAibGluZUpvaW4iOiAicm91bmQiLAogICJvcGFjaXR5IjogMS4wLAogICJyYWRpdXMiOiA1LAogICJzdHJva2UiOiB0cnVlLAogICJ3ZWlnaHQiOiAzCn0KICAgICAgICAgICAgICAgICkuYWRkVG8obWFwX2U5ZTIzOWY0YTg1YTRhZjNiM2Y3OGFiNTUxM2ZjZTg4KTsKICAgICAgICAgICAgCiAgICAKICAgICAgICAgICAgdmFyIHBvcHVwX2IwYmIxMmZmYzhiNjQzZWViNDEwNjQxMGE2N2ZlZjYyID0gTC5wb3B1cCh7bWF4V2lkdGg6ICczMDAnfSk7CgogICAgICAgICAgICAKICAgICAgICAgICAgICAgIHZhciBodG1sXzcxOWFjZmUxOWY0MjQ3NDY4NGE4ZmVlOWE3MWFhN2ZjID0gJCgnPGRpdiBpZD0iaHRtbF83MTlhY2ZlMTlmNDI0NzQ2ODRhOGZlZTlhNzFhYTdmYyIgc3R5bGU9IndpZHRoOiAxMDAuMCU7IGhlaWdodDogMTAwLjAlOyI+R292YW5kaTwvZGl2PicpWzBdOwogICAgICAgICAgICAgICAgcG9wdXBfYjBiYjEyZmZjOGI2NDNlZWI0MTA2NDEwYTY3ZmVmNjIuc2V0Q29udGVudChodG1sXzcxOWFjZmUxOWY0MjQ3NDY4NGE4ZmVlOWE3MWFhN2ZjKTsKICAgICAgICAgICAgCgogICAgICAgICAgICBjaXJjbGVfbWFya2VyXzdiZDIyNDNlNWNmMDQwZTI5MTdlNDA5MDA0ZTgxZTZiLmJpbmRQb3B1cChwb3B1cF9iMGJiMTJmZmM4YjY0M2VlYjQxMDY0MTBhNjdmZWY2Mik7CgogICAgICAgICAgICAKICAgICAgICAKICAgIAogICAgICAgICAgICB2YXIgY2lyY2xlX21hcmtlcl9lNGEzYTZkYjAyNjQ0ZjM3YTQwYjg3ZDE1YTI5MGIxOSA9IEwuY2lyY2xlTWFya2VyKAogICAgICAgICAgICAgICAgWzE5LjA1MTMsNzIuOTM2OF0sCiAgICAgICAgICAgICAgICB7CiAgImJ1YmJsaW5nTW91c2VFdmVudHMiOiB0cnVlLAogICJjb2xvciI6ICJwdXJwbGUiLAogICJkYXNoQXJyYXkiOiBudWxsLAogICJkYXNoT2Zmc2V0IjogbnVsbCwKICAiZmlsbCI6IHRydWUsCiAgImZpbGxDb2xvciI6ICJwdXJwbGUiLAogICJmaWxsT3BhY2l0eSI6IDAuNiwKICAiZmlsbFJ1bGUiOiAiZXZlbm9kZCIsCiAgImxpbmVDYXAiOiAicm91bmQiLAogICJsaW5lSm9pbiI6ICJyb3VuZCIsCiAgIm9wYWNpdHkiOiAxLjAsCiAgInJhZGl1cyI6IDUsCiAgInN0cm9rZSI6IHRydWUsCiAgIndlaWdodCI6IDMKfQogICAgICAgICAgICAgICAgKS5hZGRUbyhtYXBfZTllMjM5ZjRhODVhNGFmM2IzZjc4YWI1NTEzZmNlODgpOwogICAgICAgICAgICAKICAgIAogICAgICAgICAgICB2YXIgcG9wdXBfNzE3ZTA3ZjIwNzMxNGY1N2E0YjdmZjc0MDRkOTQ0NmMgPSBMLnBvcHVwKHttYXhXaWR0aDogJzMwMCd9KTsKCiAgICAgICAgICAgIAogICAgICAgICAgICAgICAgdmFyIGh0bWxfODU2NzQ5MjUxOTc3NDVlZmJlNzNjZWNiMTBjMDgzZDggPSAkKCc8ZGl2IGlkPSJodG1sXzg1Njc0OTI1MTk3NzQ1ZWZiZTczY2VjYjEwYzA4M2Q4IiBzdHlsZT0id2lkdGg6IDEwMC4wJTsgaGVpZ2h0OiAxMDAuMCU7Ij5NYW5raHVyZDwvZGl2PicpWzBdOwogICAgICAgICAgICAgICAgcG9wdXBfNzE3ZTA3ZjIwNzMxNGY1N2E0YjdmZjc0MDRkOTQ0NmMuc2V0Q29udGVudChodG1sXzg1Njc0OTI1MTk3NzQ1ZWZiZTczY2VjYjEwYzA4M2Q4KTsKICAgICAgICAgICAgCgogICAgICAgICAgICBjaXJjbGVfbWFya2VyX2U0YTNhNmRiMDI2NDRmMzdhNDBiODdkMTVhMjkwYjE5LmJpbmRQb3B1cChwb3B1cF83MTdlMDdmMjA3MzE0ZjU3YTRiN2ZmNzQwNGQ5NDQ2Yyk7CgogICAgICAgICAgICAKICAgICAgICAKICAgIAogICAgICAgICAgICB2YXIgY2lyY2xlX21hcmtlcl83MWIwMjAzODI1OTQ0OTFjYTk3OWZlMzdlMWMxMmY1YiA9IEwuY2lyY2xlTWFya2VyKAogICAgICAgICAgICAgICAgWzE5LjAwOTMsNzIuODk4NF0sCiAgICAgICAgICAgICAgICB7CiAgImJ1YmJsaW5nTW91c2VFdmVudHMiOiB0cnVlLAogICJjb2xvciI6ICJwdXJwbGUiLAogICJkYXNoQXJyYXkiOiBudWxsLAogICJkYXNoT2Zmc2V0IjogbnVsbCwKICAiZmlsbCI6IHRydWUsCiAgImZpbGxDb2xvciI6ICJwdXJwbGUiLAogICJmaWxsT3BhY2l0eSI6IDAuNiwKICAiZmlsbFJ1bGUiOiAiZXZlbm9kZCIsCiAgImxpbmVDYXAiOiAicm91bmQiLAogICJsaW5lSm9pbiI6ICJyb3VuZCIsCiAgIm9wYWNpdHkiOiAxLjAsCiAgInJhZGl1cyI6IDUsCiAgInN0cm9rZSI6IHRydWUsCiAgIndlaWdodCI6IDMKfQogICAgICAgICAgICAgICAgKS5hZGRUbyhtYXBfZTllMjM5ZjRhODVhNGFmM2IzZjc4YWI1NTEzZmNlODgpOwogICAgICAgICAgICAKICAgIAogICAgICAgICAgICB2YXIgcG9wdXBfOWI1NDZlYmRjYTc5NDhiZGExYTEwNmQyMDhjOTk1ZTAgPSBMLnBvcHVwKHttYXhXaWR0aDogJzMwMCd9KTsKCiAgICAgICAgICAgIAogICAgICAgICAgICAgICAgdmFyIGh0bWxfMGFiNzE3YjljMWI0NGFhN2JlNjFkMTkyMTM0MDkxMTUgPSAkKCc8ZGl2IGlkPSJodG1sXzBhYjcxN2I5YzFiNDRhYTdiZTYxZDE5MjEzNDA5MTE1IiBzdHlsZT0id2lkdGg6IDEwMC4wJTsgaGVpZ2h0OiAxMDAuMCU7Ij5Ucm9tYmF5PC9kaXY+JylbMF07CiAgICAgICAgICAgICAgICBwb3B1cF85YjU0NmViZGNhNzk0OGJkYTFhMTA2ZDIwOGM5OTVlMC5zZXRDb250ZW50KGh0bWxfMGFiNzE3YjljMWI0NGFhN2JlNjFkMTkyMTM0MDkxMTUpOwogICAgICAgICAgICAKCiAgICAgICAgICAgIGNpcmNsZV9tYXJrZXJfNzFiMDIwMzgyNTk0NDkxY2E5NzlmZTM3ZTFjMTJmNWIuYmluZFBvcHVwKHBvcHVwXzliNTQ2ZWJkY2E3OTQ4YmRhMWExMDZkMjA4Yzk5NWUwKTsKCiAgICAgICAgICAgIAogICAgICAgIAogICAgCiAgICAgICAgICAgIHZhciBjaXJjbGVfbWFya2VyX2FhNjFjZmE3ZGI0NjRiYWU5YTZmZTM5YTdhMWY5OWJjID0gTC5jaXJjbGVNYXJrZXIoCiAgICAgICAgICAgICAgICBbMTguOTc3Nyw3Mi44MjczXSwKICAgICAgICAgICAgICAgIHsKICAiYnViYmxpbmdNb3VzZUV2ZW50cyI6IHRydWUsCiAgImNvbG9yIjogImdyZWVuIiwKICAiZGFzaEFycmF5IjogbnVsbCwKICAiZGFzaE9mZnNldCI6IG51bGwsCiAgImZpbGwiOiB0cnVlLAogICJmaWxsQ29sb3IiOiAiZ3JlZW4iLAogICJmaWxsT3BhY2l0eSI6IDAuNiwKICAiZmlsbFJ1bGUiOiAiZXZlbm9kZCIsCiAgImxpbmVDYXAiOiAicm91bmQiLAogICJsaW5lSm9pbiI6ICJyb3VuZCIsCiAgIm9wYWNpdHkiOiAxLjAsCiAgInJhZGl1cyI6IDUsCiAgInN0cm9rZSI6IHRydWUsCiAgIndlaWdodCI6IDMKfQogICAgICAgICAgICAgICAgKS5hZGRUbyhtYXBfZTllMjM5ZjRhODVhNGFmM2IzZjc4YWI1NTEzZmNlODgpOwogICAgICAgICAgICAKICAgIAogICAgICAgICAgICB2YXIgcG9wdXBfOTUxNTU5ODlkOGE1NDRkYTg4MzJmM2VlYmRmOWE3M2YgPSBMLnBvcHVwKHttYXhXaWR0aDogJzMwMCd9KTsKCiAgICAgICAgICAgIAogICAgICAgICAgICAgICAgdmFyIGh0bWxfNmYzMmVhMjMyMTQwNDY4Nzk5ZWRjOTc0ZDg5ZDg5NjMgPSAkKCc8ZGl2IGlkPSJodG1sXzZmMzJlYTIzMjE0MDQ2ODc5OWVkYzk3NGQ4OWQ4OTYzIiBzdHlsZT0id2lkdGg6IDEwMC4wJTsgaGVpZ2h0OiAxMDAuMCU7Ij5BZ3JpcGFkYTwvZGl2PicpWzBdOwogICAgICAgICAgICAgICAgcG9wdXBfOTUxNTU5ODlkOGE1NDRkYTg4MzJmM2VlYmRmOWE3M2Yuc2V0Q29udGVudChodG1sXzZmMzJlYTIzMjE0MDQ2ODc5OWVkYzk3NGQ4OWQ4OTYzKTsKICAgICAgICAgICAgCgogICAgICAgICAgICBjaXJjbGVfbWFya2VyX2FhNjFjZmE3ZGI0NjRiYWU5YTZmZTM5YTdhMWY5OWJjLmJpbmRQb3B1cChwb3B1cF85NTE1NTk4OWQ4YTU0NGRhODgzMmYzZWViZGY5YTczZik7CgogICAgICAgICAgICAKICAgICAgICAKICAgIAogICAgICAgICAgICB2YXIgY2lyY2xlX21hcmtlcl8yZDAwZjM2ZTZkOWM0MTk5YmZhYWI0YzIwNjljOGMwYyA9IEwuY2lyY2xlTWFya2VyKAogICAgICAgICAgICAgICAgWzE4LjkzMjIsNzIuODI2NF0sCiAgICAgICAgICAgICAgICB7CiAgImJ1YmJsaW5nTW91c2VFdmVudHMiOiB0cnVlLAogICJjb2xvciI6ICJncmVlbiIsCiAgImRhc2hBcnJheSI6IG51bGwsCiAgImRhc2hPZmZzZXQiOiBudWxsLAogICJmaWxsIjogdHJ1ZSwKICAiZmlsbENvbG9yIjogImdyZWVuIiwKICAiZmlsbE9wYWNpdHkiOiAwLjYsCiAgImZpbGxSdWxlIjogImV2ZW5vZGQiLAogICJsaW5lQ2FwIjogInJvdW5kIiwKICAibGluZUpvaW4iOiAicm91bmQiLAogICJvcGFjaXR5IjogMS4wLAogICJyYWRpdXMiOiA1LAogICJzdHJva2UiOiB0cnVlLAogICJ3ZWlnaHQiOiAzCn0KICAgICAgICAgICAgICAgICkuYWRkVG8obWFwX2U5ZTIzOWY0YTg1YTRhZjNiM2Y3OGFiNTUxM2ZjZTg4KTsKICAgICAgICAgICAgCiAgICAKICAgICAgICAgICAgdmFyIHBvcHVwXzdmNzMwN2Q0YmY1ZTRmZjRhYmI0MDc3Y2FmNTRlNzllID0gTC5wb3B1cCh7bWF4V2lkdGg6ICczMDAnfSk7CgogICAgICAgICAgICAKICAgICAgICAgICAgICAgIHZhciBodG1sX2ZkYWI0YzllN2ViMTRlZDBiMDhhZTEwMDc2YjhkMjFlID0gJCgnPGRpdiBpZD0iaHRtbF9mZGFiNGM5ZTdlYjE0ZWQwYjA4YWUxMDA3NmI4ZDIxZSIgc3R5bGU9IndpZHRoOiAxMDAuMCU7IGhlaWdodDogMTAwLjAlOyI+Q2h1cmNoZ2F0ZTwvZGl2PicpWzBdOwogICAgICAgICAgICAgICAgcG9wdXBfN2Y3MzA3ZDRiZjVlNGZmNGFiYjQwNzdjYWY1NGU3OWUuc2V0Q29udGVudChodG1sX2ZkYWI0YzllN2ViMTRlZDBiMDhhZTEwMDc2YjhkMjFlKTsKICAgICAgICAgICAgCgogICAgICAgICAgICBjaXJjbGVfbWFya2VyXzJkMDBmMzZlNmQ5YzQxOTliZmFhYjRjMjA2OWM4YzBjLmJpbmRQb3B1cChwb3B1cF83ZjczMDdkNGJmNWU0ZmY0YWJiNDA3N2NhZjU0ZTc5ZSk7CgogICAgICAgICAgICAKICAgICAgICAKICAgIAogICAgICAgICAgICB2YXIgY2lyY2xlX21hcmtlcl9lYjY4MmI4NmNjMTI0NTQ4YjE2M2Y1ZDY5MjFlMzc0ZSA9IEwuY2lyY2xlTWFya2VyKAogICAgICAgICAgICAgICAgWzE4Ljk4NjIwOSw3Mi44NDQwNzZdLAogICAgICAgICAgICAgICAgewogICJidWJibGluZ01vdXNlRXZlbnRzIjogdHJ1ZSwKICAiY29sb3IiOiAiZ3JlZW4iLAogICJkYXNoQXJyYXkiOiBudWxsLAogICJkYXNoT2Zmc2V0IjogbnVsbCwKICAiZmlsbCI6IHRydWUsCiAgImZpbGxDb2xvciI6ICJncmVlbiIsCiAgImZpbGxPcGFjaXR5IjogMC42LAogICJmaWxsUnVsZSI6ICJldmVub2RkIiwKICAibGluZUNhcCI6ICJyb3VuZCIsCiAgImxpbmVKb2luIjogInJvdW5kIiwKICAib3BhY2l0eSI6IDEuMCwKICAicmFkaXVzIjogNSwKICAic3Ryb2tlIjogdHJ1ZSwKICAid2VpZ2h0IjogMwp9CiAgICAgICAgICAgICAgICApLmFkZFRvKG1hcF9lOWUyMzlmNGE4NWE0YWYzYjNmNzhhYjU1MTNmY2U4OCk7CiAgICAgICAgICAgIAogICAgCiAgICAgICAgICAgIHZhciBwb3B1cF8xZjVjOTcyMGM1NzA0MWQxOTBkODk3YWUwYTVhN2ZhNyA9IEwucG9wdXAoe21heFdpZHRoOiAnMzAwJ30pOwoKICAgICAgICAgICAgCiAgICAgICAgICAgICAgICB2YXIgaHRtbF84ZjM4NTljMzc5NTk0OGE1YjdkZTQ3OGQ2MjZmNDkwYSA9ICQoJzxkaXYgaWQ9Imh0bWxfOGYzODU5YzM3OTU5NDhhNWI3ZGU0NzhkNjI2ZjQ5MGEiIHN0eWxlPSJ3aWR0aDogMTAwLjAlOyBoZWlnaHQ6IDEwMC4wJTsiPkNvdHRvbiBHcmVlbjwvZGl2PicpWzBdOwogICAgICAgICAgICAgICAgcG9wdXBfMWY1Yzk3MjBjNTcwNDFkMTkwZDg5N2FlMGE1YTdmYTcuc2V0Q29udGVudChodG1sXzhmMzg1OWMzNzk1OTQ4YTViN2RlNDc4ZDYyNmY0OTBhKTsKICAgICAgICAgICAgCgogICAgICAgICAgICBjaXJjbGVfbWFya2VyX2ViNjgyYjg2Y2MxMjQ1NDhiMTYzZjVkNjkyMWUzNzRlLmJpbmRQb3B1cChwb3B1cF8xZjVjOTcyMGM1NzA0MWQxOTBkODk3YWUwYTVhN2ZhNyk7CgogICAgICAgICAgICAKICAgICAgICAKICAgIAogICAgICAgICAgICB2YXIgY2lyY2xlX21hcmtlcl9jZTk3YzgzNWExMmE0M2I5OTAzN2E0NTEzYTcxOTk1ZSA9IEwuY2lyY2xlTWFya2VyKAogICAgICAgICAgICAgICAgWzE4LjkxLDcyLjgxXSwKICAgICAgICAgICAgICAgIHsKICAiYnViYmxpbmdNb3VzZUV2ZW50cyI6IHRydWUsCiAgImNvbG9yIjogImdyZWVuIiwKICAiZGFzaEFycmF5IjogbnVsbCwKICAiZGFzaE9mZnNldCI6IG51bGwsCiAgImZpbGwiOiB0cnVlLAogICJmaWxsQ29sb3IiOiAiZ3JlZW4iLAogICJmaWxsT3BhY2l0eSI6IDAuNiwKICAiZmlsbFJ1bGUiOiAiZXZlbm9kZCIsCiAgImxpbmVDYXAiOiAicm91bmQiLAogICJsaW5lSm9pbiI6ICJyb3VuZCIsCiAgIm9wYWNpdHkiOiAxLjAsCiAgInJhZGl1cyI6IDUsCiAgInN0cm9rZSI6IHRydWUsCiAgIndlaWdodCI6IDMKfQogICAgICAgICAgICAgICAgKS5hZGRUbyhtYXBfZTllMjM5ZjRhODVhNGFmM2IzZjc4YWI1NTEzZmNlODgpOwogICAgICAgICAgICAKICAgIAogICAgICAgICAgICB2YXIgcG9wdXBfZjMwZWFhYTc3M2Q0NGQ1ZWE4NjNiM2I1MTU3N2U1ZDUgPSBMLnBvcHVwKHttYXhXaWR0aDogJzMwMCd9KTsKCiAgICAgICAgICAgIAogICAgICAgICAgICAgICAgdmFyIGh0bWxfYzM2NGY4ZTBiNjZhNDUwZDk5NzY2MzRiMjA4YzZkZTAgPSAkKCc8ZGl2IGlkPSJodG1sX2MzNjRmOGUwYjY2YTQ1MGQ5OTc2NjM0YjIwOGM2ZGUwIiBzdHlsZT0id2lkdGg6IDEwMC4wJTsgaGVpZ2h0OiAxMDAuMCU7Ij5DdWZmZSBQYXJhZGU8L2Rpdj4nKVswXTsKICAgICAgICAgICAgICAgIHBvcHVwX2YzMGVhYWE3NzNkNDRkNWVhODYzYjNiNTE1NzdlNWQ1LnNldENvbnRlbnQoaHRtbF9jMzY0ZjhlMGI2NmE0NTBkOTk3NjYzNGIyMDhjNmRlMCk7CiAgICAgICAgICAgIAoKICAgICAgICAgICAgY2lyY2xlX21hcmtlcl9jZTk3YzgzNWExMmE0M2I5OTAzN2E0NTEzYTcxOTk1ZS5iaW5kUG9wdXAocG9wdXBfZjMwZWFhYTc3M2Q0NGQ1ZWE4NjNiM2I1MTU3N2U1ZDUpOwoKICAgICAgICAgICAgCiAgICAgICAgCiAgICAKICAgICAgICAgICAgdmFyIGNpcmNsZV9tYXJrZXJfMzQxOWJhMjVhNjYzNDRjYjg5NTZiM2VkZjZiMmQ5MTAgPSBMLmNpcmNsZU1hcmtlcigKICAgICAgICAgICAgICAgIFsxOC45NzE5LDcyLjgwNV0sCiAgICAgICAgICAgICAgICB7CiAgImJ1YmJsaW5nTW91c2VFdmVudHMiOiB0cnVlLAogICJjb2xvciI6ICJncmVlbiIsCiAgImRhc2hBcnJheSI6IG51bGwsCiAgImRhc2hPZmZzZXQiOiBudWxsLAogICJmaWxsIjogdHJ1ZSwKICAiZmlsbENvbG9yIjogImdyZWVuIiwKICAiZmlsbE9wYWNpdHkiOiAwLjYsCiAgImZpbGxSdWxlIjogImV2ZW5vZGQiLAogICJsaW5lQ2FwIjogInJvdW5kIiwKICAibGluZUpvaW4iOiAicm91bmQiLAogICJvcGFjaXR5IjogMS4wLAogICJyYWRpdXMiOiA1LAogICJzdHJva2UiOiB0cnVlLAogICJ3ZWlnaHQiOiAzCn0KICAgICAgICAgICAgICAgICkuYWRkVG8obWFwX2U5ZTIzOWY0YTg1YTRhZjNiM2Y3OGFiNTUxM2ZjZTg4KTsKICAgICAgICAgICAgCiAgICAKICAgICAgICAgICAgdmFyIHBvcHVwX2RlYzE0Y2JlMjRkNTQ4ZTdhZGNlMjdiNGIyN2VmZjcwID0gTC5wb3B1cCh7bWF4V2lkdGg6ICczMDAnfSk7CgogICAgICAgICAgICAKICAgICAgICAgICAgICAgIHZhciBodG1sX2VlZGVhMTg4MGMyMzQ3ZTBiNmRlZmVlNDUxM2I2Y2VkID0gJCgnPGRpdiBpZD0iaHRtbF9lZWRlYTE4ODBjMjM0N2UwYjZkZWZlZTQ1MTNiNmNlZCIgc3R5bGU9IndpZHRoOiAxMDAuMCU7IGhlaWdodDogMTAwLjAlOyI+Q3VtYmFsYSBIaWxsPC9kaXY+JylbMF07CiAgICAgICAgICAgICAgICBwb3B1cF9kZWMxNGNiZTI0ZDU0OGU3YWRjZTI3YjRiMjdlZmY3MC5zZXRDb250ZW50KGh0bWxfZWVkZWExODgwYzIzNDdlMGI2ZGVmZWU0NTEzYjZjZWQpOwogICAgICAgICAgICAKCiAgICAgICAgICAgIGNpcmNsZV9tYXJrZXJfMzQxOWJhMjVhNjYzNDRjYjg5NTZiM2VkZjZiMmQ5MTAuYmluZFBvcHVwKHBvcHVwX2RlYzE0Y2JlMjRkNTQ4ZTdhZGNlMjdiNGIyN2VmZjcwKTsKCiAgICAgICAgICAgIAogICAgICAgIAogICAgCiAgICAgICAgICAgIHZhciBjaXJjbGVfbWFya2VyX2FhYWJjMGM2YzdhNjQ5MmFhMzU0YWQwYzAyYjkwZjRjID0gTC5jaXJjbGVNYXJrZXIoCiAgICAgICAgICAgICAgICBbMTguOTQzMyw3Mi44Mjg2XSwKICAgICAgICAgICAgICAgIHsKICAiYnViYmxpbmdNb3VzZUV2ZW50cyI6IHRydWUsCiAgImNvbG9yIjogImdyZWVuIiwKICAiZGFzaEFycmF5IjogbnVsbCwKICAiZGFzaE9mZnNldCI6IG51bGwsCiAgImZpbGwiOiB0cnVlLAogICJmaWxsQ29sb3IiOiAiZ3JlZW4iLAogICJmaWxsT3BhY2l0eSI6IDAuNiwKICAiZmlsbFJ1bGUiOiAiZXZlbm9kZCIsCiAgImxpbmVDYXAiOiAicm91bmQiLAogICJsaW5lSm9pbiI6ICJyb3VuZCIsCiAgIm9wYWNpdHkiOiAxLjAsCiAgInJhZGl1cyI6IDUsCiAgInN0cm9rZSI6IHRydWUsCiAgIndlaWdodCI6IDMKfQogICAgICAgICAgICAgICAgKS5hZGRUbyhtYXBfZTllMjM5ZjRhODVhNGFmM2IzZjc4YWI1NTEzZmNlODgpOwogICAgICAgICAgICAKICAgIAogICAgICAgICAgICB2YXIgcG9wdXBfNTUyMzFkZDU0MDVlNDZkYmI3ZDBlZjdlNDA0ZjkzMWQgPSBMLnBvcHVwKHttYXhXaWR0aDogJzMwMCd9KTsKCiAgICAgICAgICAgIAogICAgICAgICAgICAgICAgdmFyIGh0bWxfMWZhMTIyZmMyZDc5NDA5Zjg0YTk1YjJhYzkyMDBhZTMgPSAkKCc8ZGl2IGlkPSJodG1sXzFmYTEyMmZjMmQ3OTQwOWY4NGE5NWIyYWM5MjAwYWUzIiBzdHlsZT0id2lkdGg6IDEwMC4wJTsgaGVpZ2h0OiAxMDAuMCU7Ij5EaG9iaXRhbGFvPC9kaXY+JylbMF07CiAgICAgICAgICAgICAgICBwb3B1cF81NTIzMWRkNTQwNWU0NmRiYjdkMGVmN2U0MDRmOTMxZC5zZXRDb250ZW50KGh0bWxfMWZhMTIyZmMyZDc5NDA5Zjg0YTk1YjJhYzkyMDBhZTMpOwogICAgICAgICAgICAKCiAgICAgICAgICAgIGNpcmNsZV9tYXJrZXJfYWFhYmMwYzZjN2E2NDkyYWEzNTRhZDBjMDJiOTBmNGMuYmluZFBvcHVwKHBvcHVwXzU1MjMxZGQ1NDA1ZTQ2ZGJiN2QwZWY3ZTQwNGY5MzFkKTsKCiAgICAgICAgICAgIAogICAgICAgIAogICAgCiAgICAgICAgICAgIHZhciBjaXJjbGVfbWFya2VyXzAzYTUyOWMwZjEzMjQ3NDBiYjA2MGYxZTdjYmQ1ODE1ID0gTC5jaXJjbGVNYXJrZXIoCiAgICAgICAgICAgICAgICBbMTguOTU5OCw3Mi44Mzc4XSwKICAgICAgICAgICAgICAgIHsKICAiYnViYmxpbmdNb3VzZUV2ZW50cyI6IHRydWUsCiAgImNvbG9yIjogImdyZWVuIiwKICAiZGFzaEFycmF5IjogbnVsbCwKICAiZGFzaE9mZnNldCI6IG51bGwsCiAgImZpbGwiOiB0cnVlLAogICJmaWxsQ29sb3IiOiAiZ3JlZW4iLAogICJmaWxsT3BhY2l0eSI6IDAuNiwKICAiZmlsbFJ1bGUiOiAiZXZlbm9kZCIsCiAgImxpbmVDYXAiOiAicm91bmQiLAogICJsaW5lSm9pbiI6ICJyb3VuZCIsCiAgIm9wYWNpdHkiOiAxLjAsCiAgInJhZGl1cyI6IDUsCiAgInN0cm9rZSI6IHRydWUsCiAgIndlaWdodCI6IDMKfQogICAgICAgICAgICAgICAgKS5hZGRUbyhtYXBfZTllMjM5ZjRhODVhNGFmM2IzZjc4YWI1NTEzZmNlODgpOwogICAgICAgICAgICAKICAgIAogICAgICAgICAgICB2YXIgcG9wdXBfMmEyMzM0OTE2OGE5NGQwMWI2ZjlkZjc0MmFkNzA2YWYgPSBMLnBvcHVwKHttYXhXaWR0aDogJzMwMCd9KTsKCiAgICAgICAgICAgIAogICAgICAgICAgICAgICAgdmFyIGh0bWxfZTZkMGEwZmVhN2EyNGU2ODk1Yzg0OGQyNjE1MDc0ZDMgPSAkKCc8ZGl2IGlkPSJodG1sX2U2ZDBhMGZlYTdhMjRlNjg5NWM4NDhkMjYxNTA3NGQzIiBzdHlsZT0id2lkdGg6IDEwMC4wJTsgaGVpZ2h0OiAxMDAuMCU7Ij5Eb25ncmk8L2Rpdj4nKVswXTsKICAgICAgICAgICAgICAgIHBvcHVwXzJhMjMzNDkxNjhhOTRkMDFiNmY5ZGY3NDJhZDcwNmFmLnNldENvbnRlbnQoaHRtbF9lNmQwYTBmZWE3YTI0ZTY4OTVjODQ4ZDI2MTUwNzRkMyk7CiAgICAgICAgICAgIAoKICAgICAgICAgICAgY2lyY2xlX21hcmtlcl8wM2E1MjljMGYxMzI0NzQwYmIwNjBmMWU3Y2JkNTgxNS5iaW5kUG9wdXAocG9wdXBfMmEyMzM0OTE2OGE5NGQwMWI2ZjlkZjc0MmFkNzA2YWYpOwoKICAgICAgICAgICAgCiAgICAgICAgCiAgICAKICAgICAgICAgICAgdmFyIGNpcmNsZV9tYXJrZXJfNTVjODJhMjdmNzBkNDdmZjhjM2RiZGZkNDFjNmYwZGIgPSBMLmNpcmNsZU1hcmtlcigKICAgICAgICAgICAgICAgIFsxOC45MzA3LDcyLjgzMzFdLAogICAgICAgICAgICAgICAgewogICJidWJibGluZ01vdXNlRXZlbnRzIjogdHJ1ZSwKICAiY29sb3IiOiAiZ3JlZW4iLAogICJkYXNoQXJyYXkiOiBudWxsLAogICJkYXNoT2Zmc2V0IjogbnVsbCwKICAiZmlsbCI6IHRydWUsCiAgImZpbGxDb2xvciI6ICJncmVlbiIsCiAgImZpbGxPcGFjaXR5IjogMC42LAogICJmaWxsUnVsZSI6ICJldmVub2RkIiwKICAibGluZUNhcCI6ICJyb3VuZCIsCiAgImxpbmVKb2luIjogInJvdW5kIiwKICAib3BhY2l0eSI6IDEuMCwKICAicmFkaXVzIjogNSwKICAic3Ryb2tlIjogdHJ1ZSwKICAid2VpZ2h0IjogMwp9CiAgICAgICAgICAgICAgICApLmFkZFRvKG1hcF9lOWUyMzlmNGE4NWE0YWYzYjNmNzhhYjU1MTNmY2U4OCk7CiAgICAgICAgICAgIAogICAgCiAgICAgICAgICAgIHZhciBwb3B1cF9iMTdhZDYzYjkyODQ0NmJiYmYyNGUwMDFjYmQzYzQ5OSA9IEwucG9wdXAoe21heFdpZHRoOiAnMzAwJ30pOwoKICAgICAgICAgICAgCiAgICAgICAgICAgICAgICB2YXIgaHRtbF9iMTExMWUyNTA5MGQ0ZDZhOTViM2M5MzQ2NmEzNDMzMCA9ICQoJzxkaXYgaWQ9Imh0bWxfYjExMTFlMjUwOTBkNGQ2YTk1YjNjOTM0NjZhMzQzMzAiIHN0eWxlPSJ3aWR0aDogMTAwLjAlOyBoZWlnaHQ6IDEwMC4wJTsiPkthbGEgR2hvZGE8L2Rpdj4nKVswXTsKICAgICAgICAgICAgICAgIHBvcHVwX2IxN2FkNjNiOTI4NDQ2YmJiZjI0ZTAwMWNiZDNjNDk5LnNldENvbnRlbnQoaHRtbF9iMTExMWUyNTA5MGQ0ZDZhOTViM2M5MzQ2NmEzNDMzMCk7CiAgICAgICAgICAgIAoKICAgICAgICAgICAgY2lyY2xlX21hcmtlcl81NWM4MmEyN2Y3MGQ0N2ZmOGMzZGJkZmQ0MWM2ZjBkYi5iaW5kUG9wdXAocG9wdXBfYjE3YWQ2M2I5Mjg0NDZiYmJmMjRlMDAxY2JkM2M0OTkpOwoKICAgICAgICAgICAgCiAgICAgICAgCiAgICAKICAgICAgICAgICAgdmFyIGNpcmNsZV9tYXJrZXJfNDM0ZjRhZWQ3MWJkNGViNjk5YjBkMzc4YWE3ZTBjYzcgPSBMLmNpcmNsZU1hcmtlcigKICAgICAgICAgICAgICAgIFsxOC45OTc3LDcyLjgzNzZdLAogICAgICAgICAgICAgICAgewogICJidWJibGluZ01vdXNlRXZlbnRzIjogdHJ1ZSwKICAiY29sb3IiOiAiZ3JlZW4iLAogICJkYXNoQXJyYXkiOiBudWxsLAogICJkYXNoT2Zmc2V0IjogbnVsbCwKICAiZmlsbCI6IHRydWUsCiAgImZpbGxDb2xvciI6ICJncmVlbiIsCiAgImZpbGxPcGFjaXR5IjogMC42LAogICJmaWxsUnVsZSI6ICJldmVub2RkIiwKICAibGluZUNhcCI6ICJyb3VuZCIsCiAgImxpbmVKb2luIjogInJvdW5kIiwKICAib3BhY2l0eSI6IDEuMCwKICAicmFkaXVzIjogNSwKICAic3Ryb2tlIjogdHJ1ZSwKICAid2VpZ2h0IjogMwp9CiAgICAgICAgICAgICAgICApLmFkZFRvKG1hcF9lOWUyMzlmNGE4NWE0YWYzYjNmNzhhYjU1MTNmY2U4OCk7CiAgICAgICAgICAgIAogICAgCiAgICAgICAgICAgIHZhciBwb3B1cF8wZmU1YjUyMGIyNGE0M2ZhYmQ1OGI2MmRhYjAxYjIyZiA9IEwucG9wdXAoe21heFdpZHRoOiAnMzAwJ30pOwoKICAgICAgICAgICAgCiAgICAgICAgICAgICAgICB2YXIgaHRtbF82OWM1Y2JhOWM3MDQ0ZjEwOTNjN2I5NTE3YzE2ZGRmMyA9ICQoJzxkaXYgaWQ9Imh0bWxfNjljNWNiYTljNzA0NGYxMDkzYzdiOTUxN2MxNmRkZjMiIHN0eWxlPSJ3aWR0aDogMTAwLjAlOyBoZWlnaHQ6IDEwMC4wJTsiPkxvd2VyIFBhcmVsPC9kaXY+JylbMF07CiAgICAgICAgICAgICAgICBwb3B1cF8wZmU1YjUyMGIyNGE0M2ZhYmQ1OGI2MmRhYjAxYjIyZi5zZXRDb250ZW50KGh0bWxfNjljNWNiYTljNzA0NGYxMDkzYzdiOTUxN2MxNmRkZjMpOwogICAgICAgICAgICAKCiAgICAgICAgICAgIGNpcmNsZV9tYXJrZXJfNDM0ZjRhZWQ3MWJkNGViNjk5YjBkMzc4YWE3ZTBjYzcuYmluZFBvcHVwKHBvcHVwXzBmZTViNTIwYjI0YTQzZmFiZDU4YjYyZGFiMDFiMjJmKTsKCiAgICAgICAgICAgIAogICAgICAgIAogICAgCiAgICAgICAgICAgIHZhciBjaXJjbGVfbWFya2VyXzhjYjg2ZGI2MDAxNzQxMTliY2M5ZjQ2NTg0ZjhkZWUwID0gTC5jaXJjbGVNYXJrZXIoCiAgICAgICAgICAgICAgICBbMTguOTg2NSw3Mi44MTgzXSwKICAgICAgICAgICAgICAgIHsKICAiYnViYmxpbmdNb3VzZUV2ZW50cyI6IHRydWUsCiAgImNvbG9yIjogImdyZWVuIiwKICAiZGFzaEFycmF5IjogbnVsbCwKICAiZGFzaE9mZnNldCI6IG51bGwsCiAgImZpbGwiOiB0cnVlLAogICJmaWxsQ29sb3IiOiAiZ3JlZW4iLAogICJmaWxsT3BhY2l0eSI6IDAuNiwKICAiZmlsbFJ1bGUiOiAiZXZlbm9kZCIsCiAgImxpbmVDYXAiOiAicm91bmQiLAogICJsaW5lSm9pbiI6ICJyb3VuZCIsCiAgIm9wYWNpdHkiOiAxLjAsCiAgInJhZGl1cyI6IDUsCiAgInN0cm9rZSI6IHRydWUsCiAgIndlaWdodCI6IDMKfQogICAgICAgICAgICAgICAgKS5hZGRUbyhtYXBfZTllMjM5ZjRhODVhNGFmM2IzZjc4YWI1NTEzZmNlODgpOwogICAgICAgICAgICAKICAgIAogICAgICAgICAgICB2YXIgcG9wdXBfNDRkMDYwMmE0MjlkNGI4YmI0OTcwN2QyZTY0NWJmMTEgPSBMLnBvcHVwKHttYXhXaWR0aDogJzMwMCd9KTsKCiAgICAgICAgICAgIAogICAgICAgICAgICAgICAgdmFyIGh0bWxfYTZkOThiMGY3OTVhNGJmZjhkMjlmOGMwMGE3M2MxMjQgPSAkKCc8ZGl2IGlkPSJodG1sX2E2ZDk4YjBmNzk1YTRiZmY4ZDI5ZjhjMDBhNzNjMTI0IiBzdHlsZT0id2lkdGg6IDEwMC4wJTsgaGVpZ2h0OiAxMDAuMCU7Ij5NYWhhbGF4bWk8L2Rpdj4nKVswXTsKICAgICAgICAgICAgICAgIHBvcHVwXzQ0ZDA2MDJhNDI5ZDRiOGJiNDk3MDdkMmU2NDViZjExLnNldENvbnRlbnQoaHRtbF9hNmQ5OGIwZjc5NWE0YmZmOGQyOWY4YzAwYTczYzEyNCk7CiAgICAgICAgICAgIAoKICAgICAgICAgICAgY2lyY2xlX21hcmtlcl84Y2I4NmRiNjAwMTc0MTE5YmNjOWY0NjU4NGY4ZGVlMC5iaW5kUG9wdXAocG9wdXBfNDRkMDYwMmE0MjlkNGI4YmI0OTcwN2QyZTY0NWJmMTEpOwoKICAgICAgICAgICAgCiAgICAgICAgCiAgICAKICAgICAgICAgICAgdmFyIGNpcmNsZV9tYXJrZXJfODcxZTg0NWViZWIwNGFjNDkwZWEwMThiYmRiZDlhODggPSBMLmNpcmNsZU1hcmtlcigKICAgICAgICAgICAgICAgIFsxOS4wMzUsNzIuODRdLAogICAgICAgICAgICAgICAgewogICJidWJibGluZ01vdXNlRXZlbnRzIjogdHJ1ZSwKICAiY29sb3IiOiAiZ3JlZW4iLAogICJkYXNoQXJyYXkiOiBudWxsLAogICJkYXNoT2Zmc2V0IjogbnVsbCwKICAiZmlsbCI6IHRydWUsCiAgImZpbGxDb2xvciI6ICJncmVlbiIsCiAgImZpbGxPcGFjaXR5IjogMC42LAogICJmaWxsUnVsZSI6ICJldmVub2RkIiwKICAibGluZUNhcCI6ICJyb3VuZCIsCiAgImxpbmVKb2luIjogInJvdW5kIiwKICAib3BhY2l0eSI6IDEuMCwKICAicmFkaXVzIjogNSwKICAic3Ryb2tlIjogdHJ1ZSwKICAid2VpZ2h0IjogMwp9CiAgICAgICAgICAgICAgICApLmFkZFRvKG1hcF9lOWUyMzlmNGE4NWE0YWYzYjNmNzhhYjU1MTNmY2U4OCk7CiAgICAgICAgICAgIAogICAgCiAgICAgICAgICAgIHZhciBwb3B1cF85NTg2NTBhMjk3Nzg0NjFjOTE4M2MxZDk3OGU2NmFhMyA9IEwucG9wdXAoe21heFdpZHRoOiAnMzAwJ30pOwoKICAgICAgICAgICAgCiAgICAgICAgICAgICAgICB2YXIgaHRtbF9iNGI5YWM5MGYyNDQ0NzFhOWJjMThhZjA0YTYxMzE2NiA9ICQoJzxkaXYgaWQ9Imh0bWxfYjRiOWFjOTBmMjQ0NDcxYTliYzE4YWYwNGE2MTMxNjYiIHN0eWxlPSJ3aWR0aDogMTAwLjAlOyBoZWlnaHQ6IDEwMC4wJTsiPk1haGltPC9kaXY+JylbMF07CiAgICAgICAgICAgICAgICBwb3B1cF85NTg2NTBhMjk3Nzg0NjFjOTE4M2MxZDk3OGU2NmFhMy5zZXRDb250ZW50KGh0bWxfYjRiOWFjOTBmMjQ0NDcxYTliYzE4YWYwNGE2MTMxNjYpOwogICAgICAgICAgICAKCiAgICAgICAgICAgIGNpcmNsZV9tYXJrZXJfODcxZTg0NWViZWIwNGFjNDkwZWEwMThiYmRiZDlhODguYmluZFBvcHVwKHBvcHVwXzk1ODY1MGEyOTc3ODQ2MWM5MTgzYzFkOTc4ZTY2YWEzKTsKCiAgICAgICAgICAgIAogICAgICAgIAogICAgCiAgICAgICAgICAgIHZhciBjaXJjbGVfbWFya2VyXzI2NjQ2YTQ5ZDI0MzRiOGJiYmZkZjM4NWJlMTU2ZTUwID0gTC5jaXJjbGVNYXJrZXIoCiAgICAgICAgICAgICAgICBbMTguOTUsNzIuNzk1XSwKICAgICAgICAgICAgICAgIHsKICAiYnViYmxpbmdNb3VzZUV2ZW50cyI6IHRydWUsCiAgImNvbG9yIjogImdyZWVuIiwKICAiZGFzaEFycmF5IjogbnVsbCwKICAiZGFzaE9mZnNldCI6IG51bGwsCiAgImZpbGwiOiB0cnVlLAogICJmaWxsQ29sb3IiOiAiZ3JlZW4iLAogICJmaWxsT3BhY2l0eSI6IDAuNiwKICAiZmlsbFJ1bGUiOiAiZXZlbm9kZCIsCiAgImxpbmVDYXAiOiAicm91bmQiLAogICJsaW5lSm9pbiI6ICJyb3VuZCIsCiAgIm9wYWNpdHkiOiAxLjAsCiAgInJhZGl1cyI6IDUsCiAgInN0cm9rZSI6IHRydWUsCiAgIndlaWdodCI6IDMKfQogICAgICAgICAgICAgICAgKS5hZGRUbyhtYXBfZTllMjM5ZjRhODVhNGFmM2IzZjc4YWI1NTEzZmNlODgpOwogICAgICAgICAgICAKICAgIAogICAgICAgICAgICB2YXIgcG9wdXBfNjQ0MjZmNjYyMDVkNDEzYzkxYWI3YTljMTExMzY5OWQgPSBMLnBvcHVwKHttYXhXaWR0aDogJzMwMCd9KTsKCiAgICAgICAgICAgIAogICAgICAgICAgICAgICAgdmFyIGh0bWxfZTUxZWQ2MWQ4OTZlNDhkNDgzMTAzYzJjMTYxNmQ0NWYgPSAkKCc8ZGl2IGlkPSJodG1sX2U1MWVkNjFkODk2ZTQ4ZDQ4MzEwM2MyYzE2MTZkNDVmIiBzdHlsZT0id2lkdGg6IDEwMC4wJTsgaGVpZ2h0OiAxMDAuMCU7Ij5NYWxhYmFyIEhpbGw8L2Rpdj4nKVswXTsKICAgICAgICAgICAgICAgIHBvcHVwXzY0NDI2ZjY2MjA1ZDQxM2M5MWFiN2E5YzExMTM2OTlkLnNldENvbnRlbnQoaHRtbF9lNTFlZDYxZDg5NmU0OGQ0ODMxMDNjMmMxNjE2ZDQ1Zik7CiAgICAgICAgICAgIAoKICAgICAgICAgICAgY2lyY2xlX21hcmtlcl8yNjY0NmE0OWQyNDM0YjhiYmJmZGYzODViZTE1NmU1MC5iaW5kUG9wdXAocG9wdXBfNjQ0MjZmNjYyMDVkNDEzYzkxYWI3YTljMTExMzY5OWQpOwoKICAgICAgICAgICAgCiAgICAgICAgCiAgICAKICAgICAgICAgICAgdmFyIGNpcmNsZV9tYXJrZXJfNGExZGU5NWNjMGM5NDFiODg1MDg1MjMxYzgwMTY3NWUgPSBMLmNpcmNsZU1hcmtlcigKICAgICAgICAgICAgICAgIFsxOC45NDQ3LDcyLjgyNDRdLAogICAgICAgICAgICAgICAgewogICJidWJibGluZ01vdXNlRXZlbnRzIjogdHJ1ZSwKICAiY29sb3IiOiAiZ3JlZW4iLAogICJkYXNoQXJyYXkiOiBudWxsLAogICJkYXNoT2Zmc2V0IjogbnVsbCwKICAiZmlsbCI6IHRydWUsCiAgImZpbGxDb2xvciI6ICJncmVlbiIsCiAgImZpbGxPcGFjaXR5IjogMC42LAogICJmaWxsUnVsZSI6ICJldmVub2RkIiwKICAibGluZUNhcCI6ICJyb3VuZCIsCiAgImxpbmVKb2luIjogInJvdW5kIiwKICAib3BhY2l0eSI6IDEuMCwKICAicmFkaXVzIjogNSwKICAic3Ryb2tlIjogdHJ1ZSwKICAid2VpZ2h0IjogMwp9CiAgICAgICAgICAgICAgICApLmFkZFRvKG1hcF9lOWUyMzlmNGE4NWE0YWYzYjNmNzhhYjU1MTNmY2U4OCk7CiAgICAgICAgICAgIAogICAgCiAgICAgICAgICAgIHZhciBwb3B1cF85YzRjY2MzZTRiZjQ0OTMzYTJjZDlmM2NmOGU1YWE4ZSA9IEwucG9wdXAoe21heFdpZHRoOiAnMzAwJ30pOwoKICAgICAgICAgICAgCiAgICAgICAgICAgICAgICB2YXIgaHRtbF82ZjIyOTRiMjk3NWI0ZmMxYmZhZDI5M2E3YTUyYzFiZCA9ICQoJzxkaXYgaWQ9Imh0bWxfNmYyMjk0YjI5NzViNGZjMWJmYWQyOTNhN2E1MmMxYmQiIHN0eWxlPSJ3aWR0aDogMTAwLjAlOyBoZWlnaHQ6IDEwMC4wJTsiPk1hcmluZSBMaW5lczwvZGl2PicpWzBdOwogICAgICAgICAgICAgICAgcG9wdXBfOWM0Y2NjM2U0YmY0NDkzM2EyY2Q5ZjNjZjhlNWFhOGUuc2V0Q29udGVudChodG1sXzZmMjI5NGIyOTc1YjRmYzFiZmFkMjkzYTdhNTJjMWJkKTsKICAgICAgICAgICAgCgogICAgICAgICAgICBjaXJjbGVfbWFya2VyXzRhMWRlOTVjYzBjOTQxYjg4NTA4NTIzMWM4MDE2NzVlLmJpbmRQb3B1cChwb3B1cF85YzRjY2MzZTRiZjQ0OTMzYTJjZDlmM2NmOGU1YWE4ZSk7CgogICAgICAgICAgICAKICAgICAgICAKICAgIAogICAgICAgICAgICB2YXIgY2lyY2xlX21hcmtlcl80NTgzNDNiMGYzOTk0MWU2YjAwNTJhNzE3N2RhZTU2NyA9IEwuY2lyY2xlTWFya2VyKAogICAgICAgICAgICAgICAgWzE4Ljk2OTcsNzIuODE5NF0sCiAgICAgICAgICAgICAgICB7CiAgImJ1YmJsaW5nTW91c2VFdmVudHMiOiB0cnVlLAogICJjb2xvciI6ICJncmVlbiIsCiAgImRhc2hBcnJheSI6IG51bGwsCiAgImRhc2hPZmZzZXQiOiBudWxsLAogICJmaWxsIjogdHJ1ZSwKICAiZmlsbENvbG9yIjogImdyZWVuIiwKICAiZmlsbE9wYWNpdHkiOiAwLjYsCiAgImZpbGxSdWxlIjogImV2ZW5vZGQiLAogICJsaW5lQ2FwIjogInJvdW5kIiwKICAibGluZUpvaW4iOiAicm91bmQiLAogICJvcGFjaXR5IjogMS4wLAogICJyYWRpdXMiOiA1LAogICJzdHJva2UiOiB0cnVlLAogICJ3ZWlnaHQiOiAzCn0KICAgICAgICAgICAgICAgICkuYWRkVG8obWFwX2U5ZTIzOWY0YTg1YTRhZjNiM2Y3OGFiNTUxM2ZjZTg4KTsKICAgICAgICAgICAgCiAgICAKICAgICAgICAgICAgdmFyIHBvcHVwX2QxNDE2ZjcyZTI5NTRiYTU4ZTBjMjliMDM2ZWI1OWYyID0gTC5wb3B1cCh7bWF4V2lkdGg6ICczMDAnfSk7CgogICAgICAgICAgICAKICAgICAgICAgICAgICAgIHZhciBodG1sXzU0YTBjMDIwNmZmMzQyNjJhM2MzZTE0MmQwOTFkZDM1ID0gJCgnPGRpdiBpZD0iaHRtbF81NGEwYzAyMDZmZjM0MjYyYTNjM2UxNDJkMDkxZGQzNSIgc3R5bGU9IndpZHRoOiAxMDAuMCU7IGhlaWdodDogMTAwLjAlOyI+TXVtYmFpIENlbnRyYWw8L2Rpdj4nKVswXTsKICAgICAgICAgICAgICAgIHBvcHVwX2QxNDE2ZjcyZTI5NTRiYTU4ZTBjMjliMDM2ZWI1OWYyLnNldENvbnRlbnQoaHRtbF81NGEwYzAyMDZmZjM0MjYyYTNjM2UxNDJkMDkxZGQzNSk7CiAgICAgICAgICAgIAoKICAgICAgICAgICAgY2lyY2xlX21hcmtlcl80NTgzNDNiMGYzOTk0MWU2YjAwNTJhNzE3N2RhZTU2Ny5iaW5kUG9wdXAocG9wdXBfZDE0MTZmNzJlMjk1NGJhNThlMGMyOWIwMzZlYjU5ZjIpOwoKICAgICAgICAgICAgCiAgICAgICAgCiAgICAKICAgICAgICAgICAgdmFyIGNpcmNsZV9tYXJrZXJfYzQyZDY3ZjA1MjI2NDc4YWExYjE2MzE4OGU3NDEyYjYgPSBMLmNpcmNsZU1hcmtlcigKICAgICAgICAgICAgICAgIFsxOC45MjYsNzIuODIzMDAwMDAwMDAwMDFdLAogICAgICAgICAgICAgICAgewogICJidWJibGluZ01vdXNlRXZlbnRzIjogdHJ1ZSwKICAiY29sb3IiOiAiZ3JlZW4iLAogICJkYXNoQXJyYXkiOiBudWxsLAogICJkYXNoT2Zmc2V0IjogbnVsbCwKICAiZmlsbCI6IHRydWUsCiAgImZpbGxDb2xvciI6ICJncmVlbiIsCiAgImZpbGxPcGFjaXR5IjogMC42LAogICJmaWxsUnVsZSI6ICJldmVub2RkIiwKICAibGluZUNhcCI6ICJyb3VuZCIsCiAgImxpbmVKb2luIjogInJvdW5kIiwKICAib3BhY2l0eSI6IDEuMCwKICAicmFkaXVzIjogNSwKICAic3Ryb2tlIjogdHJ1ZSwKICAid2VpZ2h0IjogMwp9CiAgICAgICAgICAgICAgICApLmFkZFRvKG1hcF9lOWUyMzlmNGE4NWE0YWYzYjNmNzhhYjU1MTNmY2U4OCk7CiAgICAgICAgICAgIAogICAgCiAgICAgICAgICAgIHZhciBwb3B1cF8zZjk0MjQ0MjhlOTE0NzViODlkZDA5MTE2MGMxZDMyMyA9IEwucG9wdXAoe21heFdpZHRoOiAnMzAwJ30pOwoKICAgICAgICAgICAgCiAgICAgICAgICAgICAgICB2YXIgaHRtbF9mNTcyNWFmYzc1ZTc0MTQ4OTU2NmZjMzNkNDc2MTVkMCA9ICQoJzxkaXYgaWQ9Imh0bWxfZjU3MjVhZmM3NWU3NDE0ODk1NjZmYzMzZDQ3NjE1ZDAiIHN0eWxlPSJ3aWR0aDogMTAwLjAlOyBoZWlnaHQ6IDEwMC4wJTsiPk5hcmltYW4gUG9pbnQ8L2Rpdj4nKVswXTsKICAgICAgICAgICAgICAgIHBvcHVwXzNmOTQyNDQyOGU5MTQ3NWI4OWRkMDkxMTYwYzFkMzIzLnNldENvbnRlbnQoaHRtbF9mNTcyNWFmYzc1ZTc0MTQ4OTU2NmZjMzNkNDc2MTVkMCk7CiAgICAgICAgICAgIAoKICAgICAgICAgICAgY2lyY2xlX21hcmtlcl9jNDJkNjdmMDUyMjY0NzhhYTFiMTYzMTg4ZTc0MTJiNi5iaW5kUG9wdXAocG9wdXBfM2Y5NDI0NDI4ZTkxNDc1Yjg5ZGQwOTExNjBjMWQzMjMpOwoKICAgICAgICAgICAgCiAgICAgICAgCiAgICAKICAgICAgICAgICAgdmFyIGNpcmNsZV9tYXJrZXJfMDJlMWYyZWIwZDRlNDM5ODhhYWZmN2NjZDQ5MDU2ZTYgPSBMLmNpcmNsZU1hcmtlcigKICAgICAgICAgICAgICAgIFsxOS4wMTY2LDcyLjgyOTVdLAogICAgICAgICAgICAgICAgewogICJidWJibGluZ01vdXNlRXZlbnRzIjogdHJ1ZSwKICAiY29sb3IiOiAiZ3JlZW4iLAogICJkYXNoQXJyYXkiOiBudWxsLAogICJkYXNoT2Zmc2V0IjogbnVsbCwKICAiZmlsbCI6IHRydWUsCiAgImZpbGxDb2xvciI6ICJncmVlbiIsCiAgImZpbGxPcGFjaXR5IjogMC42LAogICJmaWxsUnVsZSI6ICJldmVub2RkIiwKICAibGluZUNhcCI6ICJyb3VuZCIsCiAgImxpbmVKb2luIjogInJvdW5kIiwKICAib3BhY2l0eSI6IDEuMCwKICAicmFkaXVzIjogNSwKICAic3Ryb2tlIjogdHJ1ZSwKICAid2VpZ2h0IjogMwp9CiAgICAgICAgICAgICAgICApLmFkZFRvKG1hcF9lOWUyMzlmNGE4NWE0YWYzYjNmNzhhYjU1MTNmY2U4OCk7CiAgICAgICAgICAgIAogICAgCiAgICAgICAgICAgIHZhciBwb3B1cF9iNjRkYmFjYjMwZDY0NzFiOTRlZjdkM2I0ZmM3YzI4OCA9IEwucG9wdXAoe21heFdpZHRoOiAnMzAwJ30pOwoKICAgICAgICAgICAgCiAgICAgICAgICAgICAgICB2YXIgaHRtbF9kMTQ1ZGJiMTdiMDc0ZTQ0YTI5MmY3YzM5YjI5OTFlYyA9ICQoJzxkaXYgaWQ9Imh0bWxfZDE0NWRiYjE3YjA3NGU0NGEyOTJmN2MzOWIyOTkxZWMiIHN0eWxlPSJ3aWR0aDogMTAwLjAlOyBoZWlnaHQ6IDEwMC4wJTsiPlByYWJoYWRldmk8L2Rpdj4nKVswXTsKICAgICAgICAgICAgICAgIHBvcHVwX2I2NGRiYWNiMzBkNjQ3MWI5NGVmN2QzYjRmYzdjMjg4LnNldENvbnRlbnQoaHRtbF9kMTQ1ZGJiMTdiMDc0ZTQ0YTI5MmY3YzM5YjI5OTFlYyk7CiAgICAgICAgICAgIAoKICAgICAgICAgICAgY2lyY2xlX21hcmtlcl8wMmUxZjJlYjBkNGU0Mzk4OGFhZmY3Y2NkNDkwNTZlNi5iaW5kUG9wdXAocG9wdXBfYjY0ZGJhY2IzMGQ2NDcxYjk0ZWY3ZDNiNGZjN2MyODgpOwoKICAgICAgICAgICAgCiAgICAgICAgCiAgICAKICAgICAgICAgICAgdmFyIGNpcmNsZV9tYXJrZXJfMDJiODVhNTY1ODcyNGViNzg5M2RjODU2NTc5MDNiYTQgPSBMLmNpcmNsZU1hcmtlcigKICAgICAgICAgICAgICAgIFsxOS4wNCw3Mi44Nl0sCiAgICAgICAgICAgICAgICB7CiAgImJ1YmJsaW5nTW91c2VFdmVudHMiOiB0cnVlLAogICJjb2xvciI6ICJncmVlbiIsCiAgImRhc2hBcnJheSI6IG51bGwsCiAgImRhc2hPZmZzZXQiOiBudWxsLAogICJmaWxsIjogdHJ1ZSwKICAiZmlsbENvbG9yIjogImdyZWVuIiwKICAiZmlsbE9wYWNpdHkiOiAwLjYsCiAgImZpbGxSdWxlIjogImV2ZW5vZGQiLAogICJsaW5lQ2FwIjogInJvdW5kIiwKICAibGluZUpvaW4iOiAicm91bmQiLAogICJvcGFjaXR5IjogMS4wLAogICJyYWRpdXMiOiA1LAogICJzdHJva2UiOiB0cnVlLAogICJ3ZWlnaHQiOiAzCn0KICAgICAgICAgICAgICAgICkuYWRkVG8obWFwX2U5ZTIzOWY0YTg1YTRhZjNiM2Y3OGFiNTUxM2ZjZTg4KTsKICAgICAgICAgICAgCiAgICAKICAgICAgICAgICAgdmFyIHBvcHVwXzZjY2Y4NGRiZWZmYjRmYzg4ODE2M2U2YjNjMmQ0OWRiID0gTC5wb3B1cCh7bWF4V2lkdGg6ICczMDAnfSk7CgogICAgICAgICAgICAKICAgICAgICAgICAgICAgIHZhciBodG1sXzBmOGM2ODU1ZmM4OTRiMDI5MjJhNDVlNDk0MGM0ZDU2ID0gJCgnPGRpdiBpZD0iaHRtbF8wZjhjNjg1NWZjODk0YjAyOTIyYTQ1ZTQ5NDBjNGQ1NiIgc3R5bGU9IndpZHRoOiAxMDAuMCU7IGhlaWdodDogMTAwLjAlOyI+U2lvbjwvZGl2PicpWzBdOwogICAgICAgICAgICAgICAgcG9wdXBfNmNjZjg0ZGJlZmZiNGZjODg4MTYzZTZiM2MyZDQ5ZGIuc2V0Q29udGVudChodG1sXzBmOGM2ODU1ZmM4OTRiMDI5MjJhNDVlNDk0MGM0ZDU2KTsKICAgICAgICAgICAgCgogICAgICAgICAgICBjaXJjbGVfbWFya2VyXzAyYjg1YTU2NTg3MjRlYjc4OTNkYzg1NjU3OTAzYmE0LmJpbmRQb3B1cChwb3B1cF82Y2NmODRkYmVmZmI0ZmM4ODgxNjNlNmIzYzJkNDlkYik7CgogICAgICAgICAgICAKICAgICAgICAKICAgIAogICAgICAgICAgICB2YXIgY2lyY2xlX21hcmtlcl83NGYyZDQ5OGFlYjk0ZmQwOTY4MDk4YjBhZTQ4Mjc5OCA9IEwuY2lyY2xlTWFya2VyKAogICAgICAgICAgICAgICAgWzE5LjAsNzIuODE1XSwKICAgICAgICAgICAgICAgIHsKICAiYnViYmxpbmdNb3VzZUV2ZW50cyI6IHRydWUsCiAgImNvbG9yIjogImdyZWVuIiwKICAiZGFzaEFycmF5IjogbnVsbCwKICAiZGFzaE9mZnNldCI6IG51bGwsCiAgImZpbGwiOiB0cnVlLAogICJmaWxsQ29sb3IiOiAiZ3JlZW4iLAogICJmaWxsT3BhY2l0eSI6IDAuNiwKICAiZmlsbFJ1bGUiOiAiZXZlbm9kZCIsCiAgImxpbmVDYXAiOiAicm91bmQiLAogICJsaW5lSm9pbiI6ICJyb3VuZCIsCiAgIm9wYWNpdHkiOiAxLjAsCiAgInJhZGl1cyI6IDUsCiAgInN0cm9rZSI6IHRydWUsCiAgIndlaWdodCI6IDMKfQogICAgICAgICAgICAgICAgKS5hZGRUbyhtYXBfZTllMjM5ZjRhODVhNGFmM2IzZjc4YWI1NTEzZmNlODgpOwogICAgICAgICAgICAKICAgIAogICAgICAgICAgICB2YXIgcG9wdXBfMmI3YjQ0M2Y1Zjc0NGNkMzlkODAyZTY2YmFjNmZjYmEgPSBMLnBvcHVwKHttYXhXaWR0aDogJzMwMCd9KTsKCiAgICAgICAgICAgIAogICAgICAgICAgICAgICAgdmFyIGh0bWxfMmVmNWNlMDNhNTQ5NGM4Y2E0ZmI2YmE4Yjg5NmRmOWUgPSAkKCc8ZGl2IGlkPSJodG1sXzJlZjVjZTAzYTU0OTRjOGNhNGZiNmJhOGI4OTZkZjllIiBzdHlsZT0id2lkdGg6IDEwMC4wJTsgaGVpZ2h0OiAxMDAuMCU7Ij5Xb3JsaTwvZGl2PicpWzBdOwogICAgICAgICAgICAgICAgcG9wdXBfMmI3YjQ0M2Y1Zjc0NGNkMzlkODAyZTY2YmFjNmZjYmEuc2V0Q29udGVudChodG1sXzJlZjVjZTAzYTU0OTRjOGNhNGZiNmJhOGI4OTZkZjllKTsKICAgICAgICAgICAgCgogICAgICAgICAgICBjaXJjbGVfbWFya2VyXzc0ZjJkNDk4YWViOTRmZDA5NjgwOThiMGFlNDgyNzk4LmJpbmRQb3B1cChwb3B1cF8yYjdiNDQzZjVmNzQ0Y2QzOWQ4MDJlNjZiYWM2ZmNiYSk7CgogICAgICAgICAgICAKICAgICAgICAKICAgIAogICAgICAgICAgICB2YXIgY2lyY2xlX21hcmtlcl8xZjYxOTU5Y2U5OTM0NWRiYjAzNzNkZGEyNGY3ZjljNSA9IEwuY2lyY2xlTWFya2VyKAogICAgICAgICAgICAgICAgWzE5LjA0MDIwOCw3Mi44NTA4NV0sCiAgICAgICAgICAgICAgICB7CiAgImJ1YmJsaW5nTW91c2VFdmVudHMiOiB0cnVlLAogICJjb2xvciI6ICJncmVlbiIsCiAgImRhc2hBcnJheSI6IG51bGwsCiAgImRhc2hPZmZzZXQiOiBudWxsLAogICJmaWxsIjogdHJ1ZSwKICAiZmlsbENvbG9yIjogImdyZWVuIiwKICAiZmlsbE9wYWNpdHkiOiAwLjYsCiAgImZpbGxSdWxlIjogImV2ZW5vZGQiLAogICJsaW5lQ2FwIjogInJvdW5kIiwKICAibGluZUpvaW4iOiAicm91bmQiLAogICJvcGFjaXR5IjogMS4wLAogICJyYWRpdXMiOiA1LAogICJzdHJva2UiOiB0cnVlLAogICJ3ZWlnaHQiOiAzCn0KICAgICAgICAgICAgICAgICkuYWRkVG8obWFwX2U5ZTIzOWY0YTg1YTRhZjNiM2Y3OGFiNTUxM2ZjZTg4KTsKICAgICAgICAgICAgCiAgICAKICAgICAgICAgICAgdmFyIHBvcHVwXzgxZjJmNDMwNjQwZDRjYzc4NzUwODJhYjY0MzBiZjkwID0gTC5wb3B1cCh7bWF4V2lkdGg6ICczMDAnfSk7CgogICAgICAgICAgICAKICAgICAgICAgICAgICAgIHZhciBodG1sX2FmZDk5MDk1ZDQxNzRmNThiODBiOWUzMThmMmYzZTIyID0gJCgnPGRpdiBpZD0iaHRtbF9hZmQ5OTA5NWQ0MTc0ZjU4YjgwYjllMzE4ZjJmM2UyMiIgc3R5bGU9IndpZHRoOiAxMDAuMCU7IGhlaWdodDogMTAwLjAlOyI+RGhhcmF2aTwvZGl2PicpWzBdOwogICAgICAgICAgICAgICAgcG9wdXBfODFmMmY0MzA2NDBkNGNjNzg3NTA4MmFiNjQzMGJmOTAuc2V0Q29udGVudChodG1sX2FmZDk5MDk1ZDQxNzRmNThiODBiOWUzMThmMmYzZTIyKTsKICAgICAgICAgICAgCgogICAgICAgICAgICBjaXJjbGVfbWFya2VyXzFmNjE5NTljZTk5MzQ1ZGJiMDM3M2RkYTI0ZjdmOWM1LmJpbmRQb3B1cChwb3B1cF84MWYyZjQzMDY0MGQ0Y2M3ODc1MDgyYWI2NDMwYmY5MCk7CgogICAgICAgICAgICAKICAgICAgICAKICAgIAogICAgICAgICAgICB2YXIgY2lyY2xlX21hcmtlcl8zMTdmZDVlMzliZGM0MWY0OTc1YmNhMjFjYTk0MmQzNyA9IEwuY2lyY2xlTWFya2VyKAogICAgICAgICAgICAgICAgWzE5LjAzOTksNzIuODcwN10sCiAgICAgICAgICAgICAgICB7CiAgImJ1YmJsaW5nTW91c2VFdmVudHMiOiB0cnVlLAogICJjb2xvciI6ICJncmVlbiIsCiAgImRhc2hBcnJheSI6IG51bGwsCiAgImRhc2hPZmZzZXQiOiBudWxsLAogICJmaWxsIjogdHJ1ZSwKICAiZmlsbENvbG9yIjogImdyZWVuIiwKICAiZmlsbE9wYWNpdHkiOiAwLjYsCiAgImZpbGxSdWxlIjogImV2ZW5vZGQiLAogICJsaW5lQ2FwIjogInJvdW5kIiwKICAibGluZUpvaW4iOiAicm91bmQiLAogICJvcGFjaXR5IjogMS4wLAogICJyYWRpdXMiOiA1LAogICJzdHJva2UiOiB0cnVlLAogICJ3ZWlnaHQiOiAzCn0KICAgICAgICAgICAgICAgICkuYWRkVG8obWFwX2U5ZTIzOWY0YTg1YTRhZjNiM2Y3OGFiNTUxM2ZjZTg4KTsKICAgICAgICAgICAgCiAgICAKICAgICAgICAgICAgdmFyIHBvcHVwXzFmM2E3MzMwNzM1MzRiYjA4MTc0NTA3NDcyNzMzMmU5ID0gTC5wb3B1cCh7bWF4V2lkdGg6ICczMDAnfSk7CgogICAgICAgICAgICAKICAgICAgICAgICAgICAgIHZhciBodG1sX2M5MTljYjgwOGE0NjQxZDdiMGQ2NTFkYTg4MjBlMmQ3ID0gJCgnPGRpdiBpZD0iaHRtbF9jOTE5Y2I4MDhhNDY0MWQ3YjBkNjUxZGE4ODIwZTJkNyIgc3R5bGU9IndpZHRoOiAxMDAuMCU7IGhlaWdodDogMTAwLjAlOyI+S29saXdhZGE8L2Rpdj4nKVswXTsKICAgICAgICAgICAgICAgIHBvcHVwXzFmM2E3MzMwNzM1MzRiYjA4MTc0NTA3NDcyNzMzMmU5LnNldENvbnRlbnQoaHRtbF9jOTE5Y2I4MDhhNDY0MWQ3YjBkNjUxZGE4ODIwZTJkNyk7CiAgICAgICAgICAgIAoKICAgICAgICAgICAgY2lyY2xlX21hcmtlcl8zMTdmZDVlMzliZGM0MWY0OTc1YmNhMjFjYTk0MmQzNy5iaW5kUG9wdXAocG9wdXBfMWYzYTczMzA3MzUzNGJiMDgxNzQ1MDc0NzI3MzMyZTkpOwoKICAgICAgICAgICAgCiAgICAgICAgCiAgICAKICAgICAgICAgICAgdmFyIGNpcmNsZV9tYXJrZXJfZWYxMWM5N2E3ZWE4NDRmMzgyZDMzOTRmZDcxMzAzZjEgPSBMLmNpcmNsZU1hcmtlcigKICAgICAgICAgICAgICAgIFsxOC45NTk5LDcyLjgyOTRdLAogICAgICAgICAgICAgICAgewogICJidWJibGluZ01vdXNlRXZlbnRzIjogdHJ1ZSwKICAiY29sb3IiOiAiZ3JlZW4iLAogICJkYXNoQXJyYXkiOiBudWxsLAogICJkYXNoT2Zmc2V0IjogbnVsbCwKICAiZmlsbCI6IHRydWUsCiAgImZpbGxDb2xvciI6ICJncmVlbiIsCiAgImZpbGxPcGFjaXR5IjogMC42LAogICJmaWxsUnVsZSI6ICJldmVub2RkIiwKICAibGluZUNhcCI6ICJyb3VuZCIsCiAgImxpbmVKb2luIjogInJvdW5kIiwKICAib3BhY2l0eSI6IDEuMCwKICAicmFkaXVzIjogNSwKICAic3Ryb2tlIjogdHJ1ZSwKICAid2VpZ2h0IjogMwp9CiAgICAgICAgICAgICAgICApLmFkZFRvKG1hcF9lOWUyMzlmNGE4NWE0YWYzYjNmNzhhYjU1MTNmY2U4OCk7CiAgICAgICAgICAgIAogICAgCiAgICAgICAgICAgIHZhciBwb3B1cF9iZTk2ZTI0YTAxYmE0YjQwYjFhN2IyOGNlMGE0N2RkZiA9IEwucG9wdXAoe21heFdpZHRoOiAnMzAwJ30pOwoKICAgICAgICAgICAgCiAgICAgICAgICAgICAgICB2YXIgaHRtbF85ZjhmMGYxNzQ3ZGE0OTM4OGI1YzMwZDY5MGU1NzBmNyA9ICQoJzxkaXYgaWQ9Imh0bWxfOWY4ZjBmMTc0N2RhNDkzODhiNWMzMGQ2OTBlNTcwZjciIHN0eWxlPSJ3aWR0aDogMTAwLjAlOyBoZWlnaHQ6IDEwMC4wJTsiPkt1bWJhcndhcmE8L2Rpdj4nKVswXTsKICAgICAgICAgICAgICAgIHBvcHVwX2JlOTZlMjRhMDFiYTRiNDBiMWE3YjI4Y2UwYTQ3ZGRmLnNldENvbnRlbnQoaHRtbF85ZjhmMGYxNzQ3ZGE0OTM4OGI1YzMwZDY5MGU1NzBmNyk7CiAgICAgICAgICAgIAoKICAgICAgICAgICAgY2lyY2xlX21hcmtlcl9lZjExYzk3YTdlYTg0NGYzODJkMzM5NGZkNzEzMDNmMS5iaW5kUG9wdXAocG9wdXBfYmU5NmUyNGEwMWJhNGI0MGIxYTdiMjhjZTBhNDdkZGYpOwoKICAgICAgICAgICAgCiAgICAgICAgCiAgICAKICAgICAgICAgICAgdmFyIGNpcmNsZV9tYXJrZXJfNzQ2Zjg5NzhmYWM3NDgyNjkwZWI4YzU2MzEwMWQzMDkgPSBMLmNpcmNsZU1hcmtlcigKICAgICAgICAgICAgICAgIFsxOS4wMjIyMiw3Mi44NjY1NjRdLAogICAgICAgICAgICAgICAgewogICJidWJibGluZ01vdXNlRXZlbnRzIjogdHJ1ZSwKICAiY29sb3IiOiAiZ3JlZW4iLAogICJkYXNoQXJyYXkiOiBudWxsLAogICJkYXNoT2Zmc2V0IjogbnVsbCwKICAiZmlsbCI6IHRydWUsCiAgImZpbGxDb2xvciI6ICJncmVlbiIsCiAgImZpbGxPcGFjaXR5IjogMC42LAogICJmaWxsUnVsZSI6ICJldmVub2RkIiwKICAibGluZUNhcCI6ICJyb3VuZCIsCiAgImxpbmVKb2luIjogInJvdW5kIiwKICAib3BhY2l0eSI6IDEuMCwKICAicmFkaXVzIjogNSwKICAic3Ryb2tlIjogdHJ1ZSwKICAid2VpZ2h0IjogMwp9CiAgICAgICAgICAgICAgICApLmFkZFRvKG1hcF9lOWUyMzlmNGE4NWE0YWYzYjNmNzhhYjU1MTNmY2U4OCk7CiAgICAgICAgICAgIAogICAgCiAgICAgICAgICAgIHZhciBwb3B1cF9kMGQ0NmJiM2E4YzY0ODgyYTU0MTkzMzY3OTllZDRhYSA9IEwucG9wdXAoe21heFdpZHRoOiAnMzAwJ30pOwoKICAgICAgICAgICAgCiAgICAgICAgICAgICAgICB2YXIgaHRtbF8zNzEwZDEwMjYxZGE0ZGNlOWM5YWJmOTNiZDNmN2E5ZCA9ICQoJzxkaXYgaWQ9Imh0bWxfMzcxMGQxMDI2MWRhNGRjZTljOWFiZjkzYmQzZjdhOWQiIHN0eWxlPSJ3aWR0aDogMTAwLjAlOyBoZWlnaHQ6IDEwMC4wJTsiPkFudG9wIEhpbGw8L2Rpdj4nKVswXTsKICAgICAgICAgICAgICAgIHBvcHVwX2QwZDQ2YmIzYThjNjQ4ODJhNTQxOTMzNjc5OWVkNGFhLnNldENvbnRlbnQoaHRtbF8zNzEwZDEwMjYxZGE0ZGNlOWM5YWJmOTNiZDNmN2E5ZCk7CiAgICAgICAgICAgIAoKICAgICAgICAgICAgY2lyY2xlX21hcmtlcl83NDZmODk3OGZhYzc0ODI2OTBlYjhjNTYzMTAxZDMwOS5iaW5kUG9wdXAocG9wdXBfZDBkNDZiYjNhOGM2NDg4MmE1NDE5MzM2Nzk5ZWQ0YWEpOwoKICAgICAgICAgICAgCiAgICAgICAgCiAgICAKICAgICAgICAgICAgdmFyIGNpcmNsZV9tYXJrZXJfN2ZlYzdmZWUzOGM3NDM2NmJlODhjODNlNGI5YWJkODUgPSBMLmNpcmNsZU1hcmtlcigKICAgICAgICAgICAgICAgIFsxOC45OCw3Mi44MzVdLAogICAgICAgICAgICAgICAgewogICJidWJibGluZ01vdXNlRXZlbnRzIjogdHJ1ZSwKICAiY29sb3IiOiAiZ3JlZW4iLAogICJkYXNoQXJyYXkiOiBudWxsLAogICJkYXNoT2Zmc2V0IjogbnVsbCwKICAiZmlsbCI6IHRydWUsCiAgImZpbGxDb2xvciI6ICJncmVlbiIsCiAgImZpbGxPcGFjaXR5IjogMC42LAogICJmaWxsUnVsZSI6ICJldmVub2RkIiwKICAibGluZUNhcCI6ICJyb3VuZCIsCiAgImxpbmVKb2luIjogInJvdW5kIiwKICAib3BhY2l0eSI6IDEuMCwKICAicmFkaXVzIjogNSwKICAic3Ryb2tlIjogdHJ1ZSwKICAid2VpZ2h0IjogMwp9CiAgICAgICAgICAgICAgICApLmFkZFRvKG1hcF9lOWUyMzlmNGE4NWE0YWYzYjNmNzhhYjU1MTNmY2U4OCk7CiAgICAgICAgICAgIAogICAgCiAgICAgICAgICAgIHZhciBwb3B1cF82OWNhZDkxYmMxYTI0OWI4OGRiODBlMjkxYzEwZjRmMCA9IEwucG9wdXAoe21heFdpZHRoOiAnMzAwJ30pOwoKICAgICAgICAgICAgCiAgICAgICAgICAgICAgICB2YXIgaHRtbF8xYzJjNmU3MjViNjg0NDY3OWIyNjVjMjRlMDAyYmE1ZCA9ICQoJzxkaXYgaWQ9Imh0bWxfMWMyYzZlNzI1YjY4NDQ2NzliMjY1YzI0ZTAwMmJhNWQiIHN0eWxlPSJ3aWR0aDogMTAwLjAlOyBoZWlnaHQ6IDEwMC4wJTsiPkJ5Y3VsbGE8L2Rpdj4nKVswXTsKICAgICAgICAgICAgICAgIHBvcHVwXzY5Y2FkOTFiYzFhMjQ5Yjg4ZGI4MGUyOTFjMTBmNGYwLnNldENvbnRlbnQoaHRtbF8xYzJjNmU3MjViNjg0NDY3OWIyNjVjMjRlMDAyYmE1ZCk7CiAgICAgICAgICAgIAoKICAgICAgICAgICAgY2lyY2xlX21hcmtlcl83ZmVjN2ZlZTM4Yzc0MzY2YmU4OGM4M2U0YjlhYmQ4NS5iaW5kUG9wdXAocG9wdXBfNjljYWQ5MWJjMWEyNDliODhkYjgwZTI5MWMxMGY0ZjApOwoKICAgICAgICAgICAgCiAgICAgICAgCiAgICAKICAgICAgICAgICAgdmFyIGNpcmNsZV9tYXJrZXJfZTY1MjcyNjJiZTg1NGNlZTkxMTcwZDUyNWRkYTQyNmEgPSBMLmNpcmNsZU1hcmtlcigKICAgICAgICAgICAgICAgIFsxOC45MSw3Mi44MV0sCiAgICAgICAgICAgICAgICB7CiAgImJ1YmJsaW5nTW91c2VFdmVudHMiOiB0cnVlLAogICJjb2xvciI6ICJncmVlbiIsCiAgImRhc2hBcnJheSI6IG51bGwsCiAgImRhc2hPZmZzZXQiOiBudWxsLAogICJmaWxsIjogdHJ1ZSwKICAiZmlsbENvbG9yIjogImdyZWVuIiwKICAiZmlsbE9wYWNpdHkiOiAwLjYsCiAgImZpbGxSdWxlIjogImV2ZW5vZGQiLAogICJsaW5lQ2FwIjogInJvdW5kIiwKICAibGluZUpvaW4iOiAicm91bmQiLAogICJvcGFjaXR5IjogMS4wLAogICJyYWRpdXMiOiA1LAogICJzdHJva2UiOiB0cnVlLAogICJ3ZWlnaHQiOiAzCn0KICAgICAgICAgICAgICAgICkuYWRkVG8obWFwX2U5ZTIzOWY0YTg1YTRhZjNiM2Y3OGFiNTUxM2ZjZTg4KTsKICAgICAgICAgICAgCiAgICAKICAgICAgICAgICAgdmFyIHBvcHVwX2Y0OTgxMWI2ZjE2MjQ5MjRhMWM4YjAyZjU1MDhlNWU5ID0gTC5wb3B1cCh7bWF4V2lkdGg6ICczMDAnfSk7CgogICAgICAgICAgICAKICAgICAgICAgICAgICAgIHZhciBodG1sXzliOTkxZjE2MjYxNDQ0YmJiZjRhY2ZiZTNmMmFjNTUzID0gJCgnPGRpdiBpZD0iaHRtbF85Yjk5MWYxNjI2MTQ0NGJiYmY0YWNmYmUzZjJhYzU1MyIgc3R5bGU9IndpZHRoOiAxMDAuMCU7IGhlaWdodDogMTAwLjAlOyI+Q29sYWJhPC9kaXY+JylbMF07CiAgICAgICAgICAgICAgICBwb3B1cF9mNDk4MTFiNmYxNjI0OTI0YTFjOGIwMmY1NTA4ZTVlOS5zZXRDb250ZW50KGh0bWxfOWI5OTFmMTYyNjE0NDRiYmJmNGFjZmJlM2YyYWM1NTMpOwogICAgICAgICAgICAKCiAgICAgICAgICAgIGNpcmNsZV9tYXJrZXJfZTY1MjcyNjJiZTg1NGNlZTkxMTcwZDUyNWRkYTQyNmEuYmluZFBvcHVwKHBvcHVwX2Y0OTgxMWI2ZjE2MjQ5MjRhMWM4YjAyZjU1MDhlNWU5KTsKCiAgICAgICAgICAgIAogICAgICAgIAogICAgCiAgICAgICAgICAgIHZhciBjaXJjbGVfbWFya2VyX2EzMjYzMmNmYjE1NDQ5NTg4ZGEzZjY4YmJlMWI0NjE5ID0gTC5jaXJjbGVNYXJrZXIoCiAgICAgICAgICAgICAgICBbMTkuMDIxLDcyLjg0MTAwMDAwMDAwMDAxXSwKICAgICAgICAgICAgICAgIHsKICAiYnViYmxpbmdNb3VzZUV2ZW50cyI6IHRydWUsCiAgImNvbG9yIjogImdyZWVuIiwKICAiZGFzaEFycmF5IjogbnVsbCwKICAiZGFzaE9mZnNldCI6IG51bGwsCiAgImZpbGwiOiB0cnVlLAogICJmaWxsQ29sb3IiOiAiZ3JlZW4iLAogICJmaWxsT3BhY2l0eSI6IDAuNiwKICAiZmlsbFJ1bGUiOiAiZXZlbm9kZCIsCiAgImxpbmVDYXAiOiAicm91bmQiLAogICJsaW5lSm9pbiI6ICJyb3VuZCIsCiAgIm9wYWNpdHkiOiAxLjAsCiAgInJhZGl1cyI6IDUsCiAgInN0cm9rZSI6IHRydWUsCiAgIndlaWdodCI6IDMKfQogICAgICAgICAgICAgICAgKS5hZGRUbyhtYXBfZTllMjM5ZjRhODVhNGFmM2IzZjc4YWI1NTEzZmNlODgpOwogICAgICAgICAgICAKICAgIAogICAgICAgICAgICB2YXIgcG9wdXBfNjhiNGQ2NWU0ZjFjNGQ0MTkyYjYwYWU2YjNlMmQ5YmIgPSBMLnBvcHVwKHttYXhXaWR0aDogJzMwMCd9KTsKCiAgICAgICAgICAgIAogICAgICAgICAgICAgICAgdmFyIGh0bWxfNTIyYmJlNDdhMmIyNDQxYTg2ZWUzZGRmNWU5ZmEwNjAgPSAkKCc8ZGl2IGlkPSJodG1sXzUyMmJiZTQ3YTJiMjQ0MWE4NmVlM2RkZjVlOWZhMDYwIiBzdHlsZT0id2lkdGg6IDEwMC4wJTsgaGVpZ2h0OiAxMDAuMCU7Ij5EYWRhcjwvZGl2PicpWzBdOwogICAgICAgICAgICAgICAgcG9wdXBfNjhiNGQ2NWU0ZjFjNGQ0MTkyYjYwYWU2YjNlMmQ5YmIuc2V0Q29udGVudChodG1sXzUyMmJiZTQ3YTJiMjQ0MWE4NmVlM2RkZjVlOWZhMDYwKTsKICAgICAgICAgICAgCgogICAgICAgICAgICBjaXJjbGVfbWFya2VyX2EzMjYzMmNmYjE1NDQ5NTg4ZGEzZjY4YmJlMWI0NjE5LmJpbmRQb3B1cChwb3B1cF82OGI0ZDY1ZTRmMWM0ZDQxOTJiNjBhZTZiM2UyZDliYik7CgogICAgICAgICAgICAKICAgICAgICAKICAgIAogICAgICAgICAgICB2YXIgY2lyY2xlX21hcmtlcl9jODk1ZTE5NTVjZTY0YTY5YTI4NDQyM2U4N2QyYzJjOSA9IEwuY2lyY2xlTWFya2VyKAogICAgICAgICAgICAgICAgWzE4LjkzNSw3Mi44MzU5XSwKICAgICAgICAgICAgICAgIHsKICAiYnViYmxpbmdNb3VzZUV2ZW50cyI6IHRydWUsCiAgImNvbG9yIjogImdyZWVuIiwKICAiZGFzaEFycmF5IjogbnVsbCwKICAiZGFzaE9mZnNldCI6IG51bGwsCiAgImZpbGwiOiB0cnVlLAogICJmaWxsQ29sb3IiOiAiZ3JlZW4iLAogICJmaWxsT3BhY2l0eSI6IDAuNiwKICAiZmlsbFJ1bGUiOiAiZXZlbm9kZCIsCiAgImxpbmVDYXAiOiAicm91bmQiLAogICJsaW5lSm9pbiI6ICJyb3VuZCIsCiAgIm9wYWNpdHkiOiAxLjAsCiAgInJhZGl1cyI6IDUsCiAgInN0cm9rZSI6IHRydWUsCiAgIndlaWdodCI6IDMKfQogICAgICAgICAgICAgICAgKS5hZGRUbyhtYXBfZTllMjM5ZjRhODVhNGFmM2IzZjc4YWI1NTEzZmNlODgpOwogICAgICAgICAgICAKICAgIAogICAgICAgICAgICB2YXIgcG9wdXBfMzgxZGMxMTM5ZWQ1NGY3ZGJhMDg0MTdiM2Q1NWY2Y2QgPSBMLnBvcHVwKHttYXhXaWR0aDogJzMwMCd9KTsKCiAgICAgICAgICAgIAogICAgICAgICAgICAgICAgdmFyIGh0bWxfOWM2Y2JmM2M2NzBmNGU2Yzg0Yzg5OTQzMTg2ZGZiYmEgPSAkKCc8ZGl2IGlkPSJodG1sXzljNmNiZjNjNjcwZjRlNmM4NGM4OTk0MzE4NmRmYmJhIiBzdHlsZT0id2lkdGg6IDEwMC4wJTsgaGVpZ2h0OiAxMDAuMCU7Ij5Gb3J0PC9kaXY+JylbMF07CiAgICAgICAgICAgICAgICBwb3B1cF8zODFkYzExMzllZDU0ZjdkYmEwODQxN2IzZDU1ZjZjZC5zZXRDb250ZW50KGh0bWxfOWM2Y2JmM2M2NzBmNGU2Yzg0Yzg5OTQzMTg2ZGZiYmEpOwogICAgICAgICAgICAKCiAgICAgICAgICAgIGNpcmNsZV9tYXJrZXJfYzg5NWUxOTU1Y2U2NGE2OWEyODQ0MjNlODdkMmMyYzkuYmluZFBvcHVwKHBvcHVwXzM4MWRjMTEzOWVkNTRmN2RiYTA4NDE3YjNkNTVmNmNkKTsKCiAgICAgICAgICAgIAogICAgICAgIAogICAgCiAgICAgICAgICAgIHZhciBjaXJjbGVfbWFya2VyX2RkMGVlNDBhOWY1NTRlNzViZjhmNTMzZjYxOTllOWI3ID0gTC5jaXJjbGVNYXJrZXIoCiAgICAgICAgICAgICAgICBbMTguOTUzLDcyLjgxM10sCiAgICAgICAgICAgICAgICB7CiAgImJ1YmJsaW5nTW91c2VFdmVudHMiOiB0cnVlLAogICJjb2xvciI6ICJncmVlbiIsCiAgImRhc2hBcnJheSI6IG51bGwsCiAgImRhc2hPZmZzZXQiOiBudWxsLAogICJmaWxsIjogdHJ1ZSwKICAiZmlsbENvbG9yIjogImdyZWVuIiwKICAiZmlsbE9wYWNpdHkiOiAwLjYsCiAgImZpbGxSdWxlIjogImV2ZW5vZGQiLAogICJsaW5lQ2FwIjogInJvdW5kIiwKICAibGluZUpvaW4iOiAicm91bmQiLAogICJvcGFjaXR5IjogMS4wLAogICJyYWRpdXMiOiA1LAogICJzdHJva2UiOiB0cnVlLAogICJ3ZWlnaHQiOiAzCn0KICAgICAgICAgICAgICAgICkuYWRkVG8obWFwX2U5ZTIzOWY0YTg1YTRhZjNiM2Y3OGFiNTUxM2ZjZTg4KTsKICAgICAgICAgICAgCiAgICAKICAgICAgICAgICAgdmFyIHBvcHVwXzI5ZmVkYmFhYWVhMTRkMDJiMzQ0YzBiOTNlODM4N2YyID0gTC5wb3B1cCh7bWF4V2lkdGg6ICczMDAnfSk7CgogICAgICAgICAgICAKICAgICAgICAgICAgICAgIHZhciBodG1sXzk4ZGFkOWNhYzY3OTQ5NzhiZjQ4YmY3ZThmZWZkMTU2ID0gJCgnPGRpdiBpZD0iaHRtbF85OGRhZDljYWM2Nzk0OTc4YmY0OGJmN2U4ZmVmZDE1NiIgc3R5bGU9IndpZHRoOiAxMDAuMCU7IGhlaWdodDogMTAwLjAlOyI+R2lyZ2FvbjwvZGl2PicpWzBdOwogICAgICAgICAgICAgICAgcG9wdXBfMjlmZWRiYWFhZWExNGQwMmIzNDRjMGI5M2U4Mzg3ZjIuc2V0Q29udGVudChodG1sXzk4ZGFkOWNhYzY3OTQ5NzhiZjQ4YmY3ZThmZWZkMTU2KTsKICAgICAgICAgICAgCgogICAgICAgICAgICBjaXJjbGVfbWFya2VyX2RkMGVlNDBhOWY1NTRlNzViZjhmNTMzZjYxOTllOWI3LmJpbmRQb3B1cChwb3B1cF8yOWZlZGJhYWFlYTE0ZDAyYjM0NGMwYjkzZTgzODdmMik7CgogICAgICAgICAgICAKICAgICAgICAKICAgIAogICAgICAgICAgICB2YXIgY2lyY2xlX21hcmtlcl9kNWIzMzZjM2M0ZjM0MmFkOGNlMWU4ZTc4ZDdlNjdhNyA9IEwuY2lyY2xlTWFya2VyKAogICAgICAgICAgICAgICAgWzE4Ljk1NSw3Mi44MzVdLAogICAgICAgICAgICAgICAgewogICJidWJibGluZ01vdXNlRXZlbnRzIjogdHJ1ZSwKICAiY29sb3IiOiAiZ3JlZW4iLAogICJkYXNoQXJyYXkiOiBudWxsLAogICJkYXNoT2Zmc2V0IjogbnVsbCwKICAiZmlsbCI6IHRydWUsCiAgImZpbGxDb2xvciI6ICJncmVlbiIsCiAgImZpbGxPcGFjaXR5IjogMC42LAogICJmaWxsUnVsZSI6ICJldmVub2RkIiwKICAibGluZUNhcCI6ICJyb3VuZCIsCiAgImxpbmVKb2luIjogInJvdW5kIiwKICAib3BhY2l0eSI6IDEuMCwKICAicmFkaXVzIjogNSwKICAic3Ryb2tlIjogdHJ1ZSwKICAid2VpZ2h0IjogMwp9CiAgICAgICAgICAgICAgICApLmFkZFRvKG1hcF9lOWUyMzlmNGE4NWE0YWYzYjNmNzhhYjU1MTNmY2U4OCk7CiAgICAgICAgICAgIAogICAgCiAgICAgICAgICAgIHZhciBwb3B1cF9lZjA0ZjMyNmQ2MTM0Y2JmOTBkOTI2ZGI4MWU3NjNhOCA9IEwucG9wdXAoe21heFdpZHRoOiAnMzAwJ30pOwoKICAgICAgICAgICAgCiAgICAgICAgICAgICAgICB2YXIgaHRtbF8yODA1NDZlYzQ2ZDU0MWE3ODU2NDRiNDFjZTI0MjFlNCA9ICQoJzxkaXYgaWQ9Imh0bWxfMjgwNTQ2ZWM0NmQ1NDFhNzg1NjQ0YjQxY2UyNDIxZTQiIHN0eWxlPSJ3aWR0aDogMTAwLjAlOyBoZWlnaHQ6IDEwMC4wJTsiPkthbGJhZGV2aTwvZGl2PicpWzBdOwogICAgICAgICAgICAgICAgcG9wdXBfZWYwNGYzMjZkNjEzNGNiZjkwZDkyNmRiODFlNzYzYTguc2V0Q29udGVudChodG1sXzI4MDU0NmVjNDZkNTQxYTc4NTY0NGI0MWNlMjQyMWU0KTsKICAgICAgICAgICAgCgogICAgICAgICAgICBjaXJjbGVfbWFya2VyX2Q1YjMzNmMzYzRmMzQyYWQ4Y2UxZThlNzhkN2U2N2E3LmJpbmRQb3B1cChwb3B1cF9lZjA0ZjMyNmQ2MTM0Y2JmOTBkOTI2ZGI4MWU3NjNhOCk7CgogICAgICAgICAgICAKICAgICAgICAKICAgIAogICAgICAgICAgICB2YXIgY2lyY2xlX21hcmtlcl9mMWViNjZiNTcyZjI0NzY4YWE2NzA5NzI4ZDE2MTg0NiA9IEwuY2lyY2xlTWFya2VyKAogICAgICAgICAgICAgICAgWzE4Ljk2LDcyLjgyXSwKICAgICAgICAgICAgICAgIHsKICAiYnViYmxpbmdNb3VzZUV2ZW50cyI6IHRydWUsCiAgImNvbG9yIjogImdyZWVuIiwKICAiZGFzaEFycmF5IjogbnVsbCwKICAiZGFzaE9mZnNldCI6IG51bGwsCiAgImZpbGwiOiB0cnVlLAogICJmaWxsQ29sb3IiOiAiZ3JlZW4iLAogICJmaWxsT3BhY2l0eSI6IDAuNiwKICAiZmlsbFJ1bGUiOiAiZXZlbm9kZCIsCiAgImxpbmVDYXAiOiAicm91bmQiLAogICJsaW5lSm9pbiI6ICJyb3VuZCIsCiAgIm9wYWNpdHkiOiAxLjAsCiAgInJhZGl1cyI6IDUsCiAgInN0cm9rZSI6IHRydWUsCiAgIndlaWdodCI6IDMKfQogICAgICAgICAgICAgICAgKS5hZGRUbyhtYXBfZTllMjM5ZjRhODVhNGFmM2IzZjc4YWI1NTEzZmNlODgpOwogICAgICAgICAgICAKICAgIAogICAgICAgICAgICB2YXIgcG9wdXBfYzQ4N2M1YzA5MjA2NDlhNTgwM2YxYmE0Yzg4NWE4MDIgPSBMLnBvcHVwKHttYXhXaWR0aDogJzMwMCd9KTsKCiAgICAgICAgICAgIAogICAgICAgICAgICAgICAgdmFyIGh0bWxfMTZkZTdlODdjZDUwNGM0NmJmNDA1ZDkxMzAwMjA3MjAgPSAkKCc8ZGl2IGlkPSJodG1sXzE2ZGU3ZTg3Y2Q1MDRjNDZiZjQwNWQ5MTMwMDIwNzIwIiBzdHlsZT0id2lkdGg6IDEwMC4wJTsgaGVpZ2h0OiAxMDAuMCU7Ij5LYW1hdGhpcHVyYTwvZGl2PicpWzBdOwogICAgICAgICAgICAgICAgcG9wdXBfYzQ4N2M1YzA5MjA2NDlhNTgwM2YxYmE0Yzg4NWE4MDIuc2V0Q29udGVudChodG1sXzE2ZGU3ZTg3Y2Q1MDRjNDZiZjQwNWQ5MTMwMDIwNzIwKTsKICAgICAgICAgICAgCgogICAgICAgICAgICBjaXJjbGVfbWFya2VyX2YxZWI2NmI1NzJmMjQ3NjhhYTY3MDk3MjhkMTYxODQ2LmJpbmRQb3B1cChwb3B1cF9jNDg3YzVjMDkyMDY0OWE1ODAzZjFiYTRjODg1YTgwMik7CgogICAgICAgICAgICAKICAgICAgICAKICAgIAogICAgICAgICAgICB2YXIgY2lyY2xlX21hcmtlcl84MmFmYTQ1YTExZDI0MzI0YmE5MjIzNWQ4NzEyMTJmMSA9IEwuY2lyY2xlTWFya2VyKAogICAgICAgICAgICAgICAgWzE4Ljk5LDcyLjg0XSwKICAgICAgICAgICAgICAgIHsKICAiYnViYmxpbmdNb3VzZUV2ZW50cyI6IHRydWUsCiAgImNvbG9yIjogImdyZWVuIiwKICAiZGFzaEFycmF5IjogbnVsbCwKICAiZGFzaE9mZnNldCI6IG51bGwsCiAgImZpbGwiOiB0cnVlLAogICJmaWxsQ29sb3IiOiAiZ3JlZW4iLAogICJmaWxsT3BhY2l0eSI6IDAuNiwKICAiZmlsbFJ1bGUiOiAiZXZlbm9kZCIsCiAgImxpbmVDYXAiOiAicm91bmQiLAogICJsaW5lSm9pbiI6ICJyb3VuZCIsCiAgIm9wYWNpdHkiOiAxLjAsCiAgInJhZGl1cyI6IDUsCiAgInN0cm9rZSI6IHRydWUsCiAgIndlaWdodCI6IDMKfQogICAgICAgICAgICAgICAgKS5hZGRUbyhtYXBfZTllMjM5ZjRhODVhNGFmM2IzZjc4YWI1NTEzZmNlODgpOwogICAgICAgICAgICAKICAgIAogICAgICAgICAgICB2YXIgcG9wdXBfNDE4NmFiZDAwMjhjNGQzNWI4NTNlMjU4ZjQ2NzBhY2YgPSBMLnBvcHVwKHttYXhXaWR0aDogJzMwMCd9KTsKCiAgICAgICAgICAgIAogICAgICAgICAgICAgICAgdmFyIGh0bWxfNDc0NDI0NjZlNjVhNDlhNWExMDVjMDkzMzZkZmExMzIgPSAkKCc8ZGl2IGlkPSJodG1sXzQ3NDQyNDY2ZTY1YTQ5YTVhMTA1YzA5MzM2ZGZhMTMyIiBzdHlsZT0id2lkdGg6IDEwMC4wJTsgaGVpZ2h0OiAxMDAuMCU7Ij5QYXJlbDwvZGl2PicpWzBdOwogICAgICAgICAgICAgICAgcG9wdXBfNDE4NmFiZDAwMjhjNGQzNWI4NTNlMjU4ZjQ2NzBhY2Yuc2V0Q29udGVudChodG1sXzQ3NDQyNDY2ZTY1YTQ5YTVhMTA1YzA5MzM2ZGZhMTMyKTsKICAgICAgICAgICAgCgogICAgICAgICAgICBjaXJjbGVfbWFya2VyXzgyYWZhNDVhMTFkMjQzMjRiYTkyMjM1ZDg3MTIxMmYxLmJpbmRQb3B1cChwb3B1cF80MTg2YWJkMDAyOGM0ZDM1Yjg1M2UyNThmNDY3MGFjZik7CgogICAgICAgICAgICAKICAgICAgICAKICAgIAogICAgICAgICAgICB2YXIgY2lyY2xlX21hcmtlcl8xYjc3YjE4YTBhYjM0MWUzYjBiZjRlNjliNjBhZWNjZCA9IEwuY2lyY2xlTWFya2VyKAogICAgICAgICAgICAgICAgWzE4Ljk2OSw3Mi44MTNdLAogICAgICAgICAgICAgICAgewogICJidWJibGluZ01vdXNlRXZlbnRzIjogdHJ1ZSwKICAiY29sb3IiOiAiZ3JlZW4iLAogICJkYXNoQXJyYXkiOiBudWxsLAogICJkYXNoT2Zmc2V0IjogbnVsbCwKICAiZmlsbCI6IHRydWUsCiAgImZpbGxDb2xvciI6ICJncmVlbiIsCiAgImZpbGxPcGFjaXR5IjogMC42LAogICJmaWxsUnVsZSI6ICJldmVub2RkIiwKICAibGluZUNhcCI6ICJyb3VuZCIsCiAgImxpbmVKb2luIjogInJvdW5kIiwKICAib3BhY2l0eSI6IDEuMCwKICAicmFkaXVzIjogNSwKICAic3Ryb2tlIjogdHJ1ZSwKICAid2VpZ2h0IjogMwp9CiAgICAgICAgICAgICAgICApLmFkZFRvKG1hcF9lOWUyMzlmNGE4NWE0YWYzYjNmNzhhYjU1MTNmY2U4OCk7CiAgICAgICAgICAgIAogICAgCiAgICAgICAgICAgIHZhciBwb3B1cF9jMDU0ZTJhMTg5Mjk0MzdkYmIxOWUyODczMDAzODE0OCA9IEwucG9wdXAoe21heFdpZHRoOiAnMzAwJ30pOwoKICAgICAgICAgICAgCiAgICAgICAgICAgICAgICB2YXIgaHRtbF8yMjgxZTM2NTViNTE0ZTNjYWFiMzAxODcxZGRjMGVjZCA9ICQoJzxkaXYgaWQ9Imh0bWxfMjI4MWUzNjU1YjUxNGUzY2FhYjMwMTg3MWRkYzBlY2QiIHN0eWxlPSJ3aWR0aDogMTAwLjAlOyBoZWlnaHQ6IDEwMC4wJTsiPlRhcmRlbzwvZGl2PicpWzBdOwogICAgICAgICAgICAgICAgcG9wdXBfYzA1NGUyYTE4OTI5NDM3ZGJiMTllMjg3MzAwMzgxNDguc2V0Q29udGVudChodG1sXzIyODFlMzY1NWI1MTRlM2NhYWIzMDE4NzFkZGMwZWNkKTsKICAgICAgICAgICAgCgogICAgICAgICAgICBjaXJjbGVfbWFya2VyXzFiNzdiMThhMGFiMzQxZTNiMGJmNGU2OWI2MGFlY2NkLmJpbmRQb3B1cChwb3B1cF9jMDU0ZTJhMTg5Mjk0MzdkYmIxOWUyODczMDAzODE0OCk7CgogICAgICAgICAgICAKICAgICAgICAKPC9zY3JpcHQ+ onload=\"this.contentDocument.open();this.contentDocument.write(atob(this.getAttribute('data-html')));this.contentDocument.close();\" allowfullscreen webkitallowfullscreen mozallowfullscreen></iframe></div></div>"
      ],
      "text/plain": [
       "<folium.folium.Map at 0x21fd6825b08>"
      ]
     },
     "execution_count": 4,
     "metadata": {},
     "output_type": "execute_result"
    }
   ],
   "source": [
    "venues_map = folium.Map(location=[latitude, longitude], zoom_start=10)\n",
    "for lat, lng, label, zone in zip(df.Latitude, df.Longitude, df.Neighborhood, df.Suburbs_Zone):\n",
    "    folium.features.CircleMarker(\n",
    "        [lat, lng],\n",
    "        radius=5,\n",
    "        color=colors_old[zone],\n",
    "        popup=label,\n",
    "        fill = True,\n",
    "        fill_color=colors_old[zone],\n",
    "        fill_opacity=0.6\n",
    "    ).add_to(venues_map)\n",
    "    \n",
    "venues_map"
   ]
  },
  {
   "cell_type": "markdown",
   "metadata": {},
   "source": [
    "#### Define Foursquare Credentials and Version"
   ]
  },
  {
   "cell_type": "code",
   "execution_count": 5,
   "metadata": {},
   "outputs": [
    {
     "name": "stdout",
     "output_type": "stream",
     "text": [
      "Your credentails:\n",
      "CLIENT_ID: WZXGGFYR4BVJAFMNNNS2QBSQBPHNDRW2TWAVESILDLYCW552\n",
      "CLIENT_SECRET:XGNR3QG4HZGSA5QBU0FCKFUJFD5DQXHPWROG14KOQSG1DKKH\n"
     ]
    }
   ],
   "source": [
    "CLIENT_ID = 'WZXGGFYR4BVJAFMNNNS2QBSQBPHNDRW2TWAVESILDLYCW552' # your Foursquare ID\n",
    "CLIENT_SECRET = 'XGNR3QG4HZGSA5QBU0FCKFUJFD5DQXHPWROG14KOQSG1DKKH' # your Foursquare Secret\n",
    "VERSION = '20180604' # Foursquare API version\n",
    "\n",
    "print('Your credentails:')\n",
    "print('CLIENT_ID: ' + CLIENT_ID)\n",
    "print('CLIENT_SECRET:' + CLIENT_SECRET)"
   ]
  },
  {
   "cell_type": "markdown",
   "metadata": {},
   "source": [
    "# Explore Neighborhoods in Mumbai"
   ]
  },
  {
   "cell_type": "markdown",
   "metadata": {},
   "source": [
    "#### Let's create a function to repeat the same process to all the neighborhoods."
   ]
  },
  {
   "cell_type": "code",
   "execution_count": 6,
   "metadata": {},
   "outputs": [],
   "source": [
    "def getNearbyVenues(names, latitudes, longitudes, radius=500):\n",
    "    LIMIT = 100 # limit of number of venues returned by Foursquare API\n",
    "    radius = 500 # define radius\n",
    "    venues_list=[]\n",
    "    for name, lat, lng in zip(names, latitudes, longitudes):\n",
    "        print(name)\n",
    "            \n",
    "        # create the API request URL\n",
    "        url = 'https://api.foursquare.com/v2/venues/explore?&client_id={}&client_secret={}&v={}&ll={},{}&radius={}&limit={}'.format(\n",
    "            CLIENT_ID, \n",
    "            CLIENT_SECRET, \n",
    "            VERSION, \n",
    "            lat, \n",
    "            lng, \n",
    "            radius, \n",
    "            LIMIT)\n",
    "            \n",
    "        # make the GET request\n",
    "        results = requests.get(url).json()[\"response\"]['groups'][0]['items']\n",
    "        \n",
    "        # return only relevant information for each nearby venue\n",
    "        venues_list.append([(\n",
    "            name, \n",
    "            lat, \n",
    "            lng, \n",
    "            v['venue']['name'], \n",
    "            v['venue']['location']['lat'], \n",
    "            v['venue']['location']['lng'],  \n",
    "            v['venue']['categories'][0]['name']) for v in results])\n",
    "\n",
    "    nearby_venues = pd.DataFrame([item for venue_list in venues_list for item in venue_list])\n",
    "    nearby_venues.columns = ['Neighborhood', \n",
    "                  'Neighborhood Latitude', \n",
    "                  'Neighborhood Longitude', \n",
    "                  'Venue', \n",
    "                  'Venue Latitude', \n",
    "                  'Venue Longitude', \n",
    "                  'Venue Category']\n",
    "    return(nearby_venues)"
   ]
  },
  {
   "cell_type": "code",
   "execution_count": null,
   "metadata": {},
   "outputs": [
    {
     "name": "stdout",
     "output_type": "stream",
     "text": [
      "Andheri\n",
      "Marol\n",
      "Bhayandar\n",
      "Bandra\n",
      "Borivali (West)\n",
      "Borivali (East)\n",
      "Dahisar\n",
      "Goregaon\n",
      "Jogeshwari\n",
      "Juhu\n",
      "Kandivali west\n",
      "Kandivali east\n",
      "Khar\n",
      "Malad\n",
      "Santacruz\n",
      "Vasai\n",
      "Naigaon\n",
      "Nalasopara\n",
      "Virar\n",
      "Vile Parle\n",
      "Bhandup\n",
      "Ghatkopar\n",
      "Kanjurmarg\n",
      "Kurla\n",
      "Mulund\n",
      "Powai\n",
      "Vidyavihar\n",
      "Vikhroli\n",
      "Chembur\n",
      "Govandi\n",
      "Mankhurd\n",
      "Trombay\n",
      "Agripada\n",
      "Churchgate\n",
      "Cotton Green\n",
      "Cuffe Parade\n",
      "Cumbala Hill\n",
      "Dhobitalao\n",
      "Dongri\n",
      "Kala Ghoda\n",
      "Lower Parel\n",
      "Mahalaxmi\n",
      "Mahim\n",
      "Malabar Hill\n",
      "Marine Lines\n",
      "Mumbai Central\n",
      "Nariman Point\n",
      "Prabhadevi\n",
      "Sion\n",
      "Worli\n",
      "Dharavi\n",
      "Koliwada\n",
      "Kumbarwara\n",
      "Antop Hill\n",
      "Byculla\n",
      "Colaba\n"
     ]
    }
   ],
   "source": [
    "mumbai_venues = getNearbyVenues(names=df['Neighborhood'],\n",
    "                                   latitudes=df['Latitude'],\n",
    "                                   longitudes=df['Longitude']\n",
    "                                  )"
   ]
  },
  {
   "cell_type": "markdown",
   "metadata": {},
   "source": [
    "#### Let's check the size of the resulting dataframe"
   ]
  },
  {
   "cell_type": "code",
   "execution_count": null,
   "metadata": {},
   "outputs": [],
   "source": [
    "print(mumbai_venues.shape)\n",
    "type(mumbai_venues)"
   ]
  },
  {
   "cell_type": "markdown",
   "metadata": {},
   "source": [
    "Let's check how many venues were returned for each neighborhood"
   ]
  },
  {
   "cell_type": "code",
   "execution_count": null,
   "metadata": {},
   "outputs": [],
   "source": [
    "mumbai_venues.groupby('Neighborhood').count()"
   ]
  },
  {
   "cell_type": "markdown",
   "metadata": {},
   "source": [
    "#### Let's find out how many unique categories can be curated from all the returned venues"
   ]
  },
  {
   "cell_type": "code",
   "execution_count": null,
   "metadata": {},
   "outputs": [],
   "source": [
    "print('There are {} uniques categories.'.format(len(mumbai_venues['Venue Category'].unique())))"
   ]
  },
  {
   "cell_type": "markdown",
   "metadata": {},
   "source": [
    "# Analyze Each Neighborhood"
   ]
  },
  {
   "cell_type": "code",
   "execution_count": null,
   "metadata": {},
   "outputs": [],
   "source": [
    "# one hot encoding\n",
    "mumbai_onehot = pd.get_dummies(mumbai_venues[['Venue Category']], prefix=\"\", prefix_sep=\"\")\n",
    "\n",
    "# add neighborhood column back to dataframe\n",
    "mumbai_onehot['Neighborhood'] = mumbai_venues['Neighborhood'] \n",
    "\n",
    "# move neighborhood column to the first column\n",
    "fixed_columns = [mumbai_onehot.columns[-1]] + list(mumbai_onehot.columns[:-1])\n",
    "mumbai_onehot = mumbai_onehot[fixed_columns]\n",
    "\n",
    "mumbai_onehot.head()"
   ]
  },
  {
   "cell_type": "markdown",
   "metadata": {},
   "source": [
    "And let's examine the new dataframe size."
   ]
  },
  {
   "cell_type": "code",
   "execution_count": null,
   "metadata": {},
   "outputs": [],
   "source": [
    "mumbai_onehot.shape"
   ]
  },
  {
   "cell_type": "markdown",
   "metadata": {},
   "source": [
    "#### Next, let's group rows by neighborhood and by taking the mean of the frequency of occurrence of each category"
   ]
  },
  {
   "cell_type": "code",
   "execution_count": null,
   "metadata": {},
   "outputs": [],
   "source": [
    "mumbai_grouped = mumbai_onehot.groupby('Neighborhood').mean().reset_index()\n",
    "mumbai_grouped"
   ]
  },
  {
   "cell_type": "markdown",
   "metadata": {},
   "source": [
    "#### Let's confirm the new size"
   ]
  },
  {
   "cell_type": "code",
   "execution_count": null,
   "metadata": {},
   "outputs": [],
   "source": [
    "mumbai_grouped.shape"
   ]
  },
  {
   "cell_type": "markdown",
   "metadata": {},
   "source": [
    "#### Let's print each neighborhood along with the top 5 most common venues"
   ]
  },
  {
   "cell_type": "code",
   "execution_count": null,
   "metadata": {},
   "outputs": [],
   "source": [
    "num_top_venues = 5\n",
    "\n",
    "for hood in mumbai_grouped['Neighborhood']:\n",
    "    print(\"----\"+hood+\"----\")\n",
    "    temp = mumbai_grouped[mumbai_grouped['Neighborhood'] == hood].T.reset_index()\n",
    "    temp.columns = ['venue','freq']\n",
    "    temp = temp.iloc[1:]\n",
    "    temp['freq'] = temp['freq'].astype(float)\n",
    "    temp = temp.round({'freq': 2})\n",
    "    print(temp.sort_values('freq', ascending=False).reset_index(drop=True).head(num_top_venues))\n",
    "    print('\\n')"
   ]
  },
  {
   "cell_type": "markdown",
   "metadata": {},
   "source": [
    "#### Let's put that into a pandas dataframe"
   ]
  },
  {
   "cell_type": "markdown",
   "metadata": {},
   "source": [
    "First, let's write a function to sort the venues in descending order."
   ]
  },
  {
   "cell_type": "code",
   "execution_count": null,
   "metadata": {},
   "outputs": [],
   "source": [
    "def return_most_common_venues(row, num_top_venues):\n",
    "    row_categories = row.iloc[1:]\n",
    "    row_categories_sorted = row_categories.sort_values(ascending=False)\n",
    "    \n",
    "    return row_categories_sorted.index.values[0:num_top_venues]"
   ]
  },
  {
   "cell_type": "markdown",
   "metadata": {},
   "source": [
    "Now let's create the new dataframe and display the top 10 venues for each neighborhood."
   ]
  },
  {
   "cell_type": "code",
   "execution_count": null,
   "metadata": {},
   "outputs": [],
   "source": [
    "num_top_venues = 10\n",
    "\n",
    "indicators = ['st', 'nd', 'rd']\n",
    "\n",
    "# create columns according to number of top venues\n",
    "columns = ['Neighborhood']\n",
    "for ind in np.arange(num_top_venues):\n",
    "    try:\n",
    "        columns.append('{}{} Most Common Venue'.format(ind+1, indicators[ind]))\n",
    "    except:\n",
    "        columns.append('{}th Most Common Venue'.format(ind+1))\n",
    "\n",
    "# create a new dataframe\n",
    "neighborhoods_venues_sorted = pd.DataFrame(columns=columns)\n",
    "neighborhoods_venues_sorted['Neighborhood'] = mumbai_grouped['Neighborhood']\n",
    "\n",
    "for ind in np.arange(mumbai_grouped.shape[0]):\n",
    "    neighborhoods_venues_sorted.iloc[ind, 1:] = return_most_common_venues(mumbai_grouped.iloc[ind, :], num_top_venues)\n",
    "\n",
    "neighborhoods_venues_sorted.head()"
   ]
  },
  {
   "cell_type": "markdown",
   "metadata": {},
   "source": [
    "# Cluster Neighborhoods"
   ]
  },
  {
   "cell_type": "markdown",
   "metadata": {},
   "source": [
    "Run k-means to cluster the neighborhood into 5 clusters."
   ]
  },
  {
   "cell_type": "code",
   "execution_count": null,
   "metadata": {},
   "outputs": [],
   "source": [
    "# set number of clusters\n",
    "kclusters = 5\n",
    "\n",
    "mumbai_grouped_clustering = mumbai_grouped.drop('Neighborhood', 1)\n",
    "\n",
    "# run k-means clustering\n",
    "kmeans = KMeans(n_clusters=kclusters, random_state=0).fit(mumbai_grouped_clustering)\n",
    "\n",
    "# check cluster labels generated for each row in the dataframe\n",
    "kmeans.labels_[0:10]"
   ]
  },
  {
   "cell_type": "markdown",
   "metadata": {},
   "source": [
    "Let's create a new dataframe that includes the cluster as well as the top 10 venues for each neighborhood."
   ]
  },
  {
   "cell_type": "code",
   "execution_count": null,
   "metadata": {},
   "outputs": [],
   "source": [
    "# add clustering labels\n",
    "neighborhoods_venues_sorted.insert(0, 'Cluster Labels', kmeans.labels_)\n",
    "\n",
    "mumbai_merged = df\n",
    "\n",
    "# merge toronto_grouped with toronto_data to add latitude/longitude for each neighborhood\n",
    "mumbai_merged = mumbai_merged.join(neighborhoods_venues_sorted.set_index('Neighborhood'), on='Neighborhood')\n",
    "\n",
    "\n",
    "\n",
    "# check the last columns!\n",
    "mumbai_merged#.head()"
   ]
  },
  {
   "cell_type": "markdown",
   "metadata": {},
   "source": [
    "Finally, let's visualize the resulting clusters"
   ]
  },
  {
   "cell_type": "code",
   "execution_count": null,
   "metadata": {},
   "outputs": [],
   "source": [
    "mumbai_merged=mumbai_merged.dropna()\n",
    "#int(mumbai_merged['Cluster Labels'][0])"
   ]
  },
  {
   "cell_type": "code",
   "execution_count": null,
   "metadata": {},
   "outputs": [],
   "source": [
    "mumbai_merged"
   ]
  },
  {
   "cell_type": "code",
   "execution_count": null,
   "metadata": {},
   "outputs": [],
   "source": [
    "# create map\n",
    "map_clusters = folium.Map(location=[latitude, longitude], zoom_start=11)\n",
    "\n",
    "# set color scheme for the clusters\n",
    "x = np.arange(kclusters)\n",
    "ys = [i + x + (i*x)**2 for i in range(kclusters)]\n",
    "colors_array = cm.rainbow(np.linspace(0, 1, len(ys)))\n",
    "rainbow = [colors.rgb2hex(i) for i in colors_array]\n",
    "\n",
    "# add markers to the map\n",
    "markers_colors = []\n",
    "for lat, lon, poi, cluster in zip(mumbai_merged['Latitude'], mumbai_merged['Longitude'], mumbai_merged['Neighborhood'], mumbai_merged['Cluster Labels']):\n",
    "    label = folium.Popup(str(poi) + ' Cluster ' + str(cluster), parse_html=True)\n",
    "    colorid=int(cluster)\n",
    "    folium.CircleMarker(\n",
    "        [lat, lon],\n",
    "        radius=5,\n",
    "        popup=label,\n",
    "        color=rainbow[colorid],\n",
    "        fill=True,\n",
    "        fill_color=rainbow[colorid],\n",
    "        fill_opacity=0.7).add_to(map_clusters)\n",
    "       \n",
    "map_clusters"
   ]
  },
  {
   "cell_type": "markdown",
   "metadata": {},
   "source": [
    "# Examine Clusters"
   ]
  },
  {
   "cell_type": "markdown",
   "metadata": {},
   "source": [
    "Now, you can examine each cluster and determine the discriminating venue categories that distinguish each cluster. Based on the defining categories, you can then assign a name to each cluster. I will leave this exercise to you."
   ]
  },
  {
   "cell_type": "markdown",
   "metadata": {},
   "source": [
    "### Cluster 1"
   ]
  },
  {
   "cell_type": "code",
   "execution_count": null,
   "metadata": {},
   "outputs": [],
   "source": [
    "mumbai_merged.loc[mumbai_merged['Cluster Labels'] == 0, mumbai_merged.columns[[1] + list(range(5, mumbai_merged.shape[1]))]]"
   ]
  },
  {
   "cell_type": "markdown",
   "metadata": {},
   "source": [
    "### Cluster 2"
   ]
  },
  {
   "cell_type": "code",
   "execution_count": null,
   "metadata": {},
   "outputs": [],
   "source": [
    "mumbai_merged.loc[mumbai_merged['Cluster Labels'] == 1, mumbai_merged.columns[[1] + list(range(5, mumbai_merged.shape[1]))]]"
   ]
  },
  {
   "cell_type": "markdown",
   "metadata": {},
   "source": [
    "### Cluster 3"
   ]
  },
  {
   "cell_type": "code",
   "execution_count": null,
   "metadata": {},
   "outputs": [],
   "source": [
    "mumbai_merged.loc[mumbai_merged['Cluster Labels'] == 2, mumbai_merged.columns[[1] + list(range(5, mumbai_merged.shape[1]))]]"
   ]
  },
  {
   "cell_type": "markdown",
   "metadata": {},
   "source": [
    "### Cluster 4"
   ]
  },
  {
   "cell_type": "code",
   "execution_count": null,
   "metadata": {},
   "outputs": [],
   "source": [
    "mumbai_merged.loc[mumbai_merged['Cluster Labels'] == 3, mumbai_merged.columns[[1] + list(range(5, mumbai_merged.shape[1]))]]"
   ]
  },
  {
   "cell_type": "markdown",
   "metadata": {},
   "source": [
    "### Cluster 5"
   ]
  },
  {
   "cell_type": "code",
   "execution_count": null,
   "metadata": {},
   "outputs": [],
   "source": [
    "mumbai_merged.loc[mumbai_merged['Cluster Labels'] == 4, mumbai_merged.columns[[1] + list(range(5, mumbai_merged.shape[1]))]]"
   ]
  },
  {
   "cell_type": "code",
   "execution_count": null,
   "metadata": {},
   "outputs": [],
   "source": []
  },
  {
   "cell_type": "code",
   "execution_count": null,
   "metadata": {},
   "outputs": [],
   "source": []
  }
 ],
 "metadata": {
  "kernelspec": {
   "display_name": "Python 3",
   "language": "python",
   "name": "python3"
  },
  "language_info": {
   "codemirror_mode": {
    "name": "ipython",
    "version": 3
   },
   "file_extension": ".py",
   "mimetype": "text/x-python",
   "name": "python",
   "nbconvert_exporter": "python",
   "pygments_lexer": "ipython3",
   "version": "3.7.4"
  }
 },
 "nbformat": 4,
 "nbformat_minor": 4
}
